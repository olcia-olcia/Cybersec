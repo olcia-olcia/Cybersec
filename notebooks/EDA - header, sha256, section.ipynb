{
 "cells": [
  {
   "cell_type": "code",
   "execution_count": 1,
   "id": "unauthorized-damages",
   "metadata": {},
   "outputs": [],
   "source": [
    "import pandas as pd    \n",
    "import seaborn as sns\n",
    "import matplotlib.pyplot as plt\n",
    "from scipy import stats"
   ]
  },
  {
   "cell_type": "code",
   "execution_count": 2,
   "id": "joint-jordan",
   "metadata": {},
   "outputs": [],
   "source": [
    "# this helps with scrolling df\n",
    "pd.set_option('display.max_rows', 500)\n",
    "pd.set_option('display.max_columns', 500)\n",
    "pd.set_option('display.width', 1000)\n",
    "pd.set_option('display.float_format', '{:.2f}'.format)"
   ]
  },
  {
   "cell_type": "code",
   "execution_count": 23,
   "id": "rental-funds",
   "metadata": {},
   "outputs": [],
   "source": [
    "# function for data manipulation \n",
    "def df_unpack_list(df_column):\n",
    "    \"\"\"\n",
    "    Args:\n",
    "        df_column: column from dataframe in format df['column']\n",
    "\n",
    "    Returns:\n",
    "        pivoted: df with unpacked list to columns\n",
    "    \"\"\"\n",
    "    # extract series name\n",
    "    series_name = df_column.name\n",
    "    \n",
    "    # unpack list and bring it into dataframe with 0,1 values\n",
    "    exploded_list = pd.DataFrame(df_column.explode(), index = df_column.explode().index)\n",
    "    exploded_list.fillna('empty', inplace = True)\n",
    "    exploded_list['values'] = 1\n",
    "    pivoted = exploded_list.pivot(columns=series_name, values='values')\n",
    "    pivoted.fillna(0, inplace = True)\n",
    "    \n",
    "    # adjust colum names\n",
    "    column_names = [series_name + '.' + col.lower() for col in pivoted.columns]\n",
    "    pivoted.columns = column_names\n",
    "    \n",
    "    return pivoted\n",
    "    "
   ]
  },
  {
   "cell_type": "code",
   "execution_count": 3,
   "id": "congressional-dispatch",
   "metadata": {},
   "outputs": [],
   "source": [
    "# function for plots\n",
    "\n",
    "def plot_histogram(df, variable, density = False):\n",
    "    \"\"\"\n",
    "    Args:\n",
    "        df: data frame with categoretical variable and label named as \"label\"\n",
    "        column: string - name of column with categorical data\n",
    "        \n",
    "    Returns:\n",
    "        prints histogram based on label split\n",
    "    \n",
    "    \"\"\"\n",
    "    plt.tight_layout() \n",
    "    plt.figure(figsize=(8,6))\n",
    "    sns.countplot(x=variable, hue=\"label\", data=df, palette=\"hls\")\n",
    "    plt.title(\"Count of label vs size bins\",fontsize=20)\n",
    "    plt.xlabel(\"Bin size\",fontsize=15)\n",
    "    plt.ylabel(\"Count\",fontsize=15)\n",
    "    plt.xticks(rotation=45)\n",
    "    plt.legend(['non-malware','malware'],loc='upper right')\n",
    "    \n",
    "    plt.show()\n",
    "\n",
    "from scipy.stats import chi2  \n",
    "\n",
    "def chi_2(df, variable):\n",
    "    \n",
    "    cross_table = pd.crosstab(df['label'],df[variable])\n",
    "    chi2, p, dof, ex = stats.chi2_contingency(cross_table) \n",
    "    alpha = 0.05\n",
    "    \n",
    "\n",
    "    print('chi_2 statistic: {:.2f}'.format(chi2))\n",
    "    print('p_value: {:.2f}'.format(p))\n",
    "    print(\"significant level\", alpha)\n",
    "    \n",
    "    if p <=alpha:\n",
    "        print('Reject H0, variables have dependency')\n",
    "    else:\n",
    "        print('Do not reject H0')\n",
    "\n",
    "def plot_chi(df, variable):\n",
    "    plot_histogram(df, variable)\n",
    "    chi_2(df, variable)"
   ]
  },
  {
   "cell_type": "code",
   "execution_count": 4,
   "id": "sharing-wealth",
   "metadata": {},
   "outputs": [],
   "source": [
    "# import JSON\n",
    "df_all = pd.read_json('sample_data_6k.jsonl', lines=True)"
   ]
  },
  {
   "cell_type": "code",
   "execution_count": 5,
   "id": "supposed-departure",
   "metadata": {},
   "outputs": [],
   "source": [
    "df = df_all[df_all.label!=-1].copy()"
   ]
  },
  {
   "cell_type": "code",
   "execution_count": 6,
   "id": "serious-topic",
   "metadata": {},
   "outputs": [
    {
     "data": {
      "text/plain": [
       "0    2750\n",
       "1    1932\n",
       "Name: label, dtype: int64"
      ]
     },
     "execution_count": 6,
     "metadata": {},
     "output_type": "execute_result"
    }
   ],
   "source": [
    "df.label.value_counts()"
   ]
  },
  {
   "cell_type": "code",
   "execution_count": 7,
   "id": "found-medicaid",
   "metadata": {},
   "outputs": [],
   "source": [
    "sample = pd.concat([df[df.label==1], df[df.label==0].sample(1932,random_state=3)])"
   ]
  },
  {
   "cell_type": "code",
   "execution_count": 8,
   "id": "residential-belfast",
   "metadata": {},
   "outputs": [
    {
     "data": {
      "text/plain": [
       "0    1932\n",
       "1    1932\n",
       "Name: label, dtype: int64"
      ]
     },
     "execution_count": 8,
     "metadata": {},
     "output_type": "execute_result"
    }
   ],
   "source": [
    "# shape looks ok \n",
    "sample.label.value_counts()\n"
   ]
  },
  {
   "cell_type": "code",
   "execution_count": 9,
   "id": "extended-columbia",
   "metadata": {},
   "outputs": [
    {
     "data": {
      "text/html": [
       "<div>\n",
       "<style scoped>\n",
       "    .dataframe tbody tr th:only-of-type {\n",
       "        vertical-align: middle;\n",
       "    }\n",
       "\n",
       "    .dataframe tbody tr th {\n",
       "        vertical-align: top;\n",
       "    }\n",
       "\n",
       "    .dataframe thead th {\n",
       "        text-align: right;\n",
       "    }\n",
       "</style>\n",
       "<table border=\"1\" class=\"dataframe\">\n",
       "  <thead>\n",
       "    <tr style=\"text-align: right;\">\n",
       "      <th></th>\n",
       "      <th>sha256</th>\n",
       "      <th>md5</th>\n",
       "      <th>appeared</th>\n",
       "      <th>label</th>\n",
       "      <th>avclass</th>\n",
       "      <th>histogram</th>\n",
       "      <th>byteentropy</th>\n",
       "      <th>strings</th>\n",
       "      <th>general</th>\n",
       "      <th>header</th>\n",
       "      <th>section</th>\n",
       "      <th>imports</th>\n",
       "      <th>exports</th>\n",
       "      <th>datadirectories</th>\n",
       "    </tr>\n",
       "  </thead>\n",
       "  <tbody>\n",
       "    <tr>\n",
       "      <th>0</th>\n",
       "      <td>0abb4fda7d5b13801d63bee53e5e256be43e141faa077a...</td>\n",
       "      <td>63956d6417f8f43357d9a8e79e52257e</td>\n",
       "      <td>2006-12</td>\n",
       "      <td>0</td>\n",
       "      <td></td>\n",
       "      <td>[45521, 13095, 12167, 12496, 12429, 11709, 118...</td>\n",
       "      <td>[0, 0, 0, 0, 0, 0, 0, 0, 0, 0, 0, 0, 0, 0, 0, ...</td>\n",
       "      <td>{'numstrings': 14573, 'avlength': 5.9720716393...</td>\n",
       "      <td>{'size': 3101705, 'vsize': 380928, 'has_debug'...</td>\n",
       "      <td>{'coff': {'timestamp': 1124149349, 'machine': ...</td>\n",
       "      <td>{'entry': '.text', 'sections': [{'name': '.tex...</td>\n",
       "      <td>{'KERNEL32.dll': ['SetFileTime', 'CompareFileT...</td>\n",
       "      <td>[]</td>\n",
       "      <td>[{'name': 'EXPORT_TABLE', 'size': 0, 'virtual_...</td>\n",
       "    </tr>\n",
       "    <tr>\n",
       "      <th>1</th>\n",
       "      <td>c9cafff8a596ba8a80bafb4ba8ae6f2ef3329d95b85f15...</td>\n",
       "      <td>6f7bde7a1126debf0cc359a54953efc1</td>\n",
       "      <td>2007-01</td>\n",
       "      <td>0</td>\n",
       "      <td></td>\n",
       "      <td>[93059, 15789, 2871, 3005, 4107, 1771, 2918, 4...</td>\n",
       "      <td>[47100, 2, 0, 0, 0, 0, 2, 0, 0, 0, 0, 0, 0, 0,...</td>\n",
       "      <td>{'numstrings': 1803, 'avlength': 11.1913477537...</td>\n",
       "      <td>{'size': 504320, 'vsize': 524288, 'has_debug':...</td>\n",
       "      <td>{'coff': {'timestamp': 1091600092, 'machine': ...</td>\n",
       "      <td>{'entry': '.text', 'sections': [{'name': '.tex...</td>\n",
       "      <td>{'ADVAPI32.dll': ['ConvertStringSecurityDescri...</td>\n",
       "      <td>[]</td>\n",
       "      <td>[{'name': 'EXPORT_TABLE', 'size': 0, 'virtual_...</td>\n",
       "    </tr>\n",
       "  </tbody>\n",
       "</table>\n",
       "</div>"
      ],
      "text/plain": [
       "                                              sha256                               md5 appeared  label avclass                                          histogram                                        byteentropy                                            strings                                            general                                             header                                            section                                            imports exports                                    datadirectories\n",
       "0  0abb4fda7d5b13801d63bee53e5e256be43e141faa077a...  63956d6417f8f43357d9a8e79e52257e  2006-12      0          [45521, 13095, 12167, 12496, 12429, 11709, 118...  [0, 0, 0, 0, 0, 0, 0, 0, 0, 0, 0, 0, 0, 0, 0, ...  {'numstrings': 14573, 'avlength': 5.9720716393...  {'size': 3101705, 'vsize': 380928, 'has_debug'...  {'coff': {'timestamp': 1124149349, 'machine': ...  {'entry': '.text', 'sections': [{'name': '.tex...  {'KERNEL32.dll': ['SetFileTime', 'CompareFileT...      []  [{'name': 'EXPORT_TABLE', 'size': 0, 'virtual_...\n",
       "1  c9cafff8a596ba8a80bafb4ba8ae6f2ef3329d95b85f15...  6f7bde7a1126debf0cc359a54953efc1  2007-01      0          [93059, 15789, 2871, 3005, 4107, 1771, 2918, 4...  [47100, 2, 0, 0, 0, 0, 2, 0, 0, 0, 0, 0, 0, 0,...  {'numstrings': 1803, 'avlength': 11.1913477537...  {'size': 504320, 'vsize': 524288, 'has_debug':...  {'coff': {'timestamp': 1091600092, 'machine': ...  {'entry': '.text', 'sections': [{'name': '.tex...  {'ADVAPI32.dll': ['ConvertStringSecurityDescri...      []  [{'name': 'EXPORT_TABLE', 'size': 0, 'virtual_..."
      ]
     },
     "execution_count": 9,
     "metadata": {},
     "output_type": "execute_result"
    }
   ],
   "source": [
    "# let's print some data\n",
    "df.head(2)"
   ]
  },
  {
   "cell_type": "markdown",
   "id": "ongoing-pledge",
   "metadata": {},
   "source": [
    "### Variable sha256"
   ]
  },
  {
   "cell_type": "code",
   "execution_count": 25,
   "id": "civil-exclusive",
   "metadata": {},
   "outputs": [
    {
     "data": {
      "text/plain": [
       "6000"
      ]
     },
     "execution_count": 25,
     "metadata": {},
     "output_type": "execute_result"
    }
   ],
   "source": [
    "df.sha256.nunique() # all hashes are unique, good candidate for unique_id"
   ]
  },
  {
   "cell_type": "markdown",
   "id": "collected-webmaster",
   "metadata": {},
   "source": [
    "### Variable \"header\""
   ]
  },
  {
   "cell_type": "code",
   "execution_count": 104,
   "id": "agricultural-democrat",
   "metadata": {},
   "outputs": [],
   "source": [
    "header = pd.json_normalize(sample.header)"
   ]
  },
  {
   "cell_type": "code",
   "execution_count": 105,
   "id": "academic-explosion",
   "metadata": {},
   "outputs": [],
   "source": [
    "header['label']= sample.label"
   ]
  },
  {
   "cell_type": "code",
   "execution_count": 106,
   "id": "stock-spokesman",
   "metadata": {
    "scrolled": true
   },
   "outputs": [
    {
     "data": {
      "text/html": [
       "<div>\n",
       "<style scoped>\n",
       "    .dataframe tbody tr th:only-of-type {\n",
       "        vertical-align: middle;\n",
       "    }\n",
       "\n",
       "    .dataframe tbody tr th {\n",
       "        vertical-align: top;\n",
       "    }\n",
       "\n",
       "    .dataframe thead th {\n",
       "        text-align: right;\n",
       "    }\n",
       "</style>\n",
       "<table border=\"1\" class=\"dataframe\">\n",
       "  <thead>\n",
       "    <tr style=\"text-align: right;\">\n",
       "      <th></th>\n",
       "      <th>coff.timestamp</th>\n",
       "      <th>coff.machine</th>\n",
       "      <th>coff.characteristics</th>\n",
       "      <th>optional.subsystem</th>\n",
       "      <th>optional.dll_characteristics</th>\n",
       "      <th>optional.magic</th>\n",
       "      <th>optional.major_image_version</th>\n",
       "      <th>optional.minor_image_version</th>\n",
       "      <th>optional.major_linker_version</th>\n",
       "      <th>optional.minor_linker_version</th>\n",
       "      <th>optional.major_operating_system_version</th>\n",
       "      <th>optional.minor_operating_system_version</th>\n",
       "      <th>optional.major_subsystem_version</th>\n",
       "      <th>optional.minor_subsystem_version</th>\n",
       "      <th>optional.sizeof_code</th>\n",
       "      <th>optional.sizeof_headers</th>\n",
       "      <th>optional.sizeof_heap_commit</th>\n",
       "      <th>label</th>\n",
       "    </tr>\n",
       "  </thead>\n",
       "  <tbody>\n",
       "    <tr>\n",
       "      <th>0</th>\n",
       "      <td>1301832471</td>\n",
       "      <td>I386</td>\n",
       "      <td>[CHARA_32BIT_MACHINE, RELOCS_STRIPPED, EXECUTA...</td>\n",
       "      <td>WINDOWS_GUI</td>\n",
       "      <td>[]</td>\n",
       "      <td>PE32</td>\n",
       "      <td>0</td>\n",
       "      <td>0</td>\n",
       "      <td>2</td>\n",
       "      <td>50</td>\n",
       "      <td>4</td>\n",
       "      <td>0</td>\n",
       "      <td>4</td>\n",
       "      <td>0</td>\n",
       "      <td>8704</td>\n",
       "      <td>1024</td>\n",
       "      <td>4096</td>\n",
       "      <td>0.00</td>\n",
       "    </tr>\n",
       "    <tr>\n",
       "      <th>1</th>\n",
       "      <td>1511340343</td>\n",
       "      <td>I386</td>\n",
       "      <td>[CHARA_32BIT_MACHINE, EXECUTABLE_IMAGE]</td>\n",
       "      <td>WINDOWS_GUI</td>\n",
       "      <td>[DYNAMIC_BASE, NX_COMPAT, TERMINAL_SERVER_AWARE]</td>\n",
       "      <td>PE32</td>\n",
       "      <td>0</td>\n",
       "      <td>0</td>\n",
       "      <td>14</td>\n",
       "      <td>11</td>\n",
       "      <td>5</td>\n",
       "      <td>1</td>\n",
       "      <td>5</td>\n",
       "      <td>1</td>\n",
       "      <td>262144</td>\n",
       "      <td>1024</td>\n",
       "      <td>4096</td>\n",
       "      <td>0.00</td>\n",
       "    </tr>\n",
       "  </tbody>\n",
       "</table>\n",
       "</div>"
      ],
      "text/plain": [
       "   coff.timestamp coff.machine                               coff.characteristics optional.subsystem                      optional.dll_characteristics optional.magic  optional.major_image_version  optional.minor_image_version  optional.major_linker_version  optional.minor_linker_version  optional.major_operating_system_version  optional.minor_operating_system_version  optional.major_subsystem_version  optional.minor_subsystem_version  optional.sizeof_code  optional.sizeof_headers  optional.sizeof_heap_commit  label\n",
       "0      1301832471         I386  [CHARA_32BIT_MACHINE, RELOCS_STRIPPED, EXECUTA...        WINDOWS_GUI                                                []           PE32                             0                             0                              2                             50                                        4                                        0                                 4                                 0                  8704                     1024                         4096   0.00\n",
       "1      1511340343         I386            [CHARA_32BIT_MACHINE, EXECUTABLE_IMAGE]        WINDOWS_GUI  [DYNAMIC_BASE, NX_COMPAT, TERMINAL_SERVER_AWARE]           PE32                             0                             0                             14                             11                                        5                                        1                                 5                                 1                262144                     1024                         4096   0.00"
      ]
     },
     "execution_count": 106,
     "metadata": {},
     "output_type": "execute_result"
    }
   ],
   "source": [
    "header.head(2)"
   ]
  },
  {
   "cell_type": "code",
   "execution_count": 28,
   "id": "noble-trade",
   "metadata": {},
   "outputs": [
    {
     "data": {
      "text/plain": [
       "coff.timestamp                              int64\n",
       "coff.machine                               object\n",
       "coff.characteristics                       object\n",
       "optional.subsystem                         object\n",
       "optional.dll_characteristics               object\n",
       "optional.magic                             object\n",
       "optional.major_image_version                int64\n",
       "optional.minor_image_version                int64\n",
       "optional.major_linker_version               int64\n",
       "optional.minor_linker_version               int64\n",
       "optional.major_operating_system_version     int64\n",
       "optional.minor_operating_system_version     int64\n",
       "optional.major_subsystem_version            int64\n",
       "optional.minor_subsystem_version            int64\n",
       "optional.sizeof_code                        int64\n",
       "optional.sizeof_headers                     int64\n",
       "optional.sizeof_heap_commit                 int64\n",
       "dtype: object"
      ]
     },
     "execution_count": 28,
     "metadata": {},
     "output_type": "execute_result"
    }
   ],
   "source": [
    "header.dtypes"
   ]
  },
  {
   "cell_type": "markdown",
   "id": "decent-pepper",
   "metadata": {},
   "source": [
    "#### 2.  coff.machine"
   ]
  },
  {
   "cell_type": "code",
   "execution_count": 46,
   "id": "executed-fetish",
   "metadata": {},
   "outputs": [
    {
     "data": {
      "text/plain": [
       "I386     4347\n",
       "AMD64     325\n",
       "???         4\n",
       "ARMNT       2\n",
       "THUMB       1\n",
       "ARM         1\n",
       "IA64        1\n",
       "R4000       1\n",
       "Name: coff.machine, dtype: int64"
      ]
     },
     "execution_count": 46,
     "metadata": {},
     "output_type": "execute_result"
    }
   ],
   "source": [
    "header['coff.machine'].value_counts()"
   ]
  },
  {
   "cell_type": "code",
   "execution_count": 107,
   "id": "rotary-danish",
   "metadata": {},
   "outputs": [
    {
     "data": {
      "text/plain": [
       "<Figure size 432x288 with 0 Axes>"
      ]
     },
     "metadata": {},
     "output_type": "display_data"
    },
    {
     "data": {
      "image/png": "[encoded data removed]",
      "text/plain": [
       "<Figure size 576x432 with 1 Axes>"
      ]
     },
     "metadata": {
      "needs_background": "light"
     },
     "output_type": "display_data"
    },
    {
     "name": "stdout",
     "output_type": "stream",
     "text": [
      "chi_2 statistic: 4.83\n",
      "p_value: 0.31\n",
      "significant level 0.05\n",
      "Do not reject H0\n"
     ]
    }
   ],
   "source": [
    "plot_chi(header,'coff.machine')"
   ]
  },
  {
   "cell_type": "code",
   "execution_count": null,
   "id": "mighty-decline",
   "metadata": {},
   "outputs": [],
   "source": [
    "# Exclude from model"
   ]
  },
  {
   "cell_type": "markdown",
   "id": "demonstrated-narrow",
   "metadata": {},
   "source": [
    "### optional.subsystem"
   ]
  },
  {
   "cell_type": "code",
   "execution_count": 110,
   "id": "chemical-phone",
   "metadata": {},
   "outputs": [
    {
     "data": {
      "text/plain": [
       "<Figure size 432x288 with 0 Axes>"
      ]
     },
     "metadata": {},
     "output_type": "display_data"
    },
    {
     "data": {
      "image/png": "[encoded data removed]",
      "text/plain": [
       "<Figure size 576x432 with 1 Axes>"
      ]
     },
     "metadata": {
      "needs_background": "light"
     },
     "output_type": "display_data"
    },
    {
     "name": "stdout",
     "output_type": "stream",
     "text": [
      "chi_2 statistic: 26.41\n",
      "p_value: 0.00\n",
      "significant level 0.05\n",
      "Reject H0, variables have dependency\n"
     ]
    }
   ],
   "source": [
    "plot_chi(header,'optional.subsystem')\n",
    "# do not exclude"
   ]
  },
  {
   "cell_type": "code",
   "execution_count": 111,
   "id": "billion-queen",
   "metadata": {},
   "outputs": [
    {
     "data": {
      "text/plain": [
       "<Figure size 432x288 with 0 Axes>"
      ]
     },
     "metadata": {},
     "output_type": "display_data"
    },
    {
     "data": {
      "image/png": "[encoded data removed]",
      "text/plain": [
       "<Figure size 576x432 with 1 Axes>"
      ]
     },
     "metadata": {
      "needs_background": "light"
     },
     "output_type": "display_data"
    },
    {
     "name": "stdout",
     "output_type": "stream",
     "text": [
      "chi_2 statistic: 1.03\n",
      "p_value: 0.31\n",
      "significant level 0.05\n",
      "Do not reject H0\n"
     ]
    }
   ],
   "source": [
    "plot_chi(header,'optional.magic')\n",
    "#exclude from model"
   ]
  },
  {
   "cell_type": "markdown",
   "id": "atlantic-carry",
   "metadata": {},
   "source": [
    "### optional.major_image_version\t"
   ]
  },
  {
   "cell_type": "code",
   "execution_count": 113,
   "id": "nearby-craps",
   "metadata": {},
   "outputs": [
    {
     "data": {
      "text/plain": [
       "0        2861\n",
       "6         308\n",
       "1         211\n",
       "10        177\n",
       "5         170\n",
       "4          42\n",
       "3          19\n",
       "2          17\n",
       "40         16\n",
       "8          16\n",
       "7           7\n",
       "13          4\n",
       "502         3\n",
       "21315       2\n",
       "9           2\n",
       "11          1\n",
       "35          1\n",
       "58337       1\n",
       "1804        1\n",
       "76          1\n",
       "18          1\n",
       "16          1\n",
       "14          1\n",
       "2017        1\n",
       "Name: optional.major_image_version, dtype: int64"
      ]
     },
     "execution_count": 113,
     "metadata": {},
     "output_type": "execute_result"
    }
   ],
   "source": [
    "header['optional.major_image_version'].value_counts()"
   ]
  },
  {
   "cell_type": "code",
   "execution_count": 114,
   "id": "latest-vienna",
   "metadata": {},
   "outputs": [
    {
     "data": {
      "text/plain": [
       "<Figure size 432x288 with 0 Axes>"
      ]
     },
     "metadata": {},
     "output_type": "display_data"
    },
    {
     "data": {
      "image/png": "[encoded data removed]",
      "text/plain": [
       "<Figure size 576x432 with 1 Axes>"
      ]
     },
     "metadata": {
      "needs_background": "light"
     },
     "output_type": "display_data"
    },
    {
     "name": "stdout",
     "output_type": "stream",
     "text": [
      "chi_2 statistic: 51.39\n",
      "p_value: 0.00\n",
      "significant level 0.05\n",
      "Reject H0, variables have dependency\n"
     ]
    }
   ],
   "source": [
    "plot_chi(header,'optional.major_image_version')"
   ]
  },
  {
   "cell_type": "code",
   "execution_count": 115,
   "id": "following-painting",
   "metadata": {},
   "outputs": [
    {
     "data": {
      "text/plain": [
       "<Figure size 432x288 with 0 Axes>"
      ]
     },
     "metadata": {},
     "output_type": "display_data"
    },
    {
     "data": {
      "image/png": "[encoded data removed]",
      "text/plain": [
       "<Figure size 576x432 with 1 Axes>"
      ]
     },
     "metadata": {
      "needs_background": "light"
     },
     "output_type": "display_data"
    },
    {
     "name": "stdout",
     "output_type": "stream",
     "text": [
      "chi_2 statistic: 30.27\n",
      "p_value: 0.18\n",
      "significant level 0.05\n",
      "Do not reject H0\n"
     ]
    }
   ],
   "source": [
    "plot_chi(header,'optional.minor_image_version')"
   ]
  },
  {
   "cell_type": "code",
   "execution_count": 118,
   "id": "congressional-quarter",
   "metadata": {},
   "outputs": [
    {
     "data": {
      "text/plain": [
       "<Figure size 432x288 with 0 Axes>"
      ]
     },
     "metadata": {},
     "output_type": "display_data"
    },
    {
     "data": {
      "image/png": "[encoded data removed]",
      "text/plain": [
       "<Figure size 576x432 with 1 Axes>"
      ]
     },
     "metadata": {
      "needs_background": "light"
     },
     "output_type": "display_data"
    },
    {
     "name": "stdout",
     "output_type": "stream",
     "text": [
      "chi_2 statistic: 79.59\n",
      "p_value: 0.00\n",
      "significant level 0.05\n",
      "Reject H0, variables have dependency\n"
     ]
    }
   ],
   "source": [
    "plot_chi(header,'optional.major_linker_version')\n",
    "#include"
   ]
  },
  {
   "cell_type": "code",
   "execution_count": 120,
   "id": "korean-plasma",
   "metadata": {},
   "outputs": [
    {
     "data": {
      "text/plain": [
       "<Figure size 432x288 with 0 Axes>"
      ]
     },
     "metadata": {},
     "output_type": "display_data"
    },
    {
     "data": {
      "image/png": "[encoded data removed]",
      "text/plain": [
       "<Figure size 576x432 with 1 Axes>"
      ]
     },
     "metadata": {
      "needs_background": "light"
     },
     "output_type": "display_data"
    },
    {
     "name": "stdout",
     "output_type": "stream",
     "text": [
      "chi_2 statistic: 109.28\n",
      "p_value: 0.00\n",
      "significant level 0.05\n",
      "Reject H0, variables have dependency\n"
     ]
    }
   ],
   "source": [
    "plot_chi(header, 'optional.minor_linker_version')"
   ]
  },
  {
   "cell_type": "code",
   "execution_count": 121,
   "id": "divided-consumer",
   "metadata": {},
   "outputs": [
    {
     "data": {
      "text/plain": [
       "<Figure size 432x288 with 0 Axes>"
      ]
     },
     "metadata": {},
     "output_type": "display_data"
    },
    {
     "data": {
      "image/png": "[encoded data removed]",
      "text/plain": [
       "<Figure size 576x432 with 1 Axes>"
      ]
     },
     "metadata": {
      "needs_background": "light"
     },
     "output_type": "display_data"
    },
    {
     "name": "stdout",
     "output_type": "stream",
     "text": [
      "chi_2 statistic: 36.64\n",
      "p_value: 0.00\n",
      "significant level 0.05\n",
      "Reject H0, variables have dependency\n"
     ]
    }
   ],
   "source": [
    "plot_chi(header,'optional.major_operating_system_version')"
   ]
  },
  {
   "cell_type": "code",
   "execution_count": 123,
   "id": "sorted-landscape",
   "metadata": {},
   "outputs": [
    {
     "data": {
      "text/plain": [
       "<Figure size 432x288 with 0 Axes>"
      ]
     },
     "metadata": {},
     "output_type": "display_data"
    },
    {
     "data": {
      "image/png": "[encoded data removed]",
      "text/plain": [
       "<Figure size 576x432 with 1 Axes>"
      ]
     },
     "metadata": {
      "needs_background": "light"
     },
     "output_type": "display_data"
    },
    {
     "name": "stdout",
     "output_type": "stream",
     "text": [
      "chi_2 statistic: 20.53\n",
      "p_value: 0.00\n",
      "significant level 0.05\n",
      "Reject H0, variables have dependency\n"
     ]
    }
   ],
   "source": [
    "plot_chi(header, 'optional.minor_operating_system_version')"
   ]
  },
  {
   "cell_type": "code",
   "execution_count": 124,
   "id": "clear-kruger",
   "metadata": {},
   "outputs": [
    {
     "data": {
      "text/plain": [
       "<Figure size 432x288 with 0 Axes>"
      ]
     },
     "metadata": {},
     "output_type": "display_data"
    },
    {
     "data": {
      "image/png": "[encoded data removed]",
      "text/plain": [
       "<Figure size 576x432 with 1 Axes>"
      ]
     },
     "metadata": {
      "needs_background": "light"
     },
     "output_type": "display_data"
    },
    {
     "name": "stdout",
     "output_type": "stream",
     "text": [
      "chi_2 statistic: 52.51\n",
      "p_value: 0.00\n",
      "significant level 0.05\n",
      "Reject H0, variables have dependency\n"
     ]
    }
   ],
   "source": [
    "plot_chi(header, 'optional.major_subsystem_version')"
   ]
  },
  {
   "cell_type": "code",
   "execution_count": 125,
   "id": "about-values",
   "metadata": {},
   "outputs": [
    {
     "data": {
      "text/plain": [
       "<Figure size 432x288 with 0 Axes>"
      ]
     },
     "metadata": {},
     "output_type": "display_data"
    },
    {
     "data": {
      "image/png": "[encoded data removed]",
      "text/plain": [
       "<Figure size 576x432 with 1 Axes>"
      ]
     },
     "metadata": {
      "needs_background": "light"
     },
     "output_type": "display_data"
    },
    {
     "name": "stdout",
     "output_type": "stream",
     "text": [
      "chi_2 statistic: 29.29\n",
      "p_value: 0.00\n",
      "significant level 0.05\n",
      "Reject H0, variables have dependency\n"
     ]
    }
   ],
   "source": [
    "plot_chi(header, 'optional.minor_subsystem_version')"
   ]
  },
  {
   "cell_type": "code",
   "execution_count": 127,
   "id": "fantastic-sheriff",
   "metadata": {},
   "outputs": [
    {
     "data": {
      "text/plain": [
       "count         3864.00\n",
       "mean       2423430.25\n",
       "std       78738714.42\n",
       "min              0.00\n",
       "25%          23040.00\n",
       "50%          93696.00\n",
       "75%         376320.00\n",
       "max     4294967295.00\n",
       "Name: optional.sizeof_code, dtype: float64"
      ]
     },
     "execution_count": 127,
     "metadata": {},
     "output_type": "execute_result"
    }
   ],
   "source": [
    "header['optional.sizeof_code'].describe()"
   ]
  },
  {
   "cell_type": "code",
   "execution_count": null,
   "id": "induced-luxury",
   "metadata": {},
   "outputs": [],
   "source": []
  },
  {
   "cell_type": "code",
   "execution_count": 116,
   "id": "reduced-tennis",
   "metadata": {},
   "outputs": [
    {
     "data": {
      "text/plain": [
       "Index(['coff.timestamp', 'coff.machine', 'coff.characteristics', 'optional.subsystem', 'optional.dll_characteristics', 'optional.magic', 'optional.major_image_version', 'optional.minor_image_version', 'optional.major_linker_version', 'optional.minor_linker_version', 'optional.major_operating_system_version', 'optional.minor_operating_system_version', 'optional.major_subsystem_version', 'optional.minor_subsystem_version', 'optional.sizeof_code', 'optional.sizeof_headers', 'optional.sizeof_heap_commit', 'label'], dtype='object')"
      ]
     },
     "execution_count": 116,
     "metadata": {},
     "output_type": "execute_result"
    }
   ],
   "source": [
    "header.columns"
   ]
  },
  {
   "cell_type": "code",
   "execution_count": null,
   "id": "upper-wales",
   "metadata": {},
   "outputs": [],
   "source": [
    "identified now = "
   ]
  },
  {
   "cell_type": "code",
   "execution_count": 128,
   "id": "seven-outside",
   "metadata": {},
   "outputs": [],
   "source": [
    "var1 = ['optional.subsystem', 'optional.dll_characteristics', 'optional.major_image_version', 'optional.major_linker_version', 'optional.minor_linker_version', 'optional.major_operating_system_version', 'optional.minor_operating_system_version', 'optional.major_subsystem_version', 'optional.minor_subsystem_version']"
   ]
  },
  {
   "cell_type": "code",
   "execution_count": null,
   "id": "official-creator",
   "metadata": {},
   "outputs": [],
   "source": []
  },
  {
   "cell_type": "code",
   "execution_count": 9,
   "id": "desirable-metabolism",
   "metadata": {},
   "outputs": [],
   "source": [
    "coff_characteristics = df_unpack_list(header['coff.characteristics'])"
   ]
  },
  {
   "cell_type": "code",
   "execution_count": 10,
   "id": "artistic-engineer",
   "metadata": {},
   "outputs": [
    {
     "data": {
      "text/html": [
       "<div>\n",
       "<style scoped>\n",
       "    .dataframe tbody tr th:only-of-type {\n",
       "        vertical-align: middle;\n",
       "    }\n",
       "\n",
       "    .dataframe tbody tr th {\n",
       "        vertical-align: top;\n",
       "    }\n",
       "\n",
       "    .dataframe thead th {\n",
       "        text-align: right;\n",
       "    }\n",
       "</style>\n",
       "<table border=\"1\" class=\"dataframe\">\n",
       "  <thead>\n",
       "    <tr style=\"text-align: right;\">\n",
       "      <th></th>\n",
       "      <th>coff.characteristics.aggressive_ws_trim</th>\n",
       "      <th>coff.characteristics.bytes_reversed_hi</th>\n",
       "      <th>coff.characteristics.bytes_reversed_lo</th>\n",
       "      <th>coff.characteristics.chara_32bit_machine</th>\n",
       "      <th>coff.characteristics.debug_stripped</th>\n",
       "      <th>coff.characteristics.dll</th>\n",
       "      <th>coff.characteristics.executable_image</th>\n",
       "      <th>coff.characteristics.large_address_aware</th>\n",
       "      <th>coff.characteristics.line_nums_stripped</th>\n",
       "      <th>coff.characteristics.local_syms_stripped</th>\n",
       "      <th>coff.characteristics.net_run_from_swap</th>\n",
       "      <th>coff.characteristics.relocs_stripped</th>\n",
       "      <th>coff.characteristics.removable_run_from_swap</th>\n",
       "      <th>coff.characteristics.system</th>\n",
       "      <th>coff.characteristics.up_system_only</th>\n",
       "    </tr>\n",
       "  </thead>\n",
       "  <tbody>\n",
       "    <tr>\n",
       "      <th>0</th>\n",
       "      <td>0.0</td>\n",
       "      <td>0.0</td>\n",
       "      <td>0.0</td>\n",
       "      <td>1.0</td>\n",
       "      <td>0.0</td>\n",
       "      <td>0.0</td>\n",
       "      <td>1.0</td>\n",
       "      <td>0.0</td>\n",
       "      <td>1.0</td>\n",
       "      <td>1.0</td>\n",
       "      <td>0.0</td>\n",
       "      <td>1.0</td>\n",
       "      <td>0.0</td>\n",
       "      <td>0.0</td>\n",
       "      <td>0.0</td>\n",
       "    </tr>\n",
       "    <tr>\n",
       "      <th>1</th>\n",
       "      <td>1.0</td>\n",
       "      <td>0.0</td>\n",
       "      <td>0.0</td>\n",
       "      <td>1.0</td>\n",
       "      <td>0.0</td>\n",
       "      <td>0.0</td>\n",
       "      <td>1.0</td>\n",
       "      <td>0.0</td>\n",
       "      <td>1.0</td>\n",
       "      <td>1.0</td>\n",
       "      <td>0.0</td>\n",
       "      <td>1.0</td>\n",
       "      <td>0.0</td>\n",
       "      <td>0.0</td>\n",
       "      <td>0.0</td>\n",
       "    </tr>\n",
       "  </tbody>\n",
       "</table>\n",
       "</div>"
      ],
      "text/plain": [
       "   coff.characteristics.aggressive_ws_trim  coff.characteristics.bytes_reversed_hi  coff.characteristics.bytes_reversed_lo  coff.characteristics.chara_32bit_machine  coff.characteristics.debug_stripped  coff.characteristics.dll  coff.characteristics.executable_image  coff.characteristics.large_address_aware  coff.characteristics.line_nums_stripped  coff.characteristics.local_syms_stripped  coff.characteristics.net_run_from_swap  coff.characteristics.relocs_stripped  coff.characteristics.removable_run_from_swap  coff.characteristics.system  coff.characteristics.up_system_only\n",
       "0                                      0.0                                     0.0                                     0.0                                       1.0                                  0.0                       0.0                                    1.0                                       0.0                                      1.0                                       1.0                                     0.0                                   1.0                                           0.0                          0.0                                  0.0\n",
       "1                                      1.0                                     0.0                                     0.0                                       1.0                                  0.0                       0.0                                    1.0                                       0.0                                      1.0                                       1.0                                     0.0                                   1.0                                           0.0                          0.0                                  0.0"
      ]
     },
     "execution_count": 10,
     "metadata": {},
     "output_type": "execute_result"
    }
   ],
   "source": [
    "coff_characteristics.head(2)"
   ]
  },
  {
   "cell_type": "code",
   "execution_count": 11,
   "id": "sorted-sunset",
   "metadata": {},
   "outputs": [],
   "source": [
    "optional_ddl = df_unpack_list(header['optional.dll_characteristics'])"
   ]
  },
  {
   "cell_type": "code",
   "execution_count": 12,
   "id": "changed-hotel",
   "metadata": {},
   "outputs": [
    {
     "data": {
      "text/html": [
       "<div>\n",
       "<style scoped>\n",
       "    .dataframe tbody tr th:only-of-type {\n",
       "        vertical-align: middle;\n",
       "    }\n",
       "\n",
       "    .dataframe tbody tr th {\n",
       "        vertical-align: top;\n",
       "    }\n",
       "\n",
       "    .dataframe thead th {\n",
       "        text-align: right;\n",
       "    }\n",
       "</style>\n",
       "<table border=\"1\" class=\"dataframe\">\n",
       "  <thead>\n",
       "    <tr style=\"text-align: right;\">\n",
       "      <th></th>\n",
       "      <th>optional.dll_characteristics.appcontainer</th>\n",
       "      <th>optional.dll_characteristics.dynamic_base</th>\n",
       "      <th>optional.dll_characteristics.force_integrity</th>\n",
       "      <th>optional.dll_characteristics.guard_cf</th>\n",
       "      <th>optional.dll_characteristics.high_entropy_va</th>\n",
       "      <th>optional.dll_characteristics.no_bind</th>\n",
       "      <th>optional.dll_characteristics.no_isolation</th>\n",
       "      <th>optional.dll_characteristics.no_seh</th>\n",
       "      <th>optional.dll_characteristics.nx_compat</th>\n",
       "      <th>optional.dll_characteristics.terminal_server_aware</th>\n",
       "      <th>optional.dll_characteristics.wdm_driver</th>\n",
       "      <th>optional.dll_characteristics.empty</th>\n",
       "    </tr>\n",
       "  </thead>\n",
       "  <tbody>\n",
       "    <tr>\n",
       "      <th>0</th>\n",
       "      <td>0.0</td>\n",
       "      <td>0.0</td>\n",
       "      <td>0.0</td>\n",
       "      <td>0.0</td>\n",
       "      <td>0.0</td>\n",
       "      <td>0.0</td>\n",
       "      <td>0.0</td>\n",
       "      <td>0.0</td>\n",
       "      <td>0.0</td>\n",
       "      <td>0.0</td>\n",
       "      <td>0.0</td>\n",
       "      <td>1.0</td>\n",
       "    </tr>\n",
       "    <tr>\n",
       "      <th>1</th>\n",
       "      <td>0.0</td>\n",
       "      <td>0.0</td>\n",
       "      <td>0.0</td>\n",
       "      <td>0.0</td>\n",
       "      <td>0.0</td>\n",
       "      <td>0.0</td>\n",
       "      <td>0.0</td>\n",
       "      <td>0.0</td>\n",
       "      <td>0.0</td>\n",
       "      <td>1.0</td>\n",
       "      <td>0.0</td>\n",
       "      <td>0.0</td>\n",
       "    </tr>\n",
       "  </tbody>\n",
       "</table>\n",
       "</div>"
      ],
      "text/plain": [
       "   optional.dll_characteristics.appcontainer  optional.dll_characteristics.dynamic_base  optional.dll_characteristics.force_integrity  optional.dll_characteristics.guard_cf  optional.dll_characteristics.high_entropy_va  optional.dll_characteristics.no_bind  optional.dll_characteristics.no_isolation  optional.dll_characteristics.no_seh  optional.dll_characteristics.nx_compat  optional.dll_characteristics.terminal_server_aware  optional.dll_characteristics.wdm_driver  optional.dll_characteristics.empty\n",
       "0                                        0.0                                        0.0                                           0.0                                    0.0                                           0.0                                   0.0                                        0.0                                  0.0                                     0.0                                                0.0                                       0.0                                 1.0\n",
       "1                                        0.0                                        0.0                                           0.0                                    0.0                                           0.0                                   0.0                                        0.0                                  0.0                                     0.0                                                1.0                                       0.0                                 0.0"
      ]
     },
     "execution_count": 12,
     "metadata": {},
     "output_type": "execute_result"
    }
   ],
   "source": [
    "optional_ddl.head(2)"
   ]
  },
  {
   "cell_type": "code",
   "execution_count": null,
   "id": "advanced-corps",
   "metadata": {},
   "outputs": [],
   "source": []
  },
  {
   "cell_type": "code",
   "execution_count": 13,
   "id": "strategic-driver",
   "metadata": {},
   "outputs": [],
   "source": [
    "header_unpacked = pd.concat([df.label,header.loc[:,'coff.timestamp':'coff.machine'],coff_characteristics,header.loc[:,'optional.subsystem'],optional_ddl,header.loc[:,'optional.magic':'optional.sizeof_heap_commit']], axis=1)"
   ]
  },
  {
   "cell_type": "code",
   "execution_count": null,
   "id": "known-seeker",
   "metadata": {},
   "outputs": [],
   "source": []
  },
  {
   "cell_type": "code",
   "execution_count": 158,
   "id": "exceptional-savage",
   "metadata": {},
   "outputs": [
    {
     "data": {
      "text/html": [
       "<div>\n",
       "<style scoped>\n",
       "    .dataframe tbody tr th:only-of-type {\n",
       "        vertical-align: middle;\n",
       "    }\n",
       "\n",
       "    .dataframe tbody tr th {\n",
       "        vertical-align: top;\n",
       "    }\n",
       "\n",
       "    .dataframe thead th {\n",
       "        text-align: right;\n",
       "    }\n",
       "</style>\n",
       "<table border=\"1\" class=\"dataframe\">\n",
       "  <thead>\n",
       "    <tr style=\"text-align: right;\">\n",
       "      <th></th>\n",
       "      <th>coff.timestamp</th>\n",
       "      <th>coff.machine</th>\n",
       "      <th>coff.characteristics.aggressive_ws_trim</th>\n",
       "      <th>coff.characteristics.bytes_reversed_hi</th>\n",
       "      <th>coff.characteristics.bytes_reversed_lo</th>\n",
       "      <th>coff.characteristics.chara_32bit_machine</th>\n",
       "      <th>coff.characteristics.debug_stripped</th>\n",
       "      <th>coff.characteristics.dll</th>\n",
       "      <th>coff.characteristics.executable_image</th>\n",
       "      <th>coff.characteristics.large_address_aware</th>\n",
       "      <th>coff.characteristics.line_nums_stripped</th>\n",
       "      <th>coff.characteristics.local_syms_stripped</th>\n",
       "      <th>coff.characteristics.net_run_from_swap</th>\n",
       "      <th>coff.characteristics.relocs_stripped</th>\n",
       "      <th>coff.characteristics.removable_run_from_swap</th>\n",
       "      <th>coff.characteristics.system</th>\n",
       "      <th>coff.characteristics.up_system_only</th>\n",
       "      <th>optional.subsystem</th>\n",
       "      <th>optional.dll_characteristics.appcontainer</th>\n",
       "      <th>optional.dll_characteristics.dynamic_base</th>\n",
       "      <th>optional.dll_characteristics.force_integrity</th>\n",
       "      <th>optional.dll_characteristics.guard_cf</th>\n",
       "      <th>optional.dll_characteristics.high_entropy_va</th>\n",
       "      <th>optional.dll_characteristics.no_bind</th>\n",
       "      <th>optional.dll_characteristics.no_isolation</th>\n",
       "      <th>optional.dll_characteristics.no_seh</th>\n",
       "      <th>optional.dll_characteristics.nx_compat</th>\n",
       "      <th>optional.dll_characteristics.terminal_server_aware</th>\n",
       "      <th>optional.dll_characteristics.wdm_driver</th>\n",
       "      <th>optional.dll_characteristics.empty</th>\n",
       "      <th>optional.magic</th>\n",
       "      <th>optional.major_image_version</th>\n",
       "      <th>optional.minor_image_version</th>\n",
       "      <th>optional.major_linker_version</th>\n",
       "      <th>optional.minor_linker_version</th>\n",
       "      <th>optional.major_operating_system_version</th>\n",
       "      <th>optional.minor_operating_system_version</th>\n",
       "      <th>optional.major_subsystem_version</th>\n",
       "      <th>optional.minor_subsystem_version</th>\n",
       "      <th>optional.sizeof_code</th>\n",
       "      <th>optional.sizeof_headers</th>\n",
       "      <th>optional.sizeof_heap_commit</th>\n",
       "    </tr>\n",
       "  </thead>\n",
       "  <tbody>\n",
       "    <tr>\n",
       "      <th>0</th>\n",
       "      <td>1124149349</td>\n",
       "      <td>I386</td>\n",
       "      <td>0.0</td>\n",
       "      <td>0.0</td>\n",
       "      <td>0.0</td>\n",
       "      <td>1.0</td>\n",
       "      <td>0.0</td>\n",
       "      <td>0.0</td>\n",
       "      <td>1.0</td>\n",
       "      <td>0.0</td>\n",
       "      <td>1.0</td>\n",
       "      <td>1.0</td>\n",
       "      <td>0.0</td>\n",
       "      <td>1.0</td>\n",
       "      <td>0.0</td>\n",
       "      <td>0.0</td>\n",
       "      <td>0.0</td>\n",
       "      <td>WINDOWS_GUI</td>\n",
       "      <td>0.0</td>\n",
       "      <td>0.0</td>\n",
       "      <td>0.0</td>\n",
       "      <td>0.0</td>\n",
       "      <td>0.0</td>\n",
       "      <td>0.0</td>\n",
       "      <td>0.0</td>\n",
       "      <td>0.0</td>\n",
       "      <td>0.0</td>\n",
       "      <td>0.0</td>\n",
       "      <td>0.0</td>\n",
       "      <td>1.0</td>\n",
       "      <td>PE32</td>\n",
       "      <td>0</td>\n",
       "      <td>0</td>\n",
       "      <td>7</td>\n",
       "      <td>10</td>\n",
       "      <td>4</td>\n",
       "      <td>0</td>\n",
       "      <td>4</td>\n",
       "      <td>0</td>\n",
       "      <td>26624</td>\n",
       "      <td>1024</td>\n",
       "      <td>4096</td>\n",
       "    </tr>\n",
       "    <tr>\n",
       "      <th>1</th>\n",
       "      <td>1091600092</td>\n",
       "      <td>I386</td>\n",
       "      <td>1.0</td>\n",
       "      <td>0.0</td>\n",
       "      <td>0.0</td>\n",
       "      <td>1.0</td>\n",
       "      <td>0.0</td>\n",
       "      <td>0.0</td>\n",
       "      <td>1.0</td>\n",
       "      <td>0.0</td>\n",
       "      <td>1.0</td>\n",
       "      <td>1.0</td>\n",
       "      <td>0.0</td>\n",
       "      <td>1.0</td>\n",
       "      <td>0.0</td>\n",
       "      <td>0.0</td>\n",
       "      <td>0.0</td>\n",
       "      <td>WINDOWS_GUI</td>\n",
       "      <td>0.0</td>\n",
       "      <td>0.0</td>\n",
       "      <td>0.0</td>\n",
       "      <td>0.0</td>\n",
       "      <td>0.0</td>\n",
       "      <td>0.0</td>\n",
       "      <td>0.0</td>\n",
       "      <td>0.0</td>\n",
       "      <td>0.0</td>\n",
       "      <td>1.0</td>\n",
       "      <td>0.0</td>\n",
       "      <td>0.0</td>\n",
       "      <td>PE32</td>\n",
       "      <td>21315</td>\n",
       "      <td>20512</td>\n",
       "      <td>7</td>\n",
       "      <td>10</td>\n",
       "      <td>5</td>\n",
       "      <td>1</td>\n",
       "      <td>4</td>\n",
       "      <td>0</td>\n",
       "      <td>455680</td>\n",
       "      <td>1024</td>\n",
       "      <td>4096</td>\n",
       "    </tr>\n",
       "    <tr>\n",
       "      <th>2</th>\n",
       "      <td>892092777</td>\n",
       "      <td>I386</td>\n",
       "      <td>0.0</td>\n",
       "      <td>0.0</td>\n",
       "      <td>0.0</td>\n",
       "      <td>1.0</td>\n",
       "      <td>1.0</td>\n",
       "      <td>0.0</td>\n",
       "      <td>1.0</td>\n",
       "      <td>0.0</td>\n",
       "      <td>1.0</td>\n",
       "      <td>0.0</td>\n",
       "      <td>0.0</td>\n",
       "      <td>0.0</td>\n",
       "      <td>0.0</td>\n",
       "      <td>0.0</td>\n",
       "      <td>0.0</td>\n",
       "      <td>WINDOWS_GUI</td>\n",
       "      <td>0.0</td>\n",
       "      <td>0.0</td>\n",
       "      <td>0.0</td>\n",
       "      <td>0.0</td>\n",
       "      <td>0.0</td>\n",
       "      <td>0.0</td>\n",
       "      <td>0.0</td>\n",
       "      <td>0.0</td>\n",
       "      <td>0.0</td>\n",
       "      <td>0.0</td>\n",
       "      <td>0.0</td>\n",
       "      <td>1.0</td>\n",
       "      <td>PE32</td>\n",
       "      <td>5</td>\n",
       "      <td>0</td>\n",
       "      <td>6</td>\n",
       "      <td>0</td>\n",
       "      <td>5</td>\n",
       "      <td>0</td>\n",
       "      <td>4</td>\n",
       "      <td>0</td>\n",
       "      <td>80896</td>\n",
       "      <td>1024</td>\n",
       "      <td>4096</td>\n",
       "    </tr>\n",
       "    <tr>\n",
       "      <th>3</th>\n",
       "      <td>708992537</td>\n",
       "      <td>I386</td>\n",
       "      <td>0.0</td>\n",
       "      <td>1.0</td>\n",
       "      <td>1.0</td>\n",
       "      <td>1.0</td>\n",
       "      <td>0.0</td>\n",
       "      <td>0.0</td>\n",
       "      <td>1.0</td>\n",
       "      <td>0.0</td>\n",
       "      <td>1.0</td>\n",
       "      <td>1.0</td>\n",
       "      <td>0.0</td>\n",
       "      <td>1.0</td>\n",
       "      <td>0.0</td>\n",
       "      <td>0.0</td>\n",
       "      <td>0.0</td>\n",
       "      <td>WINDOWS_GUI</td>\n",
       "      <td>0.0</td>\n",
       "      <td>0.0</td>\n",
       "      <td>0.0</td>\n",
       "      <td>0.0</td>\n",
       "      <td>0.0</td>\n",
       "      <td>0.0</td>\n",
       "      <td>0.0</td>\n",
       "      <td>0.0</td>\n",
       "      <td>0.0</td>\n",
       "      <td>0.0</td>\n",
       "      <td>0.0</td>\n",
       "      <td>1.0</td>\n",
       "      <td>PE32</td>\n",
       "      <td>0</td>\n",
       "      <td>0</td>\n",
       "      <td>2</td>\n",
       "      <td>25</td>\n",
       "      <td>1</td>\n",
       "      <td>0</td>\n",
       "      <td>4</td>\n",
       "      <td>0</td>\n",
       "      <td>36864</td>\n",
       "      <td>1024</td>\n",
       "      <td>4096</td>\n",
       "    </tr>\n",
       "    <tr>\n",
       "      <th>4</th>\n",
       "      <td>938258311</td>\n",
       "      <td>I386</td>\n",
       "      <td>0.0</td>\n",
       "      <td>0.0</td>\n",
       "      <td>0.0</td>\n",
       "      <td>1.0</td>\n",
       "      <td>1.0</td>\n",
       "      <td>0.0</td>\n",
       "      <td>1.0</td>\n",
       "      <td>0.0</td>\n",
       "      <td>1.0</td>\n",
       "      <td>1.0</td>\n",
       "      <td>0.0</td>\n",
       "      <td>1.0</td>\n",
       "      <td>0.0</td>\n",
       "      <td>0.0</td>\n",
       "      <td>0.0</td>\n",
       "      <td>WINDOWS_GUI</td>\n",
       "      <td>0.0</td>\n",
       "      <td>0.0</td>\n",
       "      <td>0.0</td>\n",
       "      <td>0.0</td>\n",
       "      <td>0.0</td>\n",
       "      <td>0.0</td>\n",
       "      <td>0.0</td>\n",
       "      <td>0.0</td>\n",
       "      <td>0.0</td>\n",
       "      <td>1.0</td>\n",
       "      <td>0.0</td>\n",
       "      <td>0.0</td>\n",
       "      <td>PE32</td>\n",
       "      <td>5</td>\n",
       "      <td>0</td>\n",
       "      <td>5</td>\n",
       "      <td>12</td>\n",
       "      <td>5</td>\n",
       "      <td>0</td>\n",
       "      <td>4</td>\n",
       "      <td>0</td>\n",
       "      <td>34304</td>\n",
       "      <td>1536</td>\n",
       "      <td>4096</td>\n",
       "    </tr>\n",
       "  </tbody>\n",
       "</table>\n",
       "</div>"
      ],
      "text/plain": [
       "   coff.timestamp coff.machine  coff.characteristics.aggressive_ws_trim  coff.characteristics.bytes_reversed_hi  coff.characteristics.bytes_reversed_lo  coff.characteristics.chara_32bit_machine  coff.characteristics.debug_stripped  coff.characteristics.dll  coff.characteristics.executable_image  coff.characteristics.large_address_aware  coff.characteristics.line_nums_stripped  coff.characteristics.local_syms_stripped  coff.characteristics.net_run_from_swap  coff.characteristics.relocs_stripped  coff.characteristics.removable_run_from_swap  coff.characteristics.system  coff.characteristics.up_system_only optional.subsystem  optional.dll_characteristics.appcontainer  optional.dll_characteristics.dynamic_base  optional.dll_characteristics.force_integrity  optional.dll_characteristics.guard_cf  optional.dll_characteristics.high_entropy_va  optional.dll_characteristics.no_bind  optional.dll_characteristics.no_isolation  optional.dll_characteristics.no_seh  \\\n",
       "0      1124149349         I386                                      0.0                                     0.0                                     0.0                                       1.0                                  0.0                       0.0                                    1.0                                       0.0                                      1.0                                       1.0                                     0.0                                   1.0                                           0.0                          0.0                                  0.0        WINDOWS_GUI                                        0.0                                        0.0                                           0.0                                    0.0                                           0.0                                   0.0                                        0.0                                  0.0   \n",
       "1      1091600092         I386                                      1.0                                     0.0                                     0.0                                       1.0                                  0.0                       0.0                                    1.0                                       0.0                                      1.0                                       1.0                                     0.0                                   1.0                                           0.0                          0.0                                  0.0        WINDOWS_GUI                                        0.0                                        0.0                                           0.0                                    0.0                                           0.0                                   0.0                                        0.0                                  0.0   \n",
       "2       892092777         I386                                      0.0                                     0.0                                     0.0                                       1.0                                  1.0                       0.0                                    1.0                                       0.0                                      1.0                                       0.0                                     0.0                                   0.0                                           0.0                          0.0                                  0.0        WINDOWS_GUI                                        0.0                                        0.0                                           0.0                                    0.0                                           0.0                                   0.0                                        0.0                                  0.0   \n",
       "3       708992537         I386                                      0.0                                     1.0                                     1.0                                       1.0                                  0.0                       0.0                                    1.0                                       0.0                                      1.0                                       1.0                                     0.0                                   1.0                                           0.0                          0.0                                  0.0        WINDOWS_GUI                                        0.0                                        0.0                                           0.0                                    0.0                                           0.0                                   0.0                                        0.0                                  0.0   \n",
       "4       938258311         I386                                      0.0                                     0.0                                     0.0                                       1.0                                  1.0                       0.0                                    1.0                                       0.0                                      1.0                                       1.0                                     0.0                                   1.0                                           0.0                          0.0                                  0.0        WINDOWS_GUI                                        0.0                                        0.0                                           0.0                                    0.0                                           0.0                                   0.0                                        0.0                                  0.0   \n",
       "\n",
       "   optional.dll_characteristics.nx_compat  optional.dll_characteristics.terminal_server_aware  optional.dll_characteristics.wdm_driver  optional.dll_characteristics.empty optional.magic  optional.major_image_version  optional.minor_image_version  optional.major_linker_version  optional.minor_linker_version  optional.major_operating_system_version  optional.minor_operating_system_version  optional.major_subsystem_version  optional.minor_subsystem_version  optional.sizeof_code  optional.sizeof_headers  optional.sizeof_heap_commit  \n",
       "0                                     0.0                                                0.0                                       0.0                                 1.0           PE32                             0                             0                              7                             10                                        4                                        0                                 4                                 0                 26624                     1024                         4096  \n",
       "1                                     0.0                                                1.0                                       0.0                                 0.0           PE32                         21315                         20512                              7                             10                                        5                                        1                                 4                                 0                455680                     1024                         4096  \n",
       "2                                     0.0                                                0.0                                       0.0                                 1.0           PE32                             5                             0                              6                              0                                        5                                        0                                 4                                 0                 80896                     1024                         4096  \n",
       "3                                     0.0                                                0.0                                       0.0                                 1.0           PE32                             0                             0                              2                             25                                        1                                        0                                 4                                 0                 36864                     1024                         4096  \n",
       "4                                     0.0                                                1.0                                       0.0                                 0.0           PE32                             5                             0                              5                             12                                        5                                        0                                 4                                 0                 34304                     1536                         4096  "
      ]
     },
     "execution_count": 158,
     "metadata": {},
     "output_type": "execute_result"
    }
   ],
   "source": [
    "header_unpacked.head()"
   ]
  },
  {
   "cell_type": "markdown",
   "id": "waiting-clinic",
   "metadata": {},
   "source": [
    "### Variable \"section\""
   ]
  },
  {
   "cell_type": "code",
   "execution_count": 15,
   "id": "afraid-parking",
   "metadata": {},
   "outputs": [
    {
     "ename": "NameError",
     "evalue": "name 'df' is not defined",
     "output_type": "error",
     "traceback": [
      "\u001b[0;31m---------------------------------------------------------------------------\u001b[0m",
      "\u001b[0;31mNameError\u001b[0m                                 Traceback (most recent call last)",
      "\u001b[0;32m<ipython-input-15-181e55e66c3b>\u001b[0m in \u001b[0;36m<module>\u001b[0;34m\u001b[0m\n\u001b[0;32m----> 1\u001b[0;31m \u001b[0msection\u001b[0m \u001b[0;34m=\u001b[0m \u001b[0mpd\u001b[0m\u001b[0;34m.\u001b[0m\u001b[0mjson_normalize\u001b[0m\u001b[0;34m(\u001b[0m\u001b[0mdf\u001b[0m\u001b[0;34m.\u001b[0m\u001b[0msection\u001b[0m\u001b[0;34m,\u001b[0m \u001b[0mrecord_prefix\u001b[0m \u001b[0;34m=\u001b[0m \u001b[0;34m\"section\"\u001b[0m\u001b[0;34m)\u001b[0m\u001b[0;34m\u001b[0m\u001b[0;34m\u001b[0m\u001b[0m\n\u001b[0m",
      "\u001b[0;31mNameError\u001b[0m: name 'df' is not defined"
     ]
    }
   ],
   "source": [
    "section = pd.json_normalize(df.section, record_prefix = \"section\")"
   ]
  },
  {
   "cell_type": "code",
   "execution_count": 9,
   "id": "employed-january",
   "metadata": {},
   "outputs": [],
   "source": [
    "section['label']=df.label"
   ]
  },
  {
   "cell_type": "code",
   "execution_count": 9,
   "id": "moral-hacker",
   "metadata": {},
   "outputs": [
    {
     "ename": "NameError",
     "evalue": "name 'section' is not defined",
     "output_type": "error",
     "traceback": [
      "\u001b[0;31m---------------------------------------------------------------------------\u001b[0m",
      "\u001b[0;31mNameError\u001b[0m                                 Traceback (most recent call last)",
      "\u001b[0;32m<ipython-input-9-735a4dbad2a3>\u001b[0m in \u001b[0;36m<module>\u001b[0;34m\u001b[0m\n\u001b[0;32m----> 1\u001b[0;31m \u001b[0msection\u001b[0m\u001b[0;34m.\u001b[0m\u001b[0mhead\u001b[0m\u001b[0;34m(\u001b[0m\u001b[0;34m)\u001b[0m\u001b[0;34m\u001b[0m\u001b[0;34m\u001b[0m\u001b[0m\n\u001b[0m",
      "\u001b[0;31mNameError\u001b[0m: name 'section' is not defined"
     ]
    }
   ],
   "source": [
    "section.head()"
   ]
  },
  {
   "cell_type": "code",
   "execution_count": null,
   "id": "owned-niger",
   "metadata": {},
   "outputs": [],
   "source": [
    "# let's analyse section properties by creating dataframe with properties"
   ]
  },
  {
   "cell_type": "code",
   "execution_count": 10,
   "id": "superb-guyana",
   "metadata": {},
   "outputs": [],
   "source": [
    "section_list_malware = []"
   ]
  },
  {
   "cell_type": "code",
   "execution_count": 11,
   "id": "crazy-texture",
   "metadata": {},
   "outputs": [],
   "source": [
    "for sec in section.sections[section.label == 1]:\n",
    "    section_list_malware.append(pd.DataFrame(sec))"
   ]
  },
  {
   "cell_type": "code",
   "execution_count": 12,
   "id": "linear-cement",
   "metadata": {},
   "outputs": [],
   "source": [
    "concated_m = pd.concat(section_list_malware)"
   ]
  },
  {
   "cell_type": "code",
   "execution_count": 8,
   "id": "minute-source",
   "metadata": {},
   "outputs": [
    {
     "ename": "NameError",
     "evalue": "name 'concated_m' is not defined",
     "output_type": "error",
     "traceback": [
      "\u001b[0;31m---------------------------------------------------------------------------\u001b[0m",
      "\u001b[0;31mNameError\u001b[0m                                 Traceback (most recent call last)",
      "\u001b[0;32m<ipython-input-8-b171e27ada96>\u001b[0m in \u001b[0;36m<module>\u001b[0;34m\u001b[0m\n\u001b[0;32m----> 1\u001b[0;31m \u001b[0mconcated_m\u001b[0m\u001b[0;34m.\u001b[0m\u001b[0mhead\u001b[0m\u001b[0;34m(\u001b[0m\u001b[0;36m20\u001b[0m\u001b[0;34m)\u001b[0m\u001b[0;34m\u001b[0m\u001b[0;34m\u001b[0m\u001b[0m\n\u001b[0m",
      "\u001b[0;31mNameError\u001b[0m: name 'concated_m' is not defined"
     ]
    }
   ],
   "source": [
    "concated_m.head(20)"
   ]
  },
  {
   "cell_type": "code",
   "execution_count": null,
   "id": "soviet-austin",
   "metadata": {},
   "outputs": [],
   "source": []
  },
  {
   "cell_type": "code",
   "execution_count": null,
   "id": "armed-scroll",
   "metadata": {},
   "outputs": [],
   "source": []
  },
  {
   "cell_type": "code",
   "execution_count": 151,
   "id": "acute-watson",
   "metadata": {},
   "outputs": [],
   "source": [
    "# creating a set of unique properties for malware\n",
    "mal = set(concated_m.props.explode().unique())"
   ]
  },
  {
   "cell_type": "code",
   "execution_count": null,
   "id": "virgin-emphasis",
   "metadata": {},
   "outputs": [],
   "source": [
    "# the same for beingware"
   ]
  },
  {
   "cell_type": "code",
   "execution_count": 144,
   "id": "loved-cathedral",
   "metadata": {},
   "outputs": [],
   "source": [
    "section_list = []"
   ]
  },
  {
   "cell_type": "code",
   "execution_count": 145,
   "id": "effective-investigation",
   "metadata": {},
   "outputs": [],
   "source": [
    "for sec in section.sections[section.label == 0]:\n",
    "    section_list.append(pd.DataFrame(sec))"
   ]
  },
  {
   "cell_type": "code",
   "execution_count": 146,
   "id": "wired-holmes",
   "metadata": {},
   "outputs": [],
   "source": [
    "concated = pd.concat(section_list)"
   ]
  },
  {
   "cell_type": "code",
   "execution_count": 152,
   "id": "limiting-jonathan",
   "metadata": {},
   "outputs": [],
   "source": [
    "bei = set(concated.props.explode().unique())"
   ]
  },
  {
   "cell_type": "code",
   "execution_count": 191,
   "id": "negative-parade",
   "metadata": {},
   "outputs": [
    {
     "data": {
      "text/plain": [
       "['TYPE_NO_PAD', 'MEM_LOCKED', 'LNK_COMDAT', 'LNK_NRELOC_OVFL']"
      ]
     },
     "execution_count": 191,
     "metadata": {},
     "output_type": "execute_result"
    }
   ],
   "source": [
    "# difference between values, we are looking for special properties for malware\n",
    "my = list(mal - bei)\n",
    "my"
   ]
  },
  {
   "cell_type": "code",
   "execution_count": 176,
   "id": "another-telling",
   "metadata": {},
   "outputs": [],
   "source": [
    "ex = concated_m.props.explode()"
   ]
  },
  {
   "cell_type": "code",
   "execution_count": 197,
   "id": "architectural-frost",
   "metadata": {},
   "outputs": [],
   "source": [
    "concated_m.props = concated_m.props.astype(str)"
   ]
  },
  {
   "cell_type": "code",
   "execution_count": 202,
   "id": "tracked-draft",
   "metadata": {},
   "outputs": [],
   "source": [
    "section['sections'] = section['sections'].astype(str)"
   ]
  },
  {
   "cell_type": "code",
   "execution_count": 204,
   "id": "cathedral-profession",
   "metadata": {},
   "outputs": [
    {
     "data": {
      "text/html": [
       "<div>\n",
       "<style scoped>\n",
       "    .dataframe tbody tr th:only-of-type {\n",
       "        vertical-align: middle;\n",
       "    }\n",
       "\n",
       "    .dataframe tbody tr th {\n",
       "        vertical-align: top;\n",
       "    }\n",
       "\n",
       "    .dataframe thead th {\n",
       "        text-align: right;\n",
       "    }\n",
       "</style>\n",
       "<table border=\"1\" class=\"dataframe\">\n",
       "  <thead>\n",
       "    <tr style=\"text-align: right;\">\n",
       "      <th></th>\n",
       "      <th>entry</th>\n",
       "      <th>sections</th>\n",
       "      <th>label</th>\n",
       "    </tr>\n",
       "  </thead>\n",
       "  <tbody>\n",
       "    <tr>\n",
       "      <th>2070</th>\n",
       "      <td>.crt1</td>\n",
       "      <td>[{'name': '.crt1', 'size': 28672, 'entropy': 6...</td>\n",
       "      <td>1</td>\n",
       "    </tr>\n",
       "    <tr>\n",
       "      <th>2569</th>\n",
       "      <td>.rdata</td>\n",
       "      <td>[{'name': '.rdata', 'size': 9216, 'entropy': 6...</td>\n",
       "      <td>1</td>\n",
       "    </tr>\n",
       "    <tr>\n",
       "      <th>3518</th>\n",
       "      <td>.text</td>\n",
       "      <td>[{'name': '', 'size': 2048, 'entropy': 6.26038...</td>\n",
       "      <td>-1</td>\n",
       "    </tr>\n",
       "    <tr>\n",
       "      <th>3911</th>\n",
       "      <td>.text</td>\n",
       "      <td>[{'name': '.text', 'size': 12288, 'entropy': 6...</td>\n",
       "      <td>1</td>\n",
       "    </tr>\n",
       "    <tr>\n",
       "      <th>5509</th>\n",
       "      <td>.text</td>\n",
       "      <td>[{'name': '.text', 'size': 200704, 'entropy': ...</td>\n",
       "      <td>1</td>\n",
       "    </tr>\n",
       "    <tr>\n",
       "      <th>5524</th>\n",
       "      <td>.text\u0001</td>\n",
       "      <td>[{'name': '.text\\x01', 'size': 28672, 'entropy...</td>\n",
       "      <td>1</td>\n",
       "    </tr>\n",
       "    <tr>\n",
       "      <th>5757</th>\n",
       "      <td>.text\u0001</td>\n",
       "      <td>[{'name': '.text\\x01', 'size': 28672, 'entropy...</td>\n",
       "      <td>1</td>\n",
       "    </tr>\n",
       "    <tr>\n",
       "      <th>5845</th>\n",
       "      <td>.text</td>\n",
       "      <td>[{'name': '.text', 'size': 114688, 'entropy': ...</td>\n",
       "      <td>-1</td>\n",
       "    </tr>\n",
       "  </tbody>\n",
       "</table>\n",
       "</div>"
      ],
      "text/plain": [
       "       entry                                           sections  label\n",
       "2070   .crt1  [{'name': '.crt1', 'size': 28672, 'entropy': 6...      1\n",
       "2569  .rdata  [{'name': '.rdata', 'size': 9216, 'entropy': 6...      1\n",
       "3518   .text  [{'name': '', 'size': 2048, 'entropy': 6.26038...     -1\n",
       "3911   .text  [{'name': '.text', 'size': 12288, 'entropy': 6...      1\n",
       "5509   .text  [{'name': '.text', 'size': 200704, 'entropy': ...      1\n",
       "5524  .text\u0001  [{'name': '.text\\x01', 'size': 28672, 'entropy...      1\n",
       "5757  .text\u0001  [{'name': '.text\\x01', 'size': 28672, 'entropy...      1\n",
       "5845   .text  [{'name': '.text', 'size': 114688, 'entropy': ...     -1"
      ]
     },
     "execution_count": 204,
     "metadata": {},
     "output_type": "execute_result"
    }
   ],
   "source": [
    "section[section.sections.str.contains(\"TYPE_NO_PAD\")]"
   ]
  },
  {
   "cell_type": "code",
   "execution_count": 168,
   "id": "casual-executive",
   "metadata": {},
   "outputs": [
    {
     "ename": "SyntaxError",
     "evalue": "invalid syntax (<ipython-input-168-1fb3b022a561>, line 1)",
     "output_type": "error",
     "traceback": [
      "\u001b[0;36m  File \u001b[0;32m\"<ipython-input-168-1fb3b022a561>\"\u001b[0;36m, line \u001b[0;32m1\u001b[0m\n\u001b[0;31m    concated_m['contain']= concated_m.props.apply(lambda x: (1 if 'MEM_LOCKED' in x))\u001b[0m\n\u001b[0m                                                                                   ^\u001b[0m\n\u001b[0;31mSyntaxError\u001b[0m\u001b[0;31m:\u001b[0m invalid syntax\n"
     ]
    }
   ],
   "source": [
    "concated_m['contain']= concated_m.props.apply(lambda x: (1 if 'MEM_LOCKED' in x))"
   ]
  },
  {
   "cell_type": "markdown",
   "id": "twelve-blair",
   "metadata": {},
   "source": [
    "## EDA"
   ]
  },
  {
   "cell_type": "code",
   "execution_count": 149,
   "id": "grateful-madrid",
   "metadata": {},
   "outputs": [
    {
     "data": {
      "text/plain": [
       " 0    2750\n",
       " 1    1932\n",
       "-1    1318\n",
       "Name: label, dtype: int64"
      ]
     },
     "execution_count": 149,
     "metadata": {},
     "output_type": "execute_result"
    }
   ],
   "source": [
    "df['label'].value_counts()"
   ]
  },
  {
   "cell_type": "code",
   "execution_count": 110,
   "id": "cathedral-reminder",
   "metadata": {},
   "outputs": [],
   "source": [
    "malware = header_unpacked[df.label == 1 ].copy()"
   ]
  },
  {
   "cell_type": "code",
   "execution_count": 111,
   "id": "existing-scheduling",
   "metadata": {},
   "outputs": [],
   "source": [
    "beingware = header_unpacked[df.label == 0 ].copy()"
   ]
  },
  {
   "cell_type": "code",
   "execution_count": null,
   "id": "bulgarian-syndication",
   "metadata": {},
   "outputs": [],
   "source": []
  },
  {
   "cell_type": "code",
   "execution_count": 112,
   "id": "dangerous-jason",
   "metadata": {},
   "outputs": [
    {
     "data": {
      "text/plain": [
       "0.00    1839\n",
       "1.00      93\n",
       "Name: coff.characteristics.dll, dtype: int64"
      ]
     },
     "execution_count": 112,
     "metadata": {},
     "output_type": "execute_result"
    }
   ],
   "source": [
    "malware['coff.characteristics.dll'].value_counts()"
   ]
  },
  {
   "cell_type": "code",
   "execution_count": 113,
   "id": "worldwide-dragon",
   "metadata": {},
   "outputs": [
    {
     "data": {
      "text/plain": [
       "0.00    1533\n",
       "1.00    1217\n",
       "Name: coff.characteristics.dll, dtype: int64"
      ]
     },
     "execution_count": 113,
     "metadata": {},
     "output_type": "execute_result"
    }
   ],
   "source": [
    "beingware['coff.characteristics.dll'].value_counts()"
   ]
  },
  {
   "cell_type": "code",
   "execution_count": 114,
   "id": "chubby-imaging",
   "metadata": {},
   "outputs": [
    {
     "data": {
      "text/html": [
       "<div>\n",
       "<style scoped>\n",
       "    .dataframe tbody tr th:only-of-type {\n",
       "        vertical-align: middle;\n",
       "    }\n",
       "\n",
       "    .dataframe tbody tr th {\n",
       "        vertical-align: top;\n",
       "    }\n",
       "\n",
       "    .dataframe thead th {\n",
       "        text-align: right;\n",
       "    }\n",
       "</style>\n",
       "<table border=\"1\" class=\"dataframe\">\n",
       "  <thead>\n",
       "    <tr style=\"text-align: right;\">\n",
       "      <th></th>\n",
       "      <th>label</th>\n",
       "      <th>coff.timestamp</th>\n",
       "      <th>coff.characteristics.aggressive_ws_trim</th>\n",
       "      <th>coff.characteristics.bytes_reversed_hi</th>\n",
       "      <th>coff.characteristics.bytes_reversed_lo</th>\n",
       "      <th>coff.characteristics.chara_32bit_machine</th>\n",
       "      <th>coff.characteristics.debug_stripped</th>\n",
       "      <th>coff.characteristics.dll</th>\n",
       "      <th>coff.characteristics.executable_image</th>\n",
       "      <th>coff.characteristics.large_address_aware</th>\n",
       "      <th>coff.characteristics.line_nums_stripped</th>\n",
       "      <th>coff.characteristics.local_syms_stripped</th>\n",
       "      <th>coff.characteristics.net_run_from_swap</th>\n",
       "      <th>coff.characteristics.relocs_stripped</th>\n",
       "      <th>coff.characteristics.removable_run_from_swap</th>\n",
       "      <th>coff.characteristics.system</th>\n",
       "      <th>coff.characteristics.up_system_only</th>\n",
       "      <th>optional.dll_characteristics.appcontainer</th>\n",
       "      <th>optional.dll_characteristics.dynamic_base</th>\n",
       "      <th>optional.dll_characteristics.force_integrity</th>\n",
       "      <th>optional.dll_characteristics.guard_cf</th>\n",
       "      <th>optional.dll_characteristics.high_entropy_va</th>\n",
       "      <th>optional.dll_characteristics.no_bind</th>\n",
       "      <th>optional.dll_characteristics.no_isolation</th>\n",
       "      <th>optional.dll_characteristics.no_seh</th>\n",
       "      <th>optional.dll_characteristics.nx_compat</th>\n",
       "      <th>optional.dll_characteristics.terminal_server_aware</th>\n",
       "      <th>optional.dll_characteristics.wdm_driver</th>\n",
       "      <th>optional.dll_characteristics.empty</th>\n",
       "      <th>optional.major_image_version</th>\n",
       "      <th>optional.minor_image_version</th>\n",
       "      <th>optional.major_linker_version</th>\n",
       "      <th>optional.minor_linker_version</th>\n",
       "      <th>optional.major_operating_system_version</th>\n",
       "      <th>optional.minor_operating_system_version</th>\n",
       "      <th>optional.major_subsystem_version</th>\n",
       "      <th>optional.minor_subsystem_version</th>\n",
       "      <th>optional.sizeof_code</th>\n",
       "      <th>optional.sizeof_headers</th>\n",
       "      <th>optional.sizeof_heap_commit</th>\n",
       "    </tr>\n",
       "  </thead>\n",
       "  <tbody>\n",
       "    <tr>\n",
       "      <th>count</th>\n",
       "      <td>1932.00</td>\n",
       "      <td>1932.00</td>\n",
       "      <td>1932.00</td>\n",
       "      <td>1932.00</td>\n",
       "      <td>1932.00</td>\n",
       "      <td>1932.00</td>\n",
       "      <td>1932.00</td>\n",
       "      <td>1932.00</td>\n",
       "      <td>1932.00</td>\n",
       "      <td>1932.00</td>\n",
       "      <td>1932.00</td>\n",
       "      <td>1932.00</td>\n",
       "      <td>1932.00</td>\n",
       "      <td>1932.00</td>\n",
       "      <td>1932.00</td>\n",
       "      <td>1932.00</td>\n",
       "      <td>1932.00</td>\n",
       "      <td>1932.00</td>\n",
       "      <td>1932.00</td>\n",
       "      <td>1932.00</td>\n",
       "      <td>1932.00</td>\n",
       "      <td>1932.00</td>\n",
       "      <td>1932.00</td>\n",
       "      <td>1932.00</td>\n",
       "      <td>1932.00</td>\n",
       "      <td>1932.00</td>\n",
       "      <td>1932.00</td>\n",
       "      <td>1932.00</td>\n",
       "      <td>1932.00</td>\n",
       "      <td>1932.00</td>\n",
       "      <td>1932.00</td>\n",
       "      <td>1932.00</td>\n",
       "      <td>1932.00</td>\n",
       "      <td>1932.00</td>\n",
       "      <td>1932.00</td>\n",
       "      <td>1932.00</td>\n",
       "      <td>1932.00</td>\n",
       "      <td>1932.00</td>\n",
       "      <td>1932.00</td>\n",
       "      <td>1932.00</td>\n",
       "    </tr>\n",
       "    <tr>\n",
       "      <th>mean</th>\n",
       "      <td>1.00</td>\n",
       "      <td>1335718057.02</td>\n",
       "      <td>0.00</td>\n",
       "      <td>0.17</td>\n",
       "      <td>0.17</td>\n",
       "      <td>0.97</td>\n",
       "      <td>0.07</td>\n",
       "      <td>0.05</td>\n",
       "      <td>1.00</td>\n",
       "      <td>0.04</td>\n",
       "      <td>0.58</td>\n",
       "      <td>0.58</td>\n",
       "      <td>0.00</td>\n",
       "      <td>0.52</td>\n",
       "      <td>0.00</td>\n",
       "      <td>0.00</td>\n",
       "      <td>0.00</td>\n",
       "      <td>0.00</td>\n",
       "      <td>0.35</td>\n",
       "      <td>0.00</td>\n",
       "      <td>0.00</td>\n",
       "      <td>0.01</td>\n",
       "      <td>0.01</td>\n",
       "      <td>0.00</td>\n",
       "      <td>0.13</td>\n",
       "      <td>0.37</td>\n",
       "      <td>0.45</td>\n",
       "      <td>0.00</td>\n",
       "      <td>0.51</td>\n",
       "      <td>1.12</td>\n",
       "      <td>0.31</td>\n",
       "      <td>8.23</td>\n",
       "      <td>10.52</td>\n",
       "      <td>4.33</td>\n",
       "      <td>0.31</td>\n",
       "      <td>4.43</td>\n",
       "      <td>0.28</td>\n",
       "      <td>4452641.93</td>\n",
       "      <td>4960.23</td>\n",
       "      <td>13663.93</td>\n",
       "    </tr>\n",
       "    <tr>\n",
       "      <th>std</th>\n",
       "      <td>0.00</td>\n",
       "      <td>323206620.45</td>\n",
       "      <td>0.05</td>\n",
       "      <td>0.37</td>\n",
       "      <td>0.38</td>\n",
       "      <td>0.16</td>\n",
       "      <td>0.26</td>\n",
       "      <td>0.21</td>\n",
       "      <td>0.00</td>\n",
       "      <td>0.20</td>\n",
       "      <td>0.49</td>\n",
       "      <td>0.49</td>\n",
       "      <td>0.03</td>\n",
       "      <td>0.50</td>\n",
       "      <td>0.02</td>\n",
       "      <td>0.05</td>\n",
       "      <td>0.02</td>\n",
       "      <td>0.00</td>\n",
       "      <td>0.48</td>\n",
       "      <td>0.00</td>\n",
       "      <td>0.07</td>\n",
       "      <td>0.10</td>\n",
       "      <td>0.08</td>\n",
       "      <td>0.05</td>\n",
       "      <td>0.34</td>\n",
       "      <td>0.48</td>\n",
       "      <td>0.50</td>\n",
       "      <td>0.00</td>\n",
       "      <td>0.50</td>\n",
       "      <td>4.14</td>\n",
       "      <td>2.40</td>\n",
       "      <td>8.78</td>\n",
       "      <td>18.58</td>\n",
       "      <td>0.85</td>\n",
       "      <td>0.83</td>\n",
       "      <td>0.55</td>\n",
       "      <td>0.71</td>\n",
       "      <td>111322158.40</td>\n",
       "      <td>133594.64</td>\n",
       "      <td>102271.21</td>\n",
       "    </tr>\n",
       "    <tr>\n",
       "      <th>min</th>\n",
       "      <td>1.00</td>\n",
       "      <td>0.00</td>\n",
       "      <td>0.00</td>\n",
       "      <td>0.00</td>\n",
       "      <td>0.00</td>\n",
       "      <td>0.00</td>\n",
       "      <td>0.00</td>\n",
       "      <td>0.00</td>\n",
       "      <td>1.00</td>\n",
       "      <td>0.00</td>\n",
       "      <td>0.00</td>\n",
       "      <td>0.00</td>\n",
       "      <td>0.00</td>\n",
       "      <td>0.00</td>\n",
       "      <td>0.00</td>\n",
       "      <td>0.00</td>\n",
       "      <td>0.00</td>\n",
       "      <td>0.00</td>\n",
       "      <td>0.00</td>\n",
       "      <td>0.00</td>\n",
       "      <td>0.00</td>\n",
       "      <td>0.00</td>\n",
       "      <td>0.00</td>\n",
       "      <td>0.00</td>\n",
       "      <td>0.00</td>\n",
       "      <td>0.00</td>\n",
       "      <td>0.00</td>\n",
       "      <td>0.00</td>\n",
       "      <td>0.00</td>\n",
       "      <td>0.00</td>\n",
       "      <td>0.00</td>\n",
       "      <td>0.00</td>\n",
       "      <td>0.00</td>\n",
       "      <td>1.00</td>\n",
       "      <td>0.00</td>\n",
       "      <td>3.00</td>\n",
       "      <td>0.00</td>\n",
       "      <td>0.00</td>\n",
       "      <td>448.00</td>\n",
       "      <td>0.00</td>\n",
       "    </tr>\n",
       "    <tr>\n",
       "      <th>25%</th>\n",
       "      <td>1.00</td>\n",
       "      <td>1288891385.75</td>\n",
       "      <td>0.00</td>\n",
       "      <td>0.00</td>\n",
       "      <td>0.00</td>\n",
       "      <td>1.00</td>\n",
       "      <td>0.00</td>\n",
       "      <td>0.00</td>\n",
       "      <td>1.00</td>\n",
       "      <td>0.00</td>\n",
       "      <td>0.00</td>\n",
       "      <td>0.00</td>\n",
       "      <td>0.00</td>\n",
       "      <td>0.00</td>\n",
       "      <td>0.00</td>\n",
       "      <td>0.00</td>\n",
       "      <td>0.00</td>\n",
       "      <td>0.00</td>\n",
       "      <td>0.00</td>\n",
       "      <td>0.00</td>\n",
       "      <td>0.00</td>\n",
       "      <td>0.00</td>\n",
       "      <td>0.00</td>\n",
       "      <td>0.00</td>\n",
       "      <td>0.00</td>\n",
       "      <td>0.00</td>\n",
       "      <td>0.00</td>\n",
       "      <td>0.00</td>\n",
       "      <td>0.00</td>\n",
       "      <td>0.00</td>\n",
       "      <td>0.00</td>\n",
       "      <td>2.00</td>\n",
       "      <td>0.00</td>\n",
       "      <td>4.00</td>\n",
       "      <td>0.00</td>\n",
       "      <td>4.00</td>\n",
       "      <td>0.00</td>\n",
       "      <td>32768.00</td>\n",
       "      <td>1024.00</td>\n",
       "      <td>4096.00</td>\n",
       "    </tr>\n",
       "    <tr>\n",
       "      <th>50%</th>\n",
       "      <td>1.00</td>\n",
       "      <td>1467119444.50</td>\n",
       "      <td>0.00</td>\n",
       "      <td>0.00</td>\n",
       "      <td>0.00</td>\n",
       "      <td>1.00</td>\n",
       "      <td>0.00</td>\n",
       "      <td>0.00</td>\n",
       "      <td>1.00</td>\n",
       "      <td>0.00</td>\n",
       "      <td>1.00</td>\n",
       "      <td>1.00</td>\n",
       "      <td>0.00</td>\n",
       "      <td>1.00</td>\n",
       "      <td>0.00</td>\n",
       "      <td>0.00</td>\n",
       "      <td>0.00</td>\n",
       "      <td>0.00</td>\n",
       "      <td>0.00</td>\n",
       "      <td>0.00</td>\n",
       "      <td>0.00</td>\n",
       "      <td>0.00</td>\n",
       "      <td>0.00</td>\n",
       "      <td>0.00</td>\n",
       "      <td>0.00</td>\n",
       "      <td>0.00</td>\n",
       "      <td>0.00</td>\n",
       "      <td>0.00</td>\n",
       "      <td>1.00</td>\n",
       "      <td>0.00</td>\n",
       "      <td>0.00</td>\n",
       "      <td>6.00</td>\n",
       "      <td>0.00</td>\n",
       "      <td>4.00</td>\n",
       "      <td>0.00</td>\n",
       "      <td>4.00</td>\n",
       "      <td>0.00</td>\n",
       "      <td>135168.00</td>\n",
       "      <td>1024.00</td>\n",
       "      <td>4096.00</td>\n",
       "    </tr>\n",
       "    <tr>\n",
       "      <th>75%</th>\n",
       "      <td>1.00</td>\n",
       "      <td>1520202898.75</td>\n",
       "      <td>0.00</td>\n",
       "      <td>0.00</td>\n",
       "      <td>0.00</td>\n",
       "      <td>1.00</td>\n",
       "      <td>0.00</td>\n",
       "      <td>0.00</td>\n",
       "      <td>1.00</td>\n",
       "      <td>0.00</td>\n",
       "      <td>1.00</td>\n",
       "      <td>1.00</td>\n",
       "      <td>0.00</td>\n",
       "      <td>1.00</td>\n",
       "      <td>0.00</td>\n",
       "      <td>0.00</td>\n",
       "      <td>0.00</td>\n",
       "      <td>0.00</td>\n",
       "      <td>1.00</td>\n",
       "      <td>0.00</td>\n",
       "      <td>0.00</td>\n",
       "      <td>0.00</td>\n",
       "      <td>0.00</td>\n",
       "      <td>0.00</td>\n",
       "      <td>0.00</td>\n",
       "      <td>1.00</td>\n",
       "      <td>1.00</td>\n",
       "      <td>0.00</td>\n",
       "      <td>1.00</td>\n",
       "      <td>0.00</td>\n",
       "      <td>0.00</td>\n",
       "      <td>11.00</td>\n",
       "      <td>25.00</td>\n",
       "      <td>5.00</td>\n",
       "      <td>1.00</td>\n",
       "      <td>5.00</td>\n",
       "      <td>0.00</td>\n",
       "      <td>443392.00</td>\n",
       "      <td>4096.00</td>\n",
       "      <td>4096.00</td>\n",
       "    </tr>\n",
       "    <tr>\n",
       "      <th>max</th>\n",
       "      <td>1.00</td>\n",
       "      <td>3968609835.00</td>\n",
       "      <td>1.00</td>\n",
       "      <td>1.00</td>\n",
       "      <td>1.00</td>\n",
       "      <td>1.00</td>\n",
       "      <td>1.00</td>\n",
       "      <td>1.00</td>\n",
       "      <td>1.00</td>\n",
       "      <td>1.00</td>\n",
       "      <td>1.00</td>\n",
       "      <td>1.00</td>\n",
       "      <td>1.00</td>\n",
       "      <td>1.00</td>\n",
       "      <td>1.00</td>\n",
       "      <td>1.00</td>\n",
       "      <td>1.00</td>\n",
       "      <td>0.00</td>\n",
       "      <td>1.00</td>\n",
       "      <td>0.00</td>\n",
       "      <td>1.00</td>\n",
       "      <td>1.00</td>\n",
       "      <td>1.00</td>\n",
       "      <td>1.00</td>\n",
       "      <td>1.00</td>\n",
       "      <td>1.00</td>\n",
       "      <td>1.00</td>\n",
       "      <td>0.00</td>\n",
       "      <td>1.00</td>\n",
       "      <td>40.00</td>\n",
       "      <td>50.00</td>\n",
       "      <td>208.00</td>\n",
       "      <td>255.00</td>\n",
       "      <td>10.00</td>\n",
       "      <td>11.00</td>\n",
       "      <td>6.00</td>\n",
       "      <td>10.00</td>\n",
       "      <td>4294967295.00</td>\n",
       "      <td>5873664.00</td>\n",
       "      <td>1286144.00</td>\n",
       "    </tr>\n",
       "  </tbody>\n",
       "</table>\n",
       "</div>"
      ],
      "text/plain": [
       "        label  coff.timestamp  coff.characteristics.aggressive_ws_trim  coff.characteristics.bytes_reversed_hi  coff.characteristics.bytes_reversed_lo  coff.characteristics.chara_32bit_machine  coff.characteristics.debug_stripped  coff.characteristics.dll  coff.characteristics.executable_image  coff.characteristics.large_address_aware  coff.characteristics.line_nums_stripped  coff.characteristics.local_syms_stripped  coff.characteristics.net_run_from_swap  coff.characteristics.relocs_stripped  coff.characteristics.removable_run_from_swap  coff.characteristics.system  coff.characteristics.up_system_only  optional.dll_characteristics.appcontainer  optional.dll_characteristics.dynamic_base  optional.dll_characteristics.force_integrity  optional.dll_characteristics.guard_cf  optional.dll_characteristics.high_entropy_va  optional.dll_characteristics.no_bind  optional.dll_characteristics.no_isolation  optional.dll_characteristics.no_seh  optional.dll_characteristics.nx_compat  \\\n",
       "count 1932.00         1932.00                                  1932.00                                 1932.00                                 1932.00                                   1932.00                              1932.00                   1932.00                                1932.00                                   1932.00                                  1932.00                                   1932.00                                 1932.00                               1932.00                                       1932.00                      1932.00                              1932.00                                    1932.00                                    1932.00                                       1932.00                                1932.00                                       1932.00                               1932.00                                    1932.00                              1932.00                                 1932.00   \n",
       "mean     1.00   1335718057.02                                     0.00                                    0.17                                    0.17                                      0.97                                 0.07                      0.05                                   1.00                                      0.04                                     0.58                                      0.58                                    0.00                                  0.52                                          0.00                         0.00                                 0.00                                       0.00                                       0.35                                          0.00                                   0.00                                          0.01                                  0.01                                       0.00                                 0.13                                    0.37   \n",
       "std      0.00    323206620.45                                     0.05                                    0.37                                    0.38                                      0.16                                 0.26                      0.21                                   0.00                                      0.20                                     0.49                                      0.49                                    0.03                                  0.50                                          0.02                         0.05                                 0.02                                       0.00                                       0.48                                          0.00                                   0.07                                          0.10                                  0.08                                       0.05                                 0.34                                    0.48   \n",
       "min      1.00            0.00                                     0.00                                    0.00                                    0.00                                      0.00                                 0.00                      0.00                                   1.00                                      0.00                                     0.00                                      0.00                                    0.00                                  0.00                                          0.00                         0.00                                 0.00                                       0.00                                       0.00                                          0.00                                   0.00                                          0.00                                  0.00                                       0.00                                 0.00                                    0.00   \n",
       "25%      1.00   1288891385.75                                     0.00                                    0.00                                    0.00                                      1.00                                 0.00                      0.00                                   1.00                                      0.00                                     0.00                                      0.00                                    0.00                                  0.00                                          0.00                         0.00                                 0.00                                       0.00                                       0.00                                          0.00                                   0.00                                          0.00                                  0.00                                       0.00                                 0.00                                    0.00   \n",
       "50%      1.00   1467119444.50                                     0.00                                    0.00                                    0.00                                      1.00                                 0.00                      0.00                                   1.00                                      0.00                                     1.00                                      1.00                                    0.00                                  1.00                                          0.00                         0.00                                 0.00                                       0.00                                       0.00                                          0.00                                   0.00                                          0.00                                  0.00                                       0.00                                 0.00                                    0.00   \n",
       "75%      1.00   1520202898.75                                     0.00                                    0.00                                    0.00                                      1.00                                 0.00                      0.00                                   1.00                                      0.00                                     1.00                                      1.00                                    0.00                                  1.00                                          0.00                         0.00                                 0.00                                       0.00                                       1.00                                          0.00                                   0.00                                          0.00                                  0.00                                       0.00                                 0.00                                    1.00   \n",
       "max      1.00   3968609835.00                                     1.00                                    1.00                                    1.00                                      1.00                                 1.00                      1.00                                   1.00                                      1.00                                     1.00                                      1.00                                    1.00                                  1.00                                          1.00                         1.00                                 1.00                                       0.00                                       1.00                                          0.00                                   1.00                                          1.00                                  1.00                                       1.00                                 1.00                                    1.00   \n",
       "\n",
       "       optional.dll_characteristics.terminal_server_aware  optional.dll_characteristics.wdm_driver  optional.dll_characteristics.empty  optional.major_image_version  optional.minor_image_version  optional.major_linker_version  optional.minor_linker_version  optional.major_operating_system_version  optional.minor_operating_system_version  optional.major_subsystem_version  optional.minor_subsystem_version  optional.sizeof_code  optional.sizeof_headers  optional.sizeof_heap_commit  \n",
       "count                                            1932.00                                   1932.00                             1932.00                       1932.00                       1932.00                        1932.00                        1932.00                                  1932.00                                  1932.00                           1932.00                           1932.00               1932.00                  1932.00                      1932.00  \n",
       "mean                                                0.45                                      0.00                                0.51                          1.12                          0.31                           8.23                          10.52                                     4.33                                     0.31                              4.43                              0.28            4452641.93                  4960.23                     13663.93  \n",
       "std                                                 0.50                                      0.00                                0.50                          4.14                          2.40                           8.78                          18.58                                     0.85                                     0.83                              0.55                              0.71          111322158.40                133594.64                    102271.21  \n",
       "min                                                 0.00                                      0.00                                0.00                          0.00                          0.00                           0.00                           0.00                                     1.00                                     0.00                              3.00                              0.00                  0.00                   448.00                         0.00  \n",
       "25%                                                 0.00                                      0.00                                0.00                          0.00                          0.00                           2.00                           0.00                                     4.00                                     0.00                              4.00                              0.00              32768.00                  1024.00                      4096.00  \n",
       "50%                                                 0.00                                      0.00                                1.00                          0.00                          0.00                           6.00                           0.00                                     4.00                                     0.00                              4.00                              0.00             135168.00                  1024.00                      4096.00  \n",
       "75%                                                 1.00                                      0.00                                1.00                          0.00                          0.00                          11.00                          25.00                                     5.00                                     1.00                              5.00                              0.00             443392.00                  4096.00                      4096.00  \n",
       "max                                                 1.00                                      0.00                                1.00                         40.00                         50.00                         208.00                         255.00                                    10.00                                    11.00                              6.00                             10.00         4294967295.00               5873664.00                   1286144.00  "
      ]
     },
     "execution_count": 114,
     "metadata": {},
     "output_type": "execute_result"
    }
   ],
   "source": [
    "malware.describe()"
   ]
  },
  {
   "cell_type": "code",
   "execution_count": 115,
   "id": "first-airplane",
   "metadata": {},
   "outputs": [
    {
     "data": {
      "text/html": [
       "<div>\n",
       "<style scoped>\n",
       "    .dataframe tbody tr th:only-of-type {\n",
       "        vertical-align: middle;\n",
       "    }\n",
       "\n",
       "    .dataframe tbody tr th {\n",
       "        vertical-align: top;\n",
       "    }\n",
       "\n",
       "    .dataframe thead th {\n",
       "        text-align: right;\n",
       "    }\n",
       "</style>\n",
       "<table border=\"1\" class=\"dataframe\">\n",
       "  <thead>\n",
       "    <tr style=\"text-align: right;\">\n",
       "      <th></th>\n",
       "      <th>label</th>\n",
       "      <th>coff.timestamp</th>\n",
       "      <th>coff.characteristics.aggressive_ws_trim</th>\n",
       "      <th>coff.characteristics.bytes_reversed_hi</th>\n",
       "      <th>coff.characteristics.bytes_reversed_lo</th>\n",
       "      <th>coff.characteristics.chara_32bit_machine</th>\n",
       "      <th>coff.characteristics.debug_stripped</th>\n",
       "      <th>coff.characteristics.dll</th>\n",
       "      <th>coff.characteristics.executable_image</th>\n",
       "      <th>coff.characteristics.large_address_aware</th>\n",
       "      <th>coff.characteristics.line_nums_stripped</th>\n",
       "      <th>coff.characteristics.local_syms_stripped</th>\n",
       "      <th>coff.characteristics.net_run_from_swap</th>\n",
       "      <th>coff.characteristics.relocs_stripped</th>\n",
       "      <th>coff.characteristics.removable_run_from_swap</th>\n",
       "      <th>coff.characteristics.system</th>\n",
       "      <th>coff.characteristics.up_system_only</th>\n",
       "      <th>optional.dll_characteristics.appcontainer</th>\n",
       "      <th>optional.dll_characteristics.dynamic_base</th>\n",
       "      <th>optional.dll_characteristics.force_integrity</th>\n",
       "      <th>optional.dll_characteristics.guard_cf</th>\n",
       "      <th>optional.dll_characteristics.high_entropy_va</th>\n",
       "      <th>optional.dll_characteristics.no_bind</th>\n",
       "      <th>optional.dll_characteristics.no_isolation</th>\n",
       "      <th>optional.dll_characteristics.no_seh</th>\n",
       "      <th>optional.dll_characteristics.nx_compat</th>\n",
       "      <th>optional.dll_characteristics.terminal_server_aware</th>\n",
       "      <th>optional.dll_characteristics.wdm_driver</th>\n",
       "      <th>optional.dll_characteristics.empty</th>\n",
       "      <th>optional.major_image_version</th>\n",
       "      <th>optional.minor_image_version</th>\n",
       "      <th>optional.major_linker_version</th>\n",
       "      <th>optional.minor_linker_version</th>\n",
       "      <th>optional.major_operating_system_version</th>\n",
       "      <th>optional.minor_operating_system_version</th>\n",
       "      <th>optional.major_subsystem_version</th>\n",
       "      <th>optional.minor_subsystem_version</th>\n",
       "      <th>optional.sizeof_code</th>\n",
       "      <th>optional.sizeof_headers</th>\n",
       "      <th>optional.sizeof_heap_commit</th>\n",
       "    </tr>\n",
       "  </thead>\n",
       "  <tbody>\n",
       "    <tr>\n",
       "      <th>count</th>\n",
       "      <td>2750.00</td>\n",
       "      <td>2750.00</td>\n",
       "      <td>2750.00</td>\n",
       "      <td>2750.00</td>\n",
       "      <td>2750.00</td>\n",
       "      <td>2750.00</td>\n",
       "      <td>2750.00</td>\n",
       "      <td>2750.00</td>\n",
       "      <td>2750.00</td>\n",
       "      <td>2750.00</td>\n",
       "      <td>2750.00</td>\n",
       "      <td>2750.00</td>\n",
       "      <td>2750.00</td>\n",
       "      <td>2750.00</td>\n",
       "      <td>2750.00</td>\n",
       "      <td>2750.00</td>\n",
       "      <td>2750.00</td>\n",
       "      <td>2750.00</td>\n",
       "      <td>2750.00</td>\n",
       "      <td>2750.00</td>\n",
       "      <td>2750.00</td>\n",
       "      <td>2750.00</td>\n",
       "      <td>2750.00</td>\n",
       "      <td>2750.00</td>\n",
       "      <td>2750.00</td>\n",
       "      <td>2750.00</td>\n",
       "      <td>2750.00</td>\n",
       "      <td>2750.00</td>\n",
       "      <td>2750.00</td>\n",
       "      <td>2750.00</td>\n",
       "      <td>2750.00</td>\n",
       "      <td>2750.00</td>\n",
       "      <td>2750.00</td>\n",
       "      <td>2750.00</td>\n",
       "      <td>2750.00</td>\n",
       "      <td>2750.00</td>\n",
       "      <td>2750.00</td>\n",
       "      <td>2750.00</td>\n",
       "      <td>2750.00</td>\n",
       "      <td>2750.00</td>\n",
       "    </tr>\n",
       "    <tr>\n",
       "      <th>mean</th>\n",
       "      <td>0.00</td>\n",
       "      <td>1254252801.00</td>\n",
       "      <td>0.00</td>\n",
       "      <td>0.07</td>\n",
       "      <td>0.07</td>\n",
       "      <td>0.86</td>\n",
       "      <td>0.04</td>\n",
       "      <td>0.44</td>\n",
       "      <td>1.00</td>\n",
       "      <td>0.17</td>\n",
       "      <td>0.46</td>\n",
       "      <td>0.44</td>\n",
       "      <td>0.01</td>\n",
       "      <td>0.32</td>\n",
       "      <td>0.02</td>\n",
       "      <td>0.00</td>\n",
       "      <td>0.00</td>\n",
       "      <td>0.00</td>\n",
       "      <td>0.46</td>\n",
       "      <td>0.00</td>\n",
       "      <td>0.05</td>\n",
       "      <td>0.09</td>\n",
       "      <td>0.00</td>\n",
       "      <td>0.00</td>\n",
       "      <td>0.28</td>\n",
       "      <td>0.48</td>\n",
       "      <td>0.33</td>\n",
       "      <td>0.00</td>\n",
       "      <td>0.41</td>\n",
       "      <td>56.22</td>\n",
       "      <td>53.13</td>\n",
       "      <td>9.85</td>\n",
       "      <td>5.68</td>\n",
       "      <td>4.81</td>\n",
       "      <td>0.23</td>\n",
       "      <td>4.67</td>\n",
       "      <td>0.40</td>\n",
       "      <td>403437.02</td>\n",
       "      <td>1853.82</td>\n",
       "      <td>4763.28</td>\n",
       "    </tr>\n",
       "    <tr>\n",
       "      <th>std</th>\n",
       "      <td>0.00</td>\n",
       "      <td>510888160.18</td>\n",
       "      <td>0.05</td>\n",
       "      <td>0.25</td>\n",
       "      <td>0.25</td>\n",
       "      <td>0.35</td>\n",
       "      <td>0.18</td>\n",
       "      <td>0.50</td>\n",
       "      <td>0.02</td>\n",
       "      <td>0.38</td>\n",
       "      <td>0.50</td>\n",
       "      <td>0.50</td>\n",
       "      <td>0.10</td>\n",
       "      <td>0.47</td>\n",
       "      <td>0.12</td>\n",
       "      <td>0.00</td>\n",
       "      <td>0.00</td>\n",
       "      <td>0.06</td>\n",
       "      <td>0.50</td>\n",
       "      <td>0.06</td>\n",
       "      <td>0.22</td>\n",
       "      <td>0.28</td>\n",
       "      <td>0.02</td>\n",
       "      <td>0.02</td>\n",
       "      <td>0.45</td>\n",
       "      <td>0.50</td>\n",
       "      <td>0.47</td>\n",
       "      <td>0.03</td>\n",
       "      <td>0.49</td>\n",
       "      <td>1378.02</td>\n",
       "      <td>1142.25</td>\n",
       "      <td>9.13</td>\n",
       "      <td>10.62</td>\n",
       "      <td>1.87</td>\n",
       "      <td>0.58</td>\n",
       "      <td>1.23</td>\n",
       "      <td>1.67</td>\n",
       "      <td>1390395.90</td>\n",
       "      <td>3116.77</td>\n",
       "      <td>28173.85</td>\n",
       "    </tr>\n",
       "    <tr>\n",
       "      <th>min</th>\n",
       "      <td>0.00</td>\n",
       "      <td>0.00</td>\n",
       "      <td>0.00</td>\n",
       "      <td>0.00</td>\n",
       "      <td>0.00</td>\n",
       "      <td>0.00</td>\n",
       "      <td>0.00</td>\n",
       "      <td>0.00</td>\n",
       "      <td>0.00</td>\n",
       "      <td>0.00</td>\n",
       "      <td>0.00</td>\n",
       "      <td>0.00</td>\n",
       "      <td>0.00</td>\n",
       "      <td>0.00</td>\n",
       "      <td>0.00</td>\n",
       "      <td>0.00</td>\n",
       "      <td>0.00</td>\n",
       "      <td>0.00</td>\n",
       "      <td>0.00</td>\n",
       "      <td>0.00</td>\n",
       "      <td>0.00</td>\n",
       "      <td>0.00</td>\n",
       "      <td>0.00</td>\n",
       "      <td>0.00</td>\n",
       "      <td>0.00</td>\n",
       "      <td>0.00</td>\n",
       "      <td>0.00</td>\n",
       "      <td>0.00</td>\n",
       "      <td>0.00</td>\n",
       "      <td>0.00</td>\n",
       "      <td>0.00</td>\n",
       "      <td>0.00</td>\n",
       "      <td>0.00</td>\n",
       "      <td>0.00</td>\n",
       "      <td>0.00</td>\n",
       "      <td>0.00</td>\n",
       "      <td>0.00</td>\n",
       "      <td>0.00</td>\n",
       "      <td>392.00</td>\n",
       "      <td>0.00</td>\n",
       "    </tr>\n",
       "    <tr>\n",
       "      <th>25%</th>\n",
       "      <td>0.00</td>\n",
       "      <td>1089485494.75</td>\n",
       "      <td>0.00</td>\n",
       "      <td>0.00</td>\n",
       "      <td>0.00</td>\n",
       "      <td>1.00</td>\n",
       "      <td>0.00</td>\n",
       "      <td>0.00</td>\n",
       "      <td>1.00</td>\n",
       "      <td>0.00</td>\n",
       "      <td>0.00</td>\n",
       "      <td>0.00</td>\n",
       "      <td>0.00</td>\n",
       "      <td>0.00</td>\n",
       "      <td>0.00</td>\n",
       "      <td>0.00</td>\n",
       "      <td>0.00</td>\n",
       "      <td>0.00</td>\n",
       "      <td>0.00</td>\n",
       "      <td>0.00</td>\n",
       "      <td>0.00</td>\n",
       "      <td>0.00</td>\n",
       "      <td>0.00</td>\n",
       "      <td>0.00</td>\n",
       "      <td>0.00</td>\n",
       "      <td>0.00</td>\n",
       "      <td>0.00</td>\n",
       "      <td>0.00</td>\n",
       "      <td>0.00</td>\n",
       "      <td>0.00</td>\n",
       "      <td>0.00</td>\n",
       "      <td>6.00</td>\n",
       "      <td>0.00</td>\n",
       "      <td>4.00</td>\n",
       "      <td>0.00</td>\n",
       "      <td>4.00</td>\n",
       "      <td>0.00</td>\n",
       "      <td>12288.00</td>\n",
       "      <td>1024.00</td>\n",
       "      <td>4096.00</td>\n",
       "    </tr>\n",
       "    <tr>\n",
       "      <th>50%</th>\n",
       "      <td>0.00</td>\n",
       "      <td>1247682501.50</td>\n",
       "      <td>0.00</td>\n",
       "      <td>0.00</td>\n",
       "      <td>0.00</td>\n",
       "      <td>1.00</td>\n",
       "      <td>0.00</td>\n",
       "      <td>0.00</td>\n",
       "      <td>1.00</td>\n",
       "      <td>0.00</td>\n",
       "      <td>0.00</td>\n",
       "      <td>0.00</td>\n",
       "      <td>0.00</td>\n",
       "      <td>0.00</td>\n",
       "      <td>0.00</td>\n",
       "      <td>0.00</td>\n",
       "      <td>0.00</td>\n",
       "      <td>0.00</td>\n",
       "      <td>0.00</td>\n",
       "      <td>0.00</td>\n",
       "      <td>0.00</td>\n",
       "      <td>0.00</td>\n",
       "      <td>0.00</td>\n",
       "      <td>0.00</td>\n",
       "      <td>0.00</td>\n",
       "      <td>0.00</td>\n",
       "      <td>0.00</td>\n",
       "      <td>0.00</td>\n",
       "      <td>0.00</td>\n",
       "      <td>0.00</td>\n",
       "      <td>0.00</td>\n",
       "      <td>8.00</td>\n",
       "      <td>0.00</td>\n",
       "      <td>4.00</td>\n",
       "      <td>0.00</td>\n",
       "      <td>4.00</td>\n",
       "      <td>0.00</td>\n",
       "      <td>58880.00</td>\n",
       "      <td>1024.00</td>\n",
       "      <td>4096.00</td>\n",
       "    </tr>\n",
       "    <tr>\n",
       "      <th>75%</th>\n",
       "      <td>0.00</td>\n",
       "      <td>1514777852.50</td>\n",
       "      <td>0.00</td>\n",
       "      <td>0.00</td>\n",
       "      <td>0.00</td>\n",
       "      <td>1.00</td>\n",
       "      <td>0.00</td>\n",
       "      <td>1.00</td>\n",
       "      <td>1.00</td>\n",
       "      <td>0.00</td>\n",
       "      <td>1.00</td>\n",
       "      <td>1.00</td>\n",
       "      <td>0.00</td>\n",
       "      <td>1.00</td>\n",
       "      <td>0.00</td>\n",
       "      <td>0.00</td>\n",
       "      <td>0.00</td>\n",
       "      <td>0.00</td>\n",
       "      <td>1.00</td>\n",
       "      <td>0.00</td>\n",
       "      <td>0.00</td>\n",
       "      <td>0.00</td>\n",
       "      <td>0.00</td>\n",
       "      <td>0.00</td>\n",
       "      <td>1.00</td>\n",
       "      <td>1.00</td>\n",
       "      <td>1.00</td>\n",
       "      <td>0.00</td>\n",
       "      <td>1.00</td>\n",
       "      <td>4.00</td>\n",
       "      <td>0.00</td>\n",
       "      <td>11.00</td>\n",
       "      <td>10.00</td>\n",
       "      <td>5.00</td>\n",
       "      <td>0.00</td>\n",
       "      <td>5.00</td>\n",
       "      <td>0.00</td>\n",
       "      <td>276096.00</td>\n",
       "      <td>4096.00</td>\n",
       "      <td>4096.00</td>\n",
       "    </tr>\n",
       "    <tr>\n",
       "      <th>max</th>\n",
       "      <td>0.00</td>\n",
       "      <td>4279508411.00</td>\n",
       "      <td>1.00</td>\n",
       "      <td>1.00</td>\n",
       "      <td>1.00</td>\n",
       "      <td>1.00</td>\n",
       "      <td>1.00</td>\n",
       "      <td>1.00</td>\n",
       "      <td>1.00</td>\n",
       "      <td>1.00</td>\n",
       "      <td>1.00</td>\n",
       "      <td>1.00</td>\n",
       "      <td>1.00</td>\n",
       "      <td>1.00</td>\n",
       "      <td>1.00</td>\n",
       "      <td>0.00</td>\n",
       "      <td>0.00</td>\n",
       "      <td>1.00</td>\n",
       "      <td>1.00</td>\n",
       "      <td>1.00</td>\n",
       "      <td>1.00</td>\n",
       "      <td>1.00</td>\n",
       "      <td>1.00</td>\n",
       "      <td>1.00</td>\n",
       "      <td>1.00</td>\n",
       "      <td>1.00</td>\n",
       "      <td>1.00</td>\n",
       "      <td>1.00</td>\n",
       "      <td>1.00</td>\n",
       "      <td>58337.00</td>\n",
       "      <td>34355.00</td>\n",
       "      <td>83.00</td>\n",
       "      <td>82.00</td>\n",
       "      <td>10.00</td>\n",
       "      <td>11.00</td>\n",
       "      <td>10.00</td>\n",
       "      <td>50.00</td>\n",
       "      <td>29429760.00</td>\n",
       "      <td>131072.00</td>\n",
       "      <td>1048576.00</td>\n",
       "    </tr>\n",
       "  </tbody>\n",
       "</table>\n",
       "</div>"
      ],
      "text/plain": [
       "        label  coff.timestamp  coff.characteristics.aggressive_ws_trim  coff.characteristics.bytes_reversed_hi  coff.characteristics.bytes_reversed_lo  coff.characteristics.chara_32bit_machine  coff.characteristics.debug_stripped  coff.characteristics.dll  coff.characteristics.executable_image  coff.characteristics.large_address_aware  coff.characteristics.line_nums_stripped  coff.characteristics.local_syms_stripped  coff.characteristics.net_run_from_swap  coff.characteristics.relocs_stripped  coff.characteristics.removable_run_from_swap  coff.characteristics.system  coff.characteristics.up_system_only  optional.dll_characteristics.appcontainer  optional.dll_characteristics.dynamic_base  optional.dll_characteristics.force_integrity  optional.dll_characteristics.guard_cf  optional.dll_characteristics.high_entropy_va  optional.dll_characteristics.no_bind  optional.dll_characteristics.no_isolation  optional.dll_characteristics.no_seh  optional.dll_characteristics.nx_compat  \\\n",
       "count 2750.00         2750.00                                  2750.00                                 2750.00                                 2750.00                                   2750.00                              2750.00                   2750.00                                2750.00                                   2750.00                                  2750.00                                   2750.00                                 2750.00                               2750.00                                       2750.00                      2750.00                              2750.00                                    2750.00                                    2750.00                                       2750.00                                2750.00                                       2750.00                               2750.00                                    2750.00                              2750.00                                 2750.00   \n",
       "mean     0.00   1254252801.00                                     0.00                                    0.07                                    0.07                                      0.86                                 0.04                      0.44                                   1.00                                      0.17                                     0.46                                      0.44                                    0.01                                  0.32                                          0.02                         0.00                                 0.00                                       0.00                                       0.46                                          0.00                                   0.05                                          0.09                                  0.00                                       0.00                                 0.28                                    0.48   \n",
       "std      0.00    510888160.18                                     0.05                                    0.25                                    0.25                                      0.35                                 0.18                      0.50                                   0.02                                      0.38                                     0.50                                      0.50                                    0.10                                  0.47                                          0.12                         0.00                                 0.00                                       0.06                                       0.50                                          0.06                                   0.22                                          0.28                                  0.02                                       0.02                                 0.45                                    0.50   \n",
       "min      0.00            0.00                                     0.00                                    0.00                                    0.00                                      0.00                                 0.00                      0.00                                   0.00                                      0.00                                     0.00                                      0.00                                    0.00                                  0.00                                          0.00                         0.00                                 0.00                                       0.00                                       0.00                                          0.00                                   0.00                                          0.00                                  0.00                                       0.00                                 0.00                                    0.00   \n",
       "25%      0.00   1089485494.75                                     0.00                                    0.00                                    0.00                                      1.00                                 0.00                      0.00                                   1.00                                      0.00                                     0.00                                      0.00                                    0.00                                  0.00                                          0.00                         0.00                                 0.00                                       0.00                                       0.00                                          0.00                                   0.00                                          0.00                                  0.00                                       0.00                                 0.00                                    0.00   \n",
       "50%      0.00   1247682501.50                                     0.00                                    0.00                                    0.00                                      1.00                                 0.00                      0.00                                   1.00                                      0.00                                     0.00                                      0.00                                    0.00                                  0.00                                          0.00                         0.00                                 0.00                                       0.00                                       0.00                                          0.00                                   0.00                                          0.00                                  0.00                                       0.00                                 0.00                                    0.00   \n",
       "75%      0.00   1514777852.50                                     0.00                                    0.00                                    0.00                                      1.00                                 0.00                      1.00                                   1.00                                      0.00                                     1.00                                      1.00                                    0.00                                  1.00                                          0.00                         0.00                                 0.00                                       0.00                                       1.00                                          0.00                                   0.00                                          0.00                                  0.00                                       0.00                                 1.00                                    1.00   \n",
       "max      0.00   4279508411.00                                     1.00                                    1.00                                    1.00                                      1.00                                 1.00                      1.00                                   1.00                                      1.00                                     1.00                                      1.00                                    1.00                                  1.00                                          1.00                         0.00                                 0.00                                       1.00                                       1.00                                          1.00                                   1.00                                          1.00                                  1.00                                       1.00                                 1.00                                    1.00   \n",
       "\n",
       "       optional.dll_characteristics.terminal_server_aware  optional.dll_characteristics.wdm_driver  optional.dll_characteristics.empty  optional.major_image_version  optional.minor_image_version  optional.major_linker_version  optional.minor_linker_version  optional.major_operating_system_version  optional.minor_operating_system_version  optional.major_subsystem_version  optional.minor_subsystem_version  optional.sizeof_code  optional.sizeof_headers  optional.sizeof_heap_commit  \n",
       "count                                            2750.00                                   2750.00                             2750.00                       2750.00                       2750.00                        2750.00                        2750.00                                  2750.00                                  2750.00                           2750.00                           2750.00               2750.00                  2750.00                      2750.00  \n",
       "mean                                                0.33                                      0.00                                0.41                         56.22                         53.13                           9.85                           5.68                                     4.81                                     0.23                              4.67                              0.40             403437.02                  1853.82                      4763.28  \n",
       "std                                                 0.47                                      0.03                                0.49                       1378.02                       1142.25                           9.13                          10.62                                     1.87                                     0.58                              1.23                              1.67            1390395.90                  3116.77                     28173.85  \n",
       "min                                                 0.00                                      0.00                                0.00                          0.00                          0.00                           0.00                           0.00                                     0.00                                     0.00                              0.00                              0.00                  0.00                   392.00                         0.00  \n",
       "25%                                                 0.00                                      0.00                                0.00                          0.00                          0.00                           6.00                           0.00                                     4.00                                     0.00                              4.00                              0.00              12288.00                  1024.00                      4096.00  \n",
       "50%                                                 0.00                                      0.00                                0.00                          0.00                          0.00                           8.00                           0.00                                     4.00                                     0.00                              4.00                              0.00              58880.00                  1024.00                      4096.00  \n",
       "75%                                                 1.00                                      0.00                                1.00                          4.00                          0.00                          11.00                          10.00                                     5.00                                     0.00                              5.00                              0.00             276096.00                  4096.00                      4096.00  \n",
       "max                                                 1.00                                      1.00                                1.00                      58337.00                      34355.00                          83.00                          82.00                                    10.00                                    11.00                             10.00                             50.00           29429760.00                131072.00                   1048576.00  "
      ]
     },
     "execution_count": 115,
     "metadata": {},
     "output_type": "execute_result"
    }
   ],
   "source": [
    "beingware.describe()"
   ]
  },
  {
   "cell_type": "code",
   "execution_count": 107,
   "id": "athletic-insurance",
   "metadata": {},
   "outputs": [
    {
     "data": {
      "text/plain": [
       "Index(['label', 'coff.timestamp', 'coff.machine', 'coff.characteristics.aggressive_ws_trim', 'coff.characteristics.bytes_reversed_hi', 'coff.characteristics.bytes_reversed_lo', 'coff.characteristics.chara_32bit_machine', 'coff.characteristics.debug_stripped', 'coff.characteristics.dll', 'coff.characteristics.executable_image', 'coff.characteristics.large_address_aware', 'coff.characteristics.line_nums_stripped', 'coff.characteristics.local_syms_stripped', 'coff.characteristics.net_run_from_swap', 'coff.characteristics.relocs_stripped', 'coff.characteristics.removable_run_from_swap', 'coff.characteristics.system', 'coff.characteristics.up_system_only', 'optional.subsystem', 'optional.dll_characteristics.appcontainer', 'optional.dll_characteristics.dynamic_base', 'optional.dll_characteristics.force_integrity', 'optional.dll_characteristics.guard_cf', 'optional.dll_characteristics.high_entropy_va', 'optional.dll_characteristics.no_bind', 'optional.dll_characteristics.no_isolation',\n",
       "       'optional.dll_characteristics.no_seh', 'optional.dll_characteristics.nx_compat', 'optional.dll_characteristics.terminal_server_aware', 'optional.dll_characteristics.wdm_driver', 'optional.dll_characteristics.empty', 'optional.magic', 'optional.major_image_version', 'optional.minor_image_version', 'optional.major_linker_version', 'optional.minor_linker_version', 'optional.major_operating_system_version', 'optional.minor_operating_system_version', 'optional.major_subsystem_version', 'optional.minor_subsystem_version', 'optional.sizeof_code', 'optional.sizeof_headers', 'optional.sizeof_heap_commit'],\n",
       "      dtype='object')"
      ]
     },
     "execution_count": 107,
     "metadata": {},
     "output_type": "execute_result"
    }
   ],
   "source": [
    "header_unpacked.columns"
   ]
  },
  {
   "cell_type": "code",
   "execution_count": null,
   "id": "approved-petroleum",
   "metadata": {},
   "outputs": [],
   "source": []
  },
  {
   "cell_type": "code",
   "execution_count": null,
   "id": "challenging-latter",
   "metadata": {},
   "outputs": [],
   "source": []
  },
  {
   "cell_type": "code",
   "execution_count": null,
   "id": "stupid-tiffany",
   "metadata": {},
   "outputs": [],
   "source": []
  },
  {
   "cell_type": "code",
   "execution_count": null,
   "id": "exterior-preliminary",
   "metadata": {},
   "outputs": [],
   "source": []
  },
  {
   "cell_type": "code",
   "execution_count": null,
   "id": "specialized-stevens",
   "metadata": {},
   "outputs": [],
   "source": []
  },
  {
   "cell_type": "code",
   "execution_count": null,
   "id": "breeding-cosmetic",
   "metadata": {},
   "outputs": [],
   "source": []
  },
  {
   "cell_type": "code",
   "execution_count": null,
   "id": "distinguished-soundtrack",
   "metadata": {},
   "outputs": [],
   "source": []
  },
  {
   "cell_type": "code",
   "execution_count": null,
   "id": "dependent-romania",
   "metadata": {},
   "outputs": [],
   "source": []
  },
  {
   "cell_type": "code",
   "execution_count": null,
   "id": "sunset-forth",
   "metadata": {},
   "outputs": [],
   "source": []
  },
  {
   "cell_type": "code",
   "execution_count": 14,
   "id": "supported-vintage",
   "metadata": {},
   "outputs": [],
   "source": [
    "coff_characteristics_lb = pd.concat([coff_characteristics,df.label],axis=1)"
   ]
  },
  {
   "cell_type": "code",
   "execution_count": 16,
   "id": "technological-journey",
   "metadata": {},
   "outputs": [
    {
     "data": {
      "text/plain": [
       "coff.characteristics.aggressive_ws_trim         float64\n",
       "coff.characteristics.bytes_reversed_hi          float64\n",
       "coff.characteristics.bytes_reversed_lo          float64\n",
       "coff.characteristics.chara_32bit_machine        float64\n",
       "coff.characteristics.debug_stripped             float64\n",
       "coff.characteristics.dll                        float64\n",
       "coff.characteristics.executable_image           float64\n",
       "coff.characteristics.large_address_aware        float64\n",
       "coff.characteristics.line_nums_stripped         float64\n",
       "coff.characteristics.local_syms_stripped        float64\n",
       "coff.characteristics.net_run_from_swap          float64\n",
       "coff.characteristics.relocs_stripped            float64\n",
       "coff.characteristics.removable_run_from_swap    float64\n",
       "coff.characteristics.system                     float64\n",
       "coff.characteristics.up_system_only             float64\n",
       "label                                             int64\n",
       "dtype: object"
      ]
     },
     "execution_count": 16,
     "metadata": {},
     "output_type": "execute_result"
    }
   ],
   "source": [
    "coff_characteristics_lb.dtypes"
   ]
  },
  {
   "cell_type": "code",
   "execution_count": 20,
   "id": "bridal-surface",
   "metadata": {},
   "outputs": [],
   "source": [
    "cf = coff_characteristics_lb[coff_characteristics_lb.label.isin([0,1])].copy()"
   ]
  },
  {
   "cell_type": "code",
   "execution_count": null,
   "id": "swiss-center",
   "metadata": {},
   "outputs": [],
   "source": [
    "sample.head()"
   ]
  },
  {
   "cell_type": "code",
   "execution_count": 43,
   "id": "perfect-fantasy",
   "metadata": {},
   "outputs": [],
   "source": [
    "sample = pd.concat([cf.iloc[:,12:15],cf.label],axis=1)"
   ]
  },
  {
   "cell_type": "code",
   "execution_count": 44,
   "id": "compound-surface",
   "metadata": {},
   "outputs": [
    {
     "data": {
      "image/png": "[encoded data removed]",
      "text/plain": [
       "<Figure size 582.375x540 with 12 Axes>"
      ]
     },
     "metadata": {
      "needs_background": "light"
     },
     "output_type": "display_data"
    }
   ],
   "source": [
    "sns.pairplot(sample, hue = 'label', diag_kind = 'hist')\n",
    "plt.show()"
   ]
  },
  {
   "cell_type": "code",
   "execution_count": null,
   "id": "unknown-computer",
   "metadata": {},
   "outputs": [],
   "source": []
  },
  {
   "cell_type": "code",
   "execution_count": 45,
   "id": "monetary-match",
   "metadata": {},
   "outputs": [],
   "source": [
    "from sklearn.manifold import TSNE"
   ]
  },
  {
   "cell_type": "code",
   "execution_count": 46,
   "id": "overhead-occasions",
   "metadata": {},
   "outputs": [],
   "source": [
    "m = TSNE(learning_rate = 50)"
   ]
  },
  {
   "cell_type": "code",
   "execution_count": 61,
   "id": "gorgeous-athletics",
   "metadata": {},
   "outputs": [],
   "source": [
    "cf_nolabel = cf.drop('label', axis =1)"
   ]
  },
  {
   "cell_type": "code",
   "execution_count": 62,
   "id": "secret-knight",
   "metadata": {},
   "outputs": [],
   "source": [
    "tsne_features = m.fit_transform(cf_nolabel)"
   ]
  },
  {
   "cell_type": "code",
   "execution_count": 63,
   "id": "worthy-option",
   "metadata": {},
   "outputs": [],
   "source": [
    "ex = pd.concat([pd.DataFrame(tsne_features, columns=['x','y']),cf.label],axis=1)"
   ]
  },
  {
   "cell_type": "code",
   "execution_count": 64,
   "id": "experimental-scholarship",
   "metadata": {},
   "outputs": [
    {
     "data": {
      "text/plain": [
       "<AxesSubplot:xlabel='x', ylabel='y'>"
      ]
     },
     "execution_count": 64,
     "metadata": {},
     "output_type": "execute_result"
    },
    {
     "data": {
      "image/png": "[encoded data removed]",
      "text/plain": [
       "<Figure size 1440x720 with 1 Axes>"
      ]
     },
     "metadata": {
      "needs_background": "light"
     },
     "output_type": "display_data"
    }
   ],
   "source": [
    "\n",
    "plt.figure(figsize=(20,10))\n",
    "sns.scatterplot(x=\"x\", y=\"y\", hue='label', data=ex)"
   ]
  },
  {
   "cell_type": "code",
   "execution_count": null,
   "id": "charged-limitation",
   "metadata": {},
   "outputs": [],
   "source": []
  },
  {
   "cell_type": "code",
   "execution_count": null,
   "id": "seeing-while",
   "metadata": {},
   "outputs": [],
   "source": []
  },
  {
   "cell_type": "code",
   "execution_count": 131,
   "id": "innovative-copying",
   "metadata": {},
   "outputs": [],
   "source": [
    "from sklearn.preprocessing import StandardScaler"
   ]
  },
  {
   "cell_type": "code",
   "execution_count": 132,
   "id": "immune-mapping",
   "metadata": {},
   "outputs": [],
   "source": [
    "from sklearn.decomposition import PCA"
   ]
  },
  {
   "cell_type": "code",
   "execution_count": 16,
   "id": "tested-jaguar",
   "metadata": {},
   "outputs": [],
   "source": [
    "scaler = StandardScaler()"
   ]
  },
  {
   "cell_type": "code",
   "execution_count": 17,
   "id": "surprising-murray",
   "metadata": {},
   "outputs": [
    {
     "ename": "NameError",
     "evalue": "name 'cf_nolabel' is not defined",
     "output_type": "error",
     "traceback": [
      "\u001b[0;31m---------------------------------------------------------------------------\u001b[0m",
      "\u001b[0;31mNameError\u001b[0m                                 Traceback (most recent call last)",
      "\u001b[0;32m<ipython-input-17-adf470cf1861>\u001b[0m in \u001b[0;36m<module>\u001b[0;34m\u001b[0m\n\u001b[0;32m----> 1\u001b[0;31m \u001b[0mstd_df\u001b[0m \u001b[0;34m=\u001b[0m \u001b[0mscaler\u001b[0m\u001b[0;34m.\u001b[0m\u001b[0mfit_transform\u001b[0m\u001b[0;34m(\u001b[0m\u001b[0mcf_nolabel\u001b[0m\u001b[0;34m)\u001b[0m\u001b[0;34m\u001b[0m\u001b[0;34m\u001b[0m\u001b[0m\n\u001b[0m",
      "\u001b[0;31mNameError\u001b[0m: name 'cf_nolabel' is not defined"
     ]
    }
   ],
   "source": [
    "std_df = scaler.fit_transform(cf_nolabel)"
   ]
  },
  {
   "cell_type": "code",
   "execution_count": 69,
   "id": "rotary-shape",
   "metadata": {},
   "outputs": [
    {
     "data": {
      "text/plain": [
       "array([[-4.85278900e-02, -3.50402304e-01, -3.52703297e-01, ...,\n",
       "        -9.62768875e-02, -2.92415162e-02, -1.46160722e-02],\n",
       "       [ 2.06067068e+01, -3.50402304e-01, -3.52703297e-01, ...,\n",
       "        -9.62768875e-02, -2.92415162e-02, -1.46160722e-02],\n",
       "       [-4.85278900e-02, -3.50402304e-01, -3.52703297e-01, ...,\n",
       "        -9.62768875e-02, -2.92415162e-02, -1.46160722e-02],\n",
       "       ...,\n",
       "       [-4.85278900e-02, -3.50402304e-01, -3.52703297e-01, ...,\n",
       "        -9.62768875e-02, -2.92415162e-02, -1.46160722e-02],\n",
       "       [-4.85278900e-02, -3.50402304e-01, -3.52703297e-01, ...,\n",
       "        -9.62768875e-02, -2.92415162e-02, -1.46160722e-02],\n",
       "       [-4.85278900e-02, -3.50402304e-01, -3.52703297e-01, ...,\n",
       "        -9.62768875e-02, -2.92415162e-02, -1.46160722e-02]])"
      ]
     },
     "execution_count": 69,
     "metadata": {},
     "output_type": "execute_result"
    }
   ],
   "source": [
    "std_df"
   ]
  },
  {
   "cell_type": "code",
   "execution_count": 18,
   "id": "urban-fetish",
   "metadata": {},
   "outputs": [],
   "source": [
    "pca = PCA()"
   ]
  },
  {
   "cell_type": "code",
   "execution_count": 85,
   "id": "identified-mining",
   "metadata": {},
   "outputs": [
    {
     "data": {
      "text/plain": [
       "array([[-8.85683523e-01, -2.55600147e-01, -3.43617240e-01, ...,\n",
       "         5.77250412e-04, -3.57205769e-04, -7.02265631e-04],\n",
       "       [-8.87543787e-01, -2.55263218e-01, -3.47944277e-01, ...,\n",
       "        -1.75406528e-04, -3.46633476e-04, -5.99429508e-04],\n",
       "       [ 6.84568435e-02,  8.14573100e-04,  3.49968438e-02, ...,\n",
       "        -1.52628575e-03,  1.57392982e-03,  1.15392879e-03],\n",
       "       ...,\n",
       "       [-7.18325555e-01, -1.67554142e-01, -4.46588690e-01, ...,\n",
       "         2.80359411e-03,  6.11567876e-03, -6.06782574e-03],\n",
       "       [ 2.19472713e-01, -8.73796746e-01, -2.75760378e-04, ...,\n",
       "        -3.63502655e-03, -1.20764145e-03,  1.60645525e-04],\n",
       "       [-8.85683523e-01, -2.55600147e-01, -3.43617240e-01, ...,\n",
       "         5.77250412e-04, -3.57205769e-04, -7.02265631e-04]])"
      ]
     },
     "execution_count": 85,
     "metadata": {},
     "output_type": "execute_result"
    }
   ],
   "source": [
    "pca.fit_transform(cf_nolabel)"
   ]
  },
  {
   "cell_type": "code",
   "execution_count": null,
   "id": "mechanical-cartridge",
   "metadata": {},
   "outputs": [],
   "source": [
    "pca."
   ]
  },
  {
   "cell_type": "code",
   "execution_count": 75,
   "id": "aggregate-country",
   "metadata": {},
   "outputs": [],
   "source": [
    "mask = pca.explained_variance_ratio_ >= 0.05"
   ]
  },
  {
   "cell_type": "code",
   "execution_count": null,
   "id": "integrated-preservation",
   "metadata": {},
   "outputs": [],
   "source": []
  },
  {
   "cell_type": "code",
   "execution_count": 78,
   "id": "satellite-norwegian",
   "metadata": {},
   "outputs": [
    {
     "data": {
      "text/plain": [
       "(4682, 15)"
      ]
     },
     "execution_count": 78,
     "metadata": {},
     "output_type": "execute_result"
    }
   ],
   "source": [
    "cf_nolabel.shape"
   ]
  },
  {
   "cell_type": "code",
   "execution_count": 80,
   "id": "green-journalist",
   "metadata": {},
   "outputs": [
    {
     "data": {
      "text/html": [
       "<div>\n",
       "<style scoped>\n",
       "    .dataframe tbody tr th:only-of-type {\n",
       "        vertical-align: middle;\n",
       "    }\n",
       "\n",
       "    .dataframe tbody tr th {\n",
       "        vertical-align: top;\n",
       "    }\n",
       "\n",
       "    .dataframe thead th {\n",
       "        text-align: right;\n",
       "    }\n",
       "</style>\n",
       "<table border=\"1\" class=\"dataframe\">\n",
       "  <thead>\n",
       "    <tr style=\"text-align: right;\">\n",
       "      <th></th>\n",
       "      <th>coff.characteristics.aggressive_ws_trim</th>\n",
       "      <th>coff.characteristics.bytes_reversed_hi</th>\n",
       "      <th>coff.characteristics.bytes_reversed_lo</th>\n",
       "      <th>coff.characteristics.chara_32bit_machine</th>\n",
       "      <th>coff.characteristics.debug_stripped</th>\n",
       "      <th>coff.characteristics.dll</th>\n",
       "      <th>coff.characteristics.executable_image</th>\n",
       "      <th>coff.characteristics.large_address_aware</th>\n",
       "      <th>coff.characteristics.line_nums_stripped</th>\n",
       "      <th>coff.characteristics.local_syms_stripped</th>\n",
       "    </tr>\n",
       "  </thead>\n",
       "  <tbody>\n",
       "    <tr>\n",
       "      <th>0</th>\n",
       "      <td>0.0</td>\n",
       "      <td>0.0</td>\n",
       "      <td>0.0</td>\n",
       "      <td>1.0</td>\n",
       "      <td>0.0</td>\n",
       "      <td>0.0</td>\n",
       "      <td>1.0</td>\n",
       "      <td>0.0</td>\n",
       "      <td>1.0</td>\n",
       "      <td>1.0</td>\n",
       "    </tr>\n",
       "    <tr>\n",
       "      <th>1</th>\n",
       "      <td>1.0</td>\n",
       "      <td>0.0</td>\n",
       "      <td>0.0</td>\n",
       "      <td>1.0</td>\n",
       "      <td>0.0</td>\n",
       "      <td>0.0</td>\n",
       "      <td>1.0</td>\n",
       "      <td>0.0</td>\n",
       "      <td>1.0</td>\n",
       "      <td>1.0</td>\n",
       "    </tr>\n",
       "    <tr>\n",
       "      <th>2</th>\n",
       "      <td>0.0</td>\n",
       "      <td>0.0</td>\n",
       "      <td>0.0</td>\n",
       "      <td>1.0</td>\n",
       "      <td>1.0</td>\n",
       "      <td>0.0</td>\n",
       "      <td>1.0</td>\n",
       "      <td>0.0</td>\n",
       "      <td>1.0</td>\n",
       "      <td>0.0</td>\n",
       "    </tr>\n",
       "    <tr>\n",
       "      <th>3</th>\n",
       "      <td>0.0</td>\n",
       "      <td>1.0</td>\n",
       "      <td>1.0</td>\n",
       "      <td>1.0</td>\n",
       "      <td>0.0</td>\n",
       "      <td>0.0</td>\n",
       "      <td>1.0</td>\n",
       "      <td>0.0</td>\n",
       "      <td>1.0</td>\n",
       "      <td>1.0</td>\n",
       "    </tr>\n",
       "    <tr>\n",
       "      <th>4</th>\n",
       "      <td>0.0</td>\n",
       "      <td>0.0</td>\n",
       "      <td>0.0</td>\n",
       "      <td>1.0</td>\n",
       "      <td>1.0</td>\n",
       "      <td>0.0</td>\n",
       "      <td>1.0</td>\n",
       "      <td>0.0</td>\n",
       "      <td>1.0</td>\n",
       "      <td>1.0</td>\n",
       "    </tr>\n",
       "    <tr>\n",
       "      <th>...</th>\n",
       "      <td>...</td>\n",
       "      <td>...</td>\n",
       "      <td>...</td>\n",
       "      <td>...</td>\n",
       "      <td>...</td>\n",
       "      <td>...</td>\n",
       "      <td>...</td>\n",
       "      <td>...</td>\n",
       "      <td>...</td>\n",
       "      <td>...</td>\n",
       "    </tr>\n",
       "    <tr>\n",
       "      <th>5995</th>\n",
       "      <td>0.0</td>\n",
       "      <td>0.0</td>\n",
       "      <td>0.0</td>\n",
       "      <td>1.0</td>\n",
       "      <td>0.0</td>\n",
       "      <td>0.0</td>\n",
       "      <td>1.0</td>\n",
       "      <td>0.0</td>\n",
       "      <td>1.0</td>\n",
       "      <td>1.0</td>\n",
       "    </tr>\n",
       "    <tr>\n",
       "      <th>5996</th>\n",
       "      <td>0.0</td>\n",
       "      <td>1.0</td>\n",
       "      <td>1.0</td>\n",
       "      <td>1.0</td>\n",
       "      <td>0.0</td>\n",
       "      <td>0.0</td>\n",
       "      <td>1.0</td>\n",
       "      <td>0.0</td>\n",
       "      <td>1.0</td>\n",
       "      <td>1.0</td>\n",
       "    </tr>\n",
       "    <tr>\n",
       "      <th>5997</th>\n",
       "      <td>0.0</td>\n",
       "      <td>0.0</td>\n",
       "      <td>0.0</td>\n",
       "      <td>1.0</td>\n",
       "      <td>0.0</td>\n",
       "      <td>0.0</td>\n",
       "      <td>1.0</td>\n",
       "      <td>1.0</td>\n",
       "      <td>1.0</td>\n",
       "      <td>1.0</td>\n",
       "    </tr>\n",
       "    <tr>\n",
       "      <th>5998</th>\n",
       "      <td>0.0</td>\n",
       "      <td>0.0</td>\n",
       "      <td>0.0</td>\n",
       "      <td>1.0</td>\n",
       "      <td>1.0</td>\n",
       "      <td>0.0</td>\n",
       "      <td>1.0</td>\n",
       "      <td>0.0</td>\n",
       "      <td>0.0</td>\n",
       "      <td>0.0</td>\n",
       "    </tr>\n",
       "    <tr>\n",
       "      <th>5999</th>\n",
       "      <td>0.0</td>\n",
       "      <td>0.0</td>\n",
       "      <td>0.0</td>\n",
       "      <td>1.0</td>\n",
       "      <td>0.0</td>\n",
       "      <td>0.0</td>\n",
       "      <td>1.0</td>\n",
       "      <td>0.0</td>\n",
       "      <td>1.0</td>\n",
       "      <td>1.0</td>\n",
       "    </tr>\n",
       "  </tbody>\n",
       "</table>\n",
       "<p>4682 rows × 10 columns</p>\n",
       "</div>"
      ],
      "text/plain": [
       "      coff.characteristics.aggressive_ws_trim  coff.characteristics.bytes_reversed_hi  coff.characteristics.bytes_reversed_lo  coff.characteristics.chara_32bit_machine  coff.characteristics.debug_stripped  coff.characteristics.dll  coff.characteristics.executable_image  coff.characteristics.large_address_aware  coff.characteristics.line_nums_stripped  coff.characteristics.local_syms_stripped\n",
       "0                                         0.0                                     0.0                                     0.0                                       1.0                                  0.0                       0.0                                    1.0                                       0.0                                      1.0                                       1.0\n",
       "1                                         1.0                                     0.0                                     0.0                                       1.0                                  0.0                       0.0                                    1.0                                       0.0                                      1.0                                       1.0\n",
       "2                                         0.0                                     0.0                                     0.0                                       1.0                                  1.0                       0.0                                    1.0                                       0.0                                      1.0                                       0.0\n",
       "3                                         0.0                                     1.0                                     1.0                                       1.0                                  0.0                       0.0                                    1.0                                       0.0                                      1.0                                       1.0\n",
       "4                                         0.0                                     0.0                                     0.0                                       1.0                                  1.0                       0.0                                    1.0                                       0.0                                      1.0                                       1.0\n",
       "...                                       ...                                     ...                                     ...                                       ...                                  ...                       ...                                    ...                                       ...                                      ...                                       ...\n",
       "5995                                      0.0                                     0.0                                     0.0                                       1.0                                  0.0                       0.0                                    1.0                                       0.0                                      1.0                                       1.0\n",
       "5996                                      0.0                                     1.0                                     1.0                                       1.0                                  0.0                       0.0                                    1.0                                       0.0                                      1.0                                       1.0\n",
       "5997                                      0.0                                     0.0                                     0.0                                       1.0                                  0.0                       0.0                                    1.0                                       1.0                                      1.0                                       1.0\n",
       "5998                                      0.0                                     0.0                                     0.0                                       1.0                                  1.0                       0.0                                    1.0                                       0.0                                      0.0                                       0.0\n",
       "5999                                      0.0                                     0.0                                     0.0                                       1.0                                  0.0                       0.0                                    1.0                                       0.0                                      1.0                                       1.0\n",
       "\n",
       "[4682 rows x 10 columns]"
      ]
     },
     "execution_count": 80,
     "metadata": {},
     "output_type": "execute_result"
    }
   ],
   "source": [
    "cf_nolabel.loc[:,mask]"
   ]
  },
  {
   "cell_type": "code",
   "execution_count": 87,
   "id": "assisted-provider",
   "metadata": {},
   "outputs": [
    {
     "data": {
      "text/plain": [
       "array([0.46574456, 0.63880796, 0.76482196, 0.87263098, 0.93449941,\n",
       "       0.96773317, 0.9786357 , 0.98801028, 0.99545179, 0.99710848,\n",
       "       0.99849175, 0.99921002, 0.99970922, 0.99986058, 1.        ])"
      ]
     },
     "execution_count": 87,
     "metadata": {},
     "output_type": "execute_result"
    }
   ],
   "source": [
    "pca.explained_variance_ratio_.cumsum()"
   ]
  },
  {
   "cell_type": "code",
   "execution_count": 83,
   "id": "convinced-cloud",
   "metadata": {},
   "outputs": [
    {
     "data": {
      "text/plain": [
       "array([[ 1.74015828e-02,  3.39330956e-01,  3.37545467e-01,\n",
       "         3.04579965e-01,  5.65174893e-02, -2.72433226e-01,\n",
       "         1.28727102e-02, -3.11059214e-01,  4.47950646e-01,\n",
       "         4.51086577e-01,  3.51077017e-03,  3.14224235e-01,\n",
       "         2.32232230e-02, -3.56303078e-03, -8.25042070e-03],\n",
       "       [-2.46306208e-02,  2.24978777e-01,  2.24564241e-01,\n",
       "        -2.62541997e-01,  3.78851037e-02,  3.52687302e-02,\n",
       "        -6.96218998e-03,  2.80526720e-01,  2.83882492e-02,\n",
       "         2.61771871e-02,  6.16360992e-01, -5.08929766e-02,\n",
       "         5.84018330e-01, -1.46235748e-02,  1.50745620e-01],\n",
       "       [ 5.04649759e-02, -5.01559739e-01, -5.02444226e-01,\n",
       "         3.07286848e-01,  9.27181854e-02, -1.38711579e-01,\n",
       "         1.07058719e-02, -2.91562007e-01,  2.56611720e-02,\n",
       "         2.45613394e-02,  3.16786696e-01,  2.56832477e-01,\n",
       "         3.34624615e-01,  1.18060674e-02,  7.97723015e-02],\n",
       "       [ 1.09892312e-01, -2.19125752e-01, -2.22665521e-01,\n",
       "        -4.72841569e-01,  3.13642979e-01, -7.42355923e-02,\n",
       "        -4.05776891e-02,  4.50140290e-01,  3.43557383e-01,\n",
       "         3.18423078e-01, -1.40054354e-01,  3.16377288e-01,\n",
       "        -1.18719835e-01, -6.45068444e-02, -3.46778764e-02],\n",
       "       [-3.13834687e-01,  2.53753597e-02,  1.91668137e-02,\n",
       "        -1.29722683e-01, -3.71018224e-01, -5.61602289e-01,\n",
       "        -6.56173849e-02,  1.60133580e-01, -1.99968874e-01,\n",
       "        -1.86075360e-01, -3.32416217e-02,  4.02923408e-01,\n",
       "        -6.57900485e-02,  3.38157644e-01,  2.09584565e-01],\n",
       "       [-5.65487390e-01, -6.07786480e-02, -5.05666584e-02,\n",
       "        -2.63871146e-02, -2.41853849e-01,  7.19389467e-02,\n",
       "        -4.80972224e-01, -1.86075312e-02,  6.69109026e-02,\n",
       "         8.85241984e-02, -5.90187930e-03,  3.92041548e-02,\n",
       "         1.03804455e-01, -4.76727290e-01, -3.54961984e-01],\n",
       "       [ 2.85054673e-01,  3.92629443e-02,  2.62593698e-02,\n",
       "        -1.59791740e-02,  1.07033793e-01,  1.26043638e-02,\n",
       "        -5.97851450e-01, -4.47808611e-02, -3.43772908e-02,\n",
       "        -4.43131520e-02,  7.22855274e-03, -7.67195505e-04,\n",
       "         1.15280588e-01,  5.62485198e-01, -4.60796133e-01],\n",
       "       [ 2.59405481e-01,  1.85563022e-02,  2.39494183e-02,\n",
       "         3.96074931e-02,  3.28674143e-03,  4.82878955e-02,\n",
       "        -6.27115478e-01, -4.52644104e-02, -1.14296253e-02,\n",
       "        -1.69145755e-02,  8.55951951e-03, -8.44552411e-03,\n",
       "        -1.64858738e-01, -2.19345770e-01,  6.75799243e-01],\n",
       "       [-6.14079699e-01, -4.52080027e-02, -5.91548225e-02,\n",
       "         4.34928893e-02,  2.75195189e-01,  3.28226719e-01,\n",
       "        -4.94259676e-02, -5.14338533e-02,  1.61282311e-01,\n",
       "         1.70094269e-01,  4.29230885e-03, -1.64075771e-01,\n",
       "        -8.11052260e-02,  4.93712035e-01,  3.07741675e-01],\n",
       "       [ 2.00481073e-01, -1.01725166e-01, -1.10797619e-01,\n",
       "        -4.95022390e-02, -7.71116144e-01,  3.71789750e-01,\n",
       "         7.00689535e-02,  4.75650482e-02,  2.59217565e-01,\n",
       "         2.78011397e-01,  9.69138268e-04,  3.85149576e-03,\n",
       "         3.58802073e-02,  2.10912373e-01,  6.66457322e-02],\n",
       "       [-6.97408377e-03,  1.23623309e-01,  1.19543973e-01,\n",
       "        -3.46608738e-04,  9.30821598e-02,  5.73347068e-01,\n",
       "         5.19166919e-02, -6.96911557e-02, -1.94942617e-01,\n",
       "        -2.15398668e-01, -1.29172845e-02,  7.34777486e-01,\n",
       "        -1.46760740e-03, -2.87595736e-02, -1.18795259e-02],\n",
       "       [-1.57547289e-03, -1.26909680e-02, -1.39757154e-02,\n",
       "         4.57926632e-02, -3.10038054e-02,  3.11507528e-03,\n",
       "        -2.32085312e-03,  4.08467156e-02,  1.35785925e-02,\n",
       "         1.74741883e-02,  7.03872650e-01,  2.68396576e-02,\n",
       "        -6.83708458e-01, -1.85328780e-04, -1.75485891e-01],\n",
       "       [-6.04633641e-04, -7.73743059e-03, -5.05624880e-03,\n",
       "        -7.02874044e-01, -1.62690722e-02, -4.46352974e-02,\n",
       "         4.03575687e-02, -7.03811994e-01,  1.29154564e-02,\n",
       "        -1.64424877e-02,  5.67986305e-02, -3.10615117e-02,\n",
       "        -3.76579150e-02, -1.47204755e-03,  2.44310897e-02],\n",
       "       [ 1.77165734e-02,  1.16989570e-05, -7.53430085e-04,\n",
       "        -2.18842706e-02,  2.33315056e-02,  4.29922825e-03,\n",
       "         1.58363313e-03, -8.92819066e-03, -7.08874530e-01,\n",
       "         7.04220100e-01, -1.77408138e-03,  1.13383996e-02,\n",
       "        -6.49111867e-04, -4.21937430e-04,  4.65129347e-04],\n",
       "       [-1.21919429e-04, -7.07489571e-01,  7.06490425e-01,\n",
       "         1.12025149e-04,  6.56340848e-05,  3.70687059e-03,\n",
       "         3.27437403e-05,  2.19594400e-03,  2.11212882e-03,\n",
       "         2.85863133e-03,  5.05342940e-04,  3.46133120e-03,\n",
       "        -3.61110749e-04,  1.69168075e-02, -1.11330140e-04]])"
      ]
     },
     "execution_count": 83,
     "metadata": {},
     "output_type": "execute_result"
    }
   ],
   "source": [
    "pca.components_"
   ]
  },
  {
   "cell_type": "code",
   "execution_count": 133,
   "id": "communist-aerospace",
   "metadata": {},
   "outputs": [],
   "source": [
    "from sklearn.svm import SVC\n",
    "from sklearn.metrics import accuracy_score"
   ]
  },
  {
   "cell_type": "code",
   "execution_count": 134,
   "id": "american-lancaster",
   "metadata": {},
   "outputs": [],
   "source": [
    "clf = SVC(C=2)"
   ]
  },
  {
   "cell_type": "code",
   "execution_count": 135,
   "id": "static-hopkins",
   "metadata": {},
   "outputs": [],
   "source": [
    "from sklearn.model_selection import train_test_split"
   ]
  },
  {
   "cell_type": "code",
   "execution_count": 148,
   "id": "adequate-employee",
   "metadata": {},
   "outputs": [],
   "source": [
    "var1 = [ 'optional.major_image_version', 'optional.major_linker_version', 'optional.minor_linker_version', 'optional.major_operating_system_version', 'optional.minor_operating_system_version', 'optional.major_subsystem_version', 'optional.minor_subsystem_version']"
   ]
  },
  {
   "cell_type": "code",
   "execution_count": 141,
   "id": "final-ceremony",
   "metadata": {},
   "outputs": [],
   "source": [
    "var1 = ['coff.machine','optional.subsystem', 'optional.dll_characteristics', 'optional.major_image_version', 'optional.major_linker_version', 'optional.minor_linker_version', 'optional.major_operating_system_version', 'optional.minor_operating_system_version', 'optional.major_subsystem_version', 'optional.minor_subsystem_version']"
   ]
  },
  {
   "cell_type": "code",
   "execution_count": 149,
   "id": "under-syndicate",
   "metadata": {},
   "outputs": [
    {
     "data": {
      "text/html": [
       "<div>\n",
       "<style scoped>\n",
       "    .dataframe tbody tr th:only-of-type {\n",
       "        vertical-align: middle;\n",
       "    }\n",
       "\n",
       "    .dataframe tbody tr th {\n",
       "        vertical-align: top;\n",
       "    }\n",
       "\n",
       "    .dataframe thead th {\n",
       "        text-align: right;\n",
       "    }\n",
       "</style>\n",
       "<table border=\"1\" class=\"dataframe\">\n",
       "  <thead>\n",
       "    <tr style=\"text-align: right;\">\n",
       "      <th></th>\n",
       "      <th>optional.major_image_version</th>\n",
       "      <th>optional.major_linker_version</th>\n",
       "      <th>optional.minor_linker_version</th>\n",
       "      <th>optional.major_operating_system_version</th>\n",
       "      <th>optional.minor_operating_system_version</th>\n",
       "      <th>optional.major_subsystem_version</th>\n",
       "      <th>optional.minor_subsystem_version</th>\n",
       "    </tr>\n",
       "  </thead>\n",
       "  <tbody>\n",
       "    <tr>\n",
       "      <th>0</th>\n",
       "      <td>0</td>\n",
       "      <td>2</td>\n",
       "      <td>50</td>\n",
       "      <td>4</td>\n",
       "      <td>0</td>\n",
       "      <td>4</td>\n",
       "      <td>0</td>\n",
       "    </tr>\n",
       "    <tr>\n",
       "      <th>1</th>\n",
       "      <td>0</td>\n",
       "      <td>14</td>\n",
       "      <td>11</td>\n",
       "      <td>5</td>\n",
       "      <td>1</td>\n",
       "      <td>5</td>\n",
       "      <td>1</td>\n",
       "    </tr>\n",
       "    <tr>\n",
       "      <th>2</th>\n",
       "      <td>0</td>\n",
       "      <td>10</td>\n",
       "      <td>0</td>\n",
       "      <td>5</td>\n",
       "      <td>1</td>\n",
       "      <td>5</td>\n",
       "      <td>1</td>\n",
       "    </tr>\n",
       "    <tr>\n",
       "      <th>3</th>\n",
       "      <td>0</td>\n",
       "      <td>5</td>\n",
       "      <td>12</td>\n",
       "      <td>4</td>\n",
       "      <td>0</td>\n",
       "      <td>4</td>\n",
       "      <td>0</td>\n",
       "    </tr>\n",
       "    <tr>\n",
       "      <th>4</th>\n",
       "      <td>0</td>\n",
       "      <td>2</td>\n",
       "      <td>25</td>\n",
       "      <td>4</td>\n",
       "      <td>0</td>\n",
       "      <td>4</td>\n",
       "      <td>0</td>\n",
       "    </tr>\n",
       "  </tbody>\n",
       "</table>\n",
       "</div>"
      ],
      "text/plain": [
       "   optional.major_image_version  optional.major_linker_version  optional.minor_linker_version  optional.major_operating_system_version  optional.minor_operating_system_version  optional.major_subsystem_version  optional.minor_subsystem_version\n",
       "0                             0                              2                             50                                        4                                        0                                 4                                 0\n",
       "1                             0                             14                             11                                        5                                        1                                 5                                 1\n",
       "2                             0                             10                              0                                        5                                        1                                 5                                 1\n",
       "3                             0                              5                             12                                        4                                        0                                 4                                 0\n",
       "4                             0                              2                             25                                        4                                        0                                 4                                 0"
      ]
     },
     "execution_count": 149,
     "metadata": {},
     "output_type": "execute_result"
    }
   ],
   "source": [
    "header[var1].head()"
   ]
  },
  {
   "cell_type": "code",
   "execution_count": 140,
   "id": "cloudy-stack",
   "metadata": {},
   "outputs": [
    {
     "ename": "ValueError",
     "evalue": "Wrong number of items passed 7, placement implies 1",
     "output_type": "error",
     "traceback": [
      "\u001b[0;31m---------------------------------------------------------------------------\u001b[0m",
      "\u001b[0;31mKeyError\u001b[0m                                  Traceback (most recent call last)",
      "\u001b[0;32m~/opt/anaconda3/envs/cyber/lib/python3.7/site-packages/pandas/core/indexes/base.py\u001b[0m in \u001b[0;36mget_loc\u001b[0;34m(self, key, method, tolerance)\u001b[0m\n\u001b[1;32m   3079\u001b[0m             \u001b[0;32mtry\u001b[0m\u001b[0;34m:\u001b[0m\u001b[0;34m\u001b[0m\u001b[0;34m\u001b[0m\u001b[0m\n\u001b[0;32m-> 3080\u001b[0;31m                 \u001b[0;32mreturn\u001b[0m \u001b[0mself\u001b[0m\u001b[0;34m.\u001b[0m\u001b[0m_engine\u001b[0m\u001b[0;34m.\u001b[0m\u001b[0mget_loc\u001b[0m\u001b[0;34m(\u001b[0m\u001b[0mcasted_key\u001b[0m\u001b[0;34m)\u001b[0m\u001b[0;34m\u001b[0m\u001b[0;34m\u001b[0m\u001b[0m\n\u001b[0m\u001b[1;32m   3081\u001b[0m             \u001b[0;32mexcept\u001b[0m \u001b[0mKeyError\u001b[0m \u001b[0;32mas\u001b[0m \u001b[0merr\u001b[0m\u001b[0;34m:\u001b[0m\u001b[0;34m\u001b[0m\u001b[0;34m\u001b[0m\u001b[0m\n",
      "\u001b[0;32mpandas/_libs/index.pyx\u001b[0m in \u001b[0;36mpandas._libs.index.IndexEngine.get_loc\u001b[0;34m()\u001b[0m\n",
      "\u001b[0;32mpandas/_libs/index.pyx\u001b[0m in \u001b[0;36mpandas._libs.index.IndexEngine.get_loc\u001b[0;34m()\u001b[0m\n",
      "\u001b[0;32mpandas/_libs/hashtable_class_helper.pxi\u001b[0m in \u001b[0;36mpandas._libs.hashtable.PyObjectHashTable.get_item\u001b[0;34m()\u001b[0m\n",
      "\u001b[0;32mpandas/_libs/hashtable_class_helper.pxi\u001b[0m in \u001b[0;36mpandas._libs.hashtable.PyObjectHashTable.get_item\u001b[0;34m()\u001b[0m\n",
      "\u001b[0;31mKeyError\u001b[0m: 'coff.machine'",
      "\nThe above exception was the direct cause of the following exception:\n",
      "\u001b[0;31mKeyError\u001b[0m                                  Traceback (most recent call last)",
      "\u001b[0;32m~/opt/anaconda3/envs/cyber/lib/python3.7/site-packages/pandas/core/generic.py\u001b[0m in \u001b[0;36m_set_item\u001b[0;34m(self, key, value)\u001b[0m\n\u001b[1;32m   3824\u001b[0m         \u001b[0;32mtry\u001b[0m\u001b[0;34m:\u001b[0m\u001b[0;34m\u001b[0m\u001b[0;34m\u001b[0m\u001b[0m\n\u001b[0;32m-> 3825\u001b[0;31m             \u001b[0mloc\u001b[0m \u001b[0;34m=\u001b[0m \u001b[0mself\u001b[0m\u001b[0;34m.\u001b[0m\u001b[0m_info_axis\u001b[0m\u001b[0;34m.\u001b[0m\u001b[0mget_loc\u001b[0m\u001b[0;34m(\u001b[0m\u001b[0mkey\u001b[0m\u001b[0;34m)\u001b[0m\u001b[0;34m\u001b[0m\u001b[0;34m\u001b[0m\u001b[0m\n\u001b[0m\u001b[1;32m   3826\u001b[0m         \u001b[0;32mexcept\u001b[0m \u001b[0mKeyError\u001b[0m\u001b[0;34m:\u001b[0m\u001b[0;34m\u001b[0m\u001b[0;34m\u001b[0m\u001b[0m\n",
      "\u001b[0;32m~/opt/anaconda3/envs/cyber/lib/python3.7/site-packages/pandas/core/indexes/base.py\u001b[0m in \u001b[0;36mget_loc\u001b[0;34m(self, key, method, tolerance)\u001b[0m\n\u001b[1;32m   3081\u001b[0m             \u001b[0;32mexcept\u001b[0m \u001b[0mKeyError\u001b[0m \u001b[0;32mas\u001b[0m \u001b[0merr\u001b[0m\u001b[0;34m:\u001b[0m\u001b[0;34m\u001b[0m\u001b[0;34m\u001b[0m\u001b[0m\n\u001b[0;32m-> 3082\u001b[0;31m                 \u001b[0;32mraise\u001b[0m \u001b[0mKeyError\u001b[0m\u001b[0;34m(\u001b[0m\u001b[0mkey\u001b[0m\u001b[0;34m)\u001b[0m \u001b[0;32mfrom\u001b[0m \u001b[0merr\u001b[0m\u001b[0;34m\u001b[0m\u001b[0;34m\u001b[0m\u001b[0m\n\u001b[0m\u001b[1;32m   3083\u001b[0m \u001b[0;34m\u001b[0m\u001b[0m\n",
      "\u001b[0;31mKeyError\u001b[0m: 'coff.machine'",
      "\nDuring handling of the above exception, another exception occurred:\n",
      "\u001b[0;31mValueError\u001b[0m                                Traceback (most recent call last)",
      "\u001b[0;32m<ipython-input-140-a433edbf8567>\u001b[0m in \u001b[0;36m<module>\u001b[0;34m\u001b[0m\n\u001b[0;32m----> 1\u001b[0;31m \u001b[0mX\u001b[0m\u001b[0;34m[\u001b[0m\u001b[0;34m'coff.machine'\u001b[0m\u001b[0;34m]\u001b[0m \u001b[0;34m=\u001b[0m \u001b[0mpd\u001b[0m\u001b[0;34m.\u001b[0m\u001b[0mget_dummies\u001b[0m\u001b[0;34m(\u001b[0m\u001b[0mheader\u001b[0m\u001b[0;34m[\u001b[0m\u001b[0;34m'coff.machine'\u001b[0m\u001b[0;34m]\u001b[0m\u001b[0;34m)\u001b[0m\u001b[0;34m\u001b[0m\u001b[0;34m\u001b[0m\u001b[0m\n\u001b[0m",
      "\u001b[0;32m~/opt/anaconda3/envs/cyber/lib/python3.7/site-packages/pandas/core/frame.py\u001b[0m in \u001b[0;36m__setitem__\u001b[0;34m(self, key, value)\u001b[0m\n\u001b[1;32m   3161\u001b[0m         \u001b[0;32melse\u001b[0m\u001b[0;34m:\u001b[0m\u001b[0;34m\u001b[0m\u001b[0;34m\u001b[0m\u001b[0m\n\u001b[1;32m   3162\u001b[0m             \u001b[0;31m# set column\u001b[0m\u001b[0;34m\u001b[0m\u001b[0;34m\u001b[0m\u001b[0;34m\u001b[0m\u001b[0m\n\u001b[0;32m-> 3163\u001b[0;31m             \u001b[0mself\u001b[0m\u001b[0;34m.\u001b[0m\u001b[0m_set_item\u001b[0m\u001b[0;34m(\u001b[0m\u001b[0mkey\u001b[0m\u001b[0;34m,\u001b[0m \u001b[0mvalue\u001b[0m\u001b[0;34m)\u001b[0m\u001b[0;34m\u001b[0m\u001b[0;34m\u001b[0m\u001b[0m\n\u001b[0m\u001b[1;32m   3164\u001b[0m \u001b[0;34m\u001b[0m\u001b[0m\n\u001b[1;32m   3165\u001b[0m     \u001b[0;32mdef\u001b[0m \u001b[0m_setitem_slice\u001b[0m\u001b[0;34m(\u001b[0m\u001b[0mself\u001b[0m\u001b[0;34m,\u001b[0m \u001b[0mkey\u001b[0m\u001b[0;34m:\u001b[0m \u001b[0mslice\u001b[0m\u001b[0;34m,\u001b[0m \u001b[0mvalue\u001b[0m\u001b[0;34m)\u001b[0m\u001b[0;34m:\u001b[0m\u001b[0;34m\u001b[0m\u001b[0;34m\u001b[0m\u001b[0m\n",
      "\u001b[0;32m~/opt/anaconda3/envs/cyber/lib/python3.7/site-packages/pandas/core/frame.py\u001b[0m in \u001b[0;36m_set_item\u001b[0;34m(self, key, value)\u001b[0m\n\u001b[1;32m   3238\u001b[0m         \u001b[0mself\u001b[0m\u001b[0;34m.\u001b[0m\u001b[0m_ensure_valid_index\u001b[0m\u001b[0;34m(\u001b[0m\u001b[0mvalue\u001b[0m\u001b[0;34m)\u001b[0m\u001b[0;34m\u001b[0m\u001b[0;34m\u001b[0m\u001b[0m\n\u001b[1;32m   3239\u001b[0m         \u001b[0mvalue\u001b[0m \u001b[0;34m=\u001b[0m \u001b[0mself\u001b[0m\u001b[0;34m.\u001b[0m\u001b[0m_sanitize_column\u001b[0m\u001b[0;34m(\u001b[0m\u001b[0mkey\u001b[0m\u001b[0;34m,\u001b[0m \u001b[0mvalue\u001b[0m\u001b[0;34m)\u001b[0m\u001b[0;34m\u001b[0m\u001b[0;34m\u001b[0m\u001b[0m\n\u001b[0;32m-> 3240\u001b[0;31m         \u001b[0mNDFrame\u001b[0m\u001b[0;34m.\u001b[0m\u001b[0m_set_item\u001b[0m\u001b[0;34m(\u001b[0m\u001b[0mself\u001b[0m\u001b[0;34m,\u001b[0m \u001b[0mkey\u001b[0m\u001b[0;34m,\u001b[0m \u001b[0mvalue\u001b[0m\u001b[0;34m)\u001b[0m\u001b[0;34m\u001b[0m\u001b[0;34m\u001b[0m\u001b[0m\n\u001b[0m\u001b[1;32m   3241\u001b[0m \u001b[0;34m\u001b[0m\u001b[0m\n\u001b[1;32m   3242\u001b[0m         \u001b[0;31m# check if we are modifying a copy\u001b[0m\u001b[0;34m\u001b[0m\u001b[0;34m\u001b[0m\u001b[0;34m\u001b[0m\u001b[0m\n",
      "\u001b[0;32m~/opt/anaconda3/envs/cyber/lib/python3.7/site-packages/pandas/core/generic.py\u001b[0m in \u001b[0;36m_set_item\u001b[0;34m(self, key, value)\u001b[0m\n\u001b[1;32m   3826\u001b[0m         \u001b[0;32mexcept\u001b[0m \u001b[0mKeyError\u001b[0m\u001b[0;34m:\u001b[0m\u001b[0;34m\u001b[0m\u001b[0;34m\u001b[0m\u001b[0m\n\u001b[1;32m   3827\u001b[0m             \u001b[0;31m# This item wasn't present, just insert at end\u001b[0m\u001b[0;34m\u001b[0m\u001b[0;34m\u001b[0m\u001b[0;34m\u001b[0m\u001b[0m\n\u001b[0;32m-> 3828\u001b[0;31m             \u001b[0mself\u001b[0m\u001b[0;34m.\u001b[0m\u001b[0m_mgr\u001b[0m\u001b[0;34m.\u001b[0m\u001b[0minsert\u001b[0m\u001b[0;34m(\u001b[0m\u001b[0mlen\u001b[0m\u001b[0;34m(\u001b[0m\u001b[0mself\u001b[0m\u001b[0;34m.\u001b[0m\u001b[0m_info_axis\u001b[0m\u001b[0;34m)\u001b[0m\u001b[0;34m,\u001b[0m \u001b[0mkey\u001b[0m\u001b[0;34m,\u001b[0m \u001b[0mvalue\u001b[0m\u001b[0;34m)\u001b[0m\u001b[0;34m\u001b[0m\u001b[0;34m\u001b[0m\u001b[0m\n\u001b[0m\u001b[1;32m   3829\u001b[0m             \u001b[0;32mreturn\u001b[0m\u001b[0;34m\u001b[0m\u001b[0;34m\u001b[0m\u001b[0m\n\u001b[1;32m   3830\u001b[0m \u001b[0;34m\u001b[0m\u001b[0m\n",
      "\u001b[0;32m~/opt/anaconda3/envs/cyber/lib/python3.7/site-packages/pandas/core/internals/managers.py\u001b[0m in \u001b[0;36minsert\u001b[0;34m(self, loc, item, value, allow_duplicates)\u001b[0m\n\u001b[1;32m   1201\u001b[0m             \u001b[0mvalue\u001b[0m \u001b[0;34m=\u001b[0m \u001b[0msafe_reshape\u001b[0m\u001b[0;34m(\u001b[0m\u001b[0mvalue\u001b[0m\u001b[0;34m,\u001b[0m \u001b[0;34m(\u001b[0m\u001b[0;36m1\u001b[0m\u001b[0;34m,\u001b[0m\u001b[0;34m)\u001b[0m \u001b[0;34m+\u001b[0m \u001b[0mvalue\u001b[0m\u001b[0;34m.\u001b[0m\u001b[0mshape\u001b[0m\u001b[0;34m)\u001b[0m\u001b[0;34m\u001b[0m\u001b[0;34m\u001b[0m\u001b[0m\n\u001b[1;32m   1202\u001b[0m \u001b[0;34m\u001b[0m\u001b[0m\n\u001b[0;32m-> 1203\u001b[0;31m         \u001b[0mblock\u001b[0m \u001b[0;34m=\u001b[0m \u001b[0mmake_block\u001b[0m\u001b[0;34m(\u001b[0m\u001b[0mvalues\u001b[0m\u001b[0;34m=\u001b[0m\u001b[0mvalue\u001b[0m\u001b[0;34m,\u001b[0m \u001b[0mndim\u001b[0m\u001b[0;34m=\u001b[0m\u001b[0mself\u001b[0m\u001b[0;34m.\u001b[0m\u001b[0mndim\u001b[0m\u001b[0;34m,\u001b[0m \u001b[0mplacement\u001b[0m\u001b[0;34m=\u001b[0m\u001b[0mslice\u001b[0m\u001b[0;34m(\u001b[0m\u001b[0mloc\u001b[0m\u001b[0;34m,\u001b[0m \u001b[0mloc\u001b[0m \u001b[0;34m+\u001b[0m \u001b[0;36m1\u001b[0m\u001b[0;34m)\u001b[0m\u001b[0;34m)\u001b[0m\u001b[0;34m\u001b[0m\u001b[0;34m\u001b[0m\u001b[0m\n\u001b[0m\u001b[1;32m   1204\u001b[0m \u001b[0;34m\u001b[0m\u001b[0m\n\u001b[1;32m   1205\u001b[0m         \u001b[0;32mfor\u001b[0m \u001b[0mblkno\u001b[0m\u001b[0;34m,\u001b[0m \u001b[0mcount\u001b[0m \u001b[0;32min\u001b[0m \u001b[0m_fast_count_smallints\u001b[0m\u001b[0;34m(\u001b[0m\u001b[0mself\u001b[0m\u001b[0;34m.\u001b[0m\u001b[0mblknos\u001b[0m\u001b[0;34m[\u001b[0m\u001b[0mloc\u001b[0m\u001b[0;34m:\u001b[0m\u001b[0;34m]\u001b[0m\u001b[0;34m)\u001b[0m\u001b[0;34m:\u001b[0m\u001b[0;34m\u001b[0m\u001b[0;34m\u001b[0m\u001b[0m\n",
      "\u001b[0;32m~/opt/anaconda3/envs/cyber/lib/python3.7/site-packages/pandas/core/internals/blocks.py\u001b[0m in \u001b[0;36mmake_block\u001b[0;34m(values, placement, klass, ndim, dtype)\u001b[0m\n\u001b[1;32m   2730\u001b[0m         \u001b[0mvalues\u001b[0m \u001b[0;34m=\u001b[0m \u001b[0mDatetimeArray\u001b[0m\u001b[0;34m.\u001b[0m\u001b[0m_simple_new\u001b[0m\u001b[0;34m(\u001b[0m\u001b[0mvalues\u001b[0m\u001b[0;34m,\u001b[0m \u001b[0mdtype\u001b[0m\u001b[0;34m=\u001b[0m\u001b[0mdtype\u001b[0m\u001b[0;34m)\u001b[0m\u001b[0;34m\u001b[0m\u001b[0;34m\u001b[0m\u001b[0m\n\u001b[1;32m   2731\u001b[0m \u001b[0;34m\u001b[0m\u001b[0m\n\u001b[0;32m-> 2732\u001b[0;31m     \u001b[0;32mreturn\u001b[0m \u001b[0mklass\u001b[0m\u001b[0;34m(\u001b[0m\u001b[0mvalues\u001b[0m\u001b[0;34m,\u001b[0m \u001b[0mndim\u001b[0m\u001b[0;34m=\u001b[0m\u001b[0mndim\u001b[0m\u001b[0;34m,\u001b[0m \u001b[0mplacement\u001b[0m\u001b[0;34m=\u001b[0m\u001b[0mplacement\u001b[0m\u001b[0;34m)\u001b[0m\u001b[0;34m\u001b[0m\u001b[0;34m\u001b[0m\u001b[0m\n\u001b[0m\u001b[1;32m   2733\u001b[0m \u001b[0;34m\u001b[0m\u001b[0m\n\u001b[1;32m   2734\u001b[0m \u001b[0;34m\u001b[0m\u001b[0m\n",
      "\u001b[0;32m~/opt/anaconda3/envs/cyber/lib/python3.7/site-packages/pandas/core/internals/blocks.py\u001b[0m in \u001b[0;36m__init__\u001b[0;34m(self, values, placement, ndim)\u001b[0m\n\u001b[1;32m    141\u001b[0m         \u001b[0;32mif\u001b[0m \u001b[0mself\u001b[0m\u001b[0;34m.\u001b[0m\u001b[0m_validate_ndim\u001b[0m \u001b[0;32mand\u001b[0m \u001b[0mself\u001b[0m\u001b[0;34m.\u001b[0m\u001b[0mndim\u001b[0m \u001b[0;32mand\u001b[0m \u001b[0mlen\u001b[0m\u001b[0;34m(\u001b[0m\u001b[0mself\u001b[0m\u001b[0;34m.\u001b[0m\u001b[0mmgr_locs\u001b[0m\u001b[0;34m)\u001b[0m \u001b[0;34m!=\u001b[0m \u001b[0mlen\u001b[0m\u001b[0;34m(\u001b[0m\u001b[0mself\u001b[0m\u001b[0;34m.\u001b[0m\u001b[0mvalues\u001b[0m\u001b[0;34m)\u001b[0m\u001b[0;34m:\u001b[0m\u001b[0;34m\u001b[0m\u001b[0;34m\u001b[0m\u001b[0m\n\u001b[1;32m    142\u001b[0m             raise ValueError(\n\u001b[0;32m--> 143\u001b[0;31m                 \u001b[0;34mf\"Wrong number of items passed {len(self.values)}, \"\u001b[0m\u001b[0;34m\u001b[0m\u001b[0;34m\u001b[0m\u001b[0m\n\u001b[0m\u001b[1;32m    144\u001b[0m                 \u001b[0;34mf\"placement implies {len(self.mgr_locs)}\"\u001b[0m\u001b[0;34m\u001b[0m\u001b[0;34m\u001b[0m\u001b[0m\n\u001b[1;32m    145\u001b[0m             )\n",
      "\u001b[0;31mValueError\u001b[0m: Wrong number of items passed 7, placement implies 1"
     ]
    }
   ],
   "source": [
    "X['coff.machine'] = pd.get_dummies(header['coff.machine'])"
   ]
  },
  {
   "cell_type": "code",
   "execution_count": 150,
   "id": "covered-mineral",
   "metadata": {},
   "outputs": [],
   "source": [
    "X_train, X_test, y_train, y_test = train_test_split(header[var1], header.label, test_size=0.2, random_state=42)"
   ]
  },
  {
   "cell_type": "code",
   "execution_count": null,
   "id": "medieval-finder",
   "metadata": {},
   "outputs": [],
   "source": []
  },
  {
   "cell_type": "code",
   "execution_count": 151,
   "id": "fatty-aberdeen",
   "metadata": {},
   "outputs": [
    {
     "ename": "ValueError",
     "evalue": "Input contains NaN, infinity or a value too large for dtype('float64').",
     "output_type": "error",
     "traceback": [
      "\u001b[0;31m---------------------------------------------------------------------------\u001b[0m",
      "\u001b[0;31mValueError\u001b[0m                                Traceback (most recent call last)",
      "\u001b[0;32m<ipython-input-151-4f66baab8f93>\u001b[0m in \u001b[0;36m<module>\u001b[0;34m\u001b[0m\n\u001b[0;32m----> 1\u001b[0;31m \u001b[0mclf\u001b[0m\u001b[0;34m.\u001b[0m\u001b[0mfit\u001b[0m\u001b[0;34m(\u001b[0m\u001b[0mX_train\u001b[0m\u001b[0;34m,\u001b[0m \u001b[0my_train\u001b[0m\u001b[0;34m)\u001b[0m\u001b[0;34m\u001b[0m\u001b[0;34m\u001b[0m\u001b[0m\n\u001b[0m",
      "\u001b[0;32m~/opt/anaconda3/envs/cyber/lib/python3.7/site-packages/sklearn/svm/_base.py\u001b[0m in \u001b[0;36mfit\u001b[0;34m(self, X, y, sample_weight)\u001b[0m\n\u001b[1;32m    169\u001b[0m             X, y = self._validate_data(X, y, dtype=np.float64,\n\u001b[1;32m    170\u001b[0m                                        \u001b[0morder\u001b[0m\u001b[0;34m=\u001b[0m\u001b[0;34m'C'\u001b[0m\u001b[0;34m,\u001b[0m \u001b[0maccept_sparse\u001b[0m\u001b[0;34m=\u001b[0m\u001b[0;34m'csr'\u001b[0m\u001b[0;34m,\u001b[0m\u001b[0;34m\u001b[0m\u001b[0;34m\u001b[0m\u001b[0m\n\u001b[0;32m--> 171\u001b[0;31m                                        accept_large_sparse=False)\n\u001b[0m\u001b[1;32m    172\u001b[0m \u001b[0;34m\u001b[0m\u001b[0m\n\u001b[1;32m    173\u001b[0m         \u001b[0my\u001b[0m \u001b[0;34m=\u001b[0m \u001b[0mself\u001b[0m\u001b[0;34m.\u001b[0m\u001b[0m_validate_targets\u001b[0m\u001b[0;34m(\u001b[0m\u001b[0my\u001b[0m\u001b[0;34m)\u001b[0m\u001b[0;34m\u001b[0m\u001b[0;34m\u001b[0m\u001b[0m\n",
      "\u001b[0;32m~/opt/anaconda3/envs/cyber/lib/python3.7/site-packages/sklearn/base.py\u001b[0m in \u001b[0;36m_validate_data\u001b[0;34m(self, X, y, reset, validate_separately, **check_params)\u001b[0m\n\u001b[1;32m    431\u001b[0m                 \u001b[0my\u001b[0m \u001b[0;34m=\u001b[0m \u001b[0mcheck_array\u001b[0m\u001b[0;34m(\u001b[0m\u001b[0my\u001b[0m\u001b[0;34m,\u001b[0m \u001b[0;34m**\u001b[0m\u001b[0mcheck_y_params\u001b[0m\u001b[0;34m)\u001b[0m\u001b[0;34m\u001b[0m\u001b[0;34m\u001b[0m\u001b[0m\n\u001b[1;32m    432\u001b[0m             \u001b[0;32melse\u001b[0m\u001b[0;34m:\u001b[0m\u001b[0;34m\u001b[0m\u001b[0;34m\u001b[0m\u001b[0m\n\u001b[0;32m--> 433\u001b[0;31m                 \u001b[0mX\u001b[0m\u001b[0;34m,\u001b[0m \u001b[0my\u001b[0m \u001b[0;34m=\u001b[0m \u001b[0mcheck_X_y\u001b[0m\u001b[0;34m(\u001b[0m\u001b[0mX\u001b[0m\u001b[0;34m,\u001b[0m \u001b[0my\u001b[0m\u001b[0;34m,\u001b[0m \u001b[0;34m**\u001b[0m\u001b[0mcheck_params\u001b[0m\u001b[0;34m)\u001b[0m\u001b[0;34m\u001b[0m\u001b[0;34m\u001b[0m\u001b[0m\n\u001b[0m\u001b[1;32m    434\u001b[0m             \u001b[0mout\u001b[0m \u001b[0;34m=\u001b[0m \u001b[0mX\u001b[0m\u001b[0;34m,\u001b[0m \u001b[0my\u001b[0m\u001b[0;34m\u001b[0m\u001b[0;34m\u001b[0m\u001b[0m\n\u001b[1;32m    435\u001b[0m \u001b[0;34m\u001b[0m\u001b[0m\n",
      "\u001b[0;32m~/opt/anaconda3/envs/cyber/lib/python3.7/site-packages/sklearn/utils/validation.py\u001b[0m in \u001b[0;36minner_f\u001b[0;34m(*args, **kwargs)\u001b[0m\n\u001b[1;32m     61\u001b[0m             \u001b[0mextra_args\u001b[0m \u001b[0;34m=\u001b[0m \u001b[0mlen\u001b[0m\u001b[0;34m(\u001b[0m\u001b[0margs\u001b[0m\u001b[0;34m)\u001b[0m \u001b[0;34m-\u001b[0m \u001b[0mlen\u001b[0m\u001b[0;34m(\u001b[0m\u001b[0mall_args\u001b[0m\u001b[0;34m)\u001b[0m\u001b[0;34m\u001b[0m\u001b[0;34m\u001b[0m\u001b[0m\n\u001b[1;32m     62\u001b[0m             \u001b[0;32mif\u001b[0m \u001b[0mextra_args\u001b[0m \u001b[0;34m<=\u001b[0m \u001b[0;36m0\u001b[0m\u001b[0;34m:\u001b[0m\u001b[0;34m\u001b[0m\u001b[0;34m\u001b[0m\u001b[0m\n\u001b[0;32m---> 63\u001b[0;31m                 \u001b[0;32mreturn\u001b[0m \u001b[0mf\u001b[0m\u001b[0;34m(\u001b[0m\u001b[0;34m*\u001b[0m\u001b[0margs\u001b[0m\u001b[0;34m,\u001b[0m \u001b[0;34m**\u001b[0m\u001b[0mkwargs\u001b[0m\u001b[0;34m)\u001b[0m\u001b[0;34m\u001b[0m\u001b[0;34m\u001b[0m\u001b[0m\n\u001b[0m\u001b[1;32m     64\u001b[0m \u001b[0;34m\u001b[0m\u001b[0m\n\u001b[1;32m     65\u001b[0m             \u001b[0;31m# extra_args > 0\u001b[0m\u001b[0;34m\u001b[0m\u001b[0;34m\u001b[0m\u001b[0;34m\u001b[0m\u001b[0m\n",
      "\u001b[0;32m~/opt/anaconda3/envs/cyber/lib/python3.7/site-packages/sklearn/utils/validation.py\u001b[0m in \u001b[0;36mcheck_X_y\u001b[0;34m(X, y, accept_sparse, accept_large_sparse, dtype, order, copy, force_all_finite, ensure_2d, allow_nd, multi_output, ensure_min_samples, ensure_min_features, y_numeric, estimator)\u001b[0m\n\u001b[1;32m    825\u001b[0m     \u001b[0;32melse\u001b[0m\u001b[0;34m:\u001b[0m\u001b[0;34m\u001b[0m\u001b[0;34m\u001b[0m\u001b[0m\n\u001b[1;32m    826\u001b[0m         \u001b[0my\u001b[0m \u001b[0;34m=\u001b[0m \u001b[0mcolumn_or_1d\u001b[0m\u001b[0;34m(\u001b[0m\u001b[0my\u001b[0m\u001b[0;34m,\u001b[0m \u001b[0mwarn\u001b[0m\u001b[0;34m=\u001b[0m\u001b[0;32mTrue\u001b[0m\u001b[0;34m)\u001b[0m\u001b[0;34m\u001b[0m\u001b[0;34m\u001b[0m\u001b[0m\n\u001b[0;32m--> 827\u001b[0;31m         \u001b[0m_assert_all_finite\u001b[0m\u001b[0;34m(\u001b[0m\u001b[0my\u001b[0m\u001b[0;34m)\u001b[0m\u001b[0;34m\u001b[0m\u001b[0;34m\u001b[0m\u001b[0m\n\u001b[0m\u001b[1;32m    828\u001b[0m     \u001b[0;32mif\u001b[0m \u001b[0my_numeric\u001b[0m \u001b[0;32mand\u001b[0m \u001b[0my\u001b[0m\u001b[0;34m.\u001b[0m\u001b[0mdtype\u001b[0m\u001b[0;34m.\u001b[0m\u001b[0mkind\u001b[0m \u001b[0;34m==\u001b[0m \u001b[0;34m'O'\u001b[0m\u001b[0;34m:\u001b[0m\u001b[0;34m\u001b[0m\u001b[0;34m\u001b[0m\u001b[0m\n\u001b[1;32m    829\u001b[0m         \u001b[0my\u001b[0m \u001b[0;34m=\u001b[0m \u001b[0my\u001b[0m\u001b[0;34m.\u001b[0m\u001b[0mastype\u001b[0m\u001b[0;34m(\u001b[0m\u001b[0mnp\u001b[0m\u001b[0;34m.\u001b[0m\u001b[0mfloat64\u001b[0m\u001b[0;34m)\u001b[0m\u001b[0;34m\u001b[0m\u001b[0;34m\u001b[0m\u001b[0m\n",
      "\u001b[0;32m~/opt/anaconda3/envs/cyber/lib/python3.7/site-packages/sklearn/utils/validation.py\u001b[0m in \u001b[0;36m_assert_all_finite\u001b[0;34m(X, allow_nan, msg_dtype)\u001b[0m\n\u001b[1;32m    104\u001b[0m                     \u001b[0mmsg_err\u001b[0m\u001b[0;34m.\u001b[0m\u001b[0mformat\u001b[0m\u001b[0;34m\u001b[0m\u001b[0;34m\u001b[0m\u001b[0m\n\u001b[1;32m    105\u001b[0m                     (type_err,\n\u001b[0;32m--> 106\u001b[0;31m                      msg_dtype if msg_dtype is not None else X.dtype)\n\u001b[0m\u001b[1;32m    107\u001b[0m             )\n\u001b[1;32m    108\u001b[0m     \u001b[0;31m# for object dtype data, we only check for NaNs (GH-13254)\u001b[0m\u001b[0;34m\u001b[0m\u001b[0;34m\u001b[0m\u001b[0;34m\u001b[0m\u001b[0m\n",
      "\u001b[0;31mValueError\u001b[0m: Input contains NaN, infinity or a value too large for dtype('float64')."
     ]
    }
   ],
   "source": [
    "clf.fit(X_train, y_train)"
   ]
  },
  {
   "cell_type": "code",
   "execution_count": 106,
   "id": "civilian-badge",
   "metadata": {},
   "outputs": [
    {
     "data": {
      "text/plain": [
       "0.7069857697283312"
      ]
     },
     "execution_count": 106,
     "metadata": {},
     "output_type": "execute_result"
    }
   ],
   "source": [
    "accuracy_score(y_test,clf.predict(X_test))"
   ]
  }
 ],
 "metadata": {
  "kernelspec": {
   "display_name": "cyber",
   "language": "python",
   "name": "cyber"
  },
  "language_info": {
   "codemirror_mode": {
    "name": "ipython",
    "version": 3
   },
   "file_extension": ".py",
   "mimetype": "text/x-python",
   "name": "python",
   "nbconvert_exporter": "python",
   "pygments_lexer": "ipython3",
   "version": "3.7.9"
  }
 },
 "nbformat": 4,
 "nbformat_minor": 5
}
