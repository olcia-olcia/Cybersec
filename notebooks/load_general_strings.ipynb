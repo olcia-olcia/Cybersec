{
 "cells": [
  {
   "cell_type": "code",
   "execution_count": 1,
   "metadata": {},
   "outputs": [],
   "source": [
    "import os\n",
    "os.chdir('..')"
   ]
  },
  {
   "cell_type": "code",
   "execution_count": 3,
   "metadata": {},
   "outputs": [],
   "source": [
    "from cybersec_pkg.cybersec_pkg.FlatData import *\n",
    "from cybersec_pkg.cybersec_pkg.TransformData import *"
   ]
  },
  {
   "cell_type": "code",
   "execution_count": 6,
   "metadata": {},
   "outputs": [],
   "source": [
    "# 1. read datas\n",
    "data_path = '/Users/patrycjapiechowicz/Downloads/sample_data_6k (1).jsonl'\n",
    "data = read_data(data_path, limiter=100)"
   ]
  },
  {
   "cell_type": "code",
   "execution_count": 7,
   "metadata": {},
   "outputs": [],
   "source": [
    "# 2. iterate over dataset\n",
    "flatten_dataset = []\n",
    "for sample in data:\n",
    "    # version 1 dummy way\n",
    "    # flat = flatten_json(sample)\n",
    "    # flatten_dataset.append(flat)\n",
    "    # collect transformed values for each sample\n",
    "\n",
    "    # version 2\n",
    "    transformed = {}\n",
    "\n",
    "    transformed.update(get_simple_column(sample))\n",
    "    transformed.update(get_simple_list_from_column(sample))\n",
    "    transformed.update(get_features_from_dict_column(sample, columns = \"strings\"))\n",
    "    transformed.update(get_features_from_dict_column(sample, columns = \"general\"))\n",
    "    transformed.update(get_features_from_dict_column(sample, columns = \"imports\"))\n",
    "    transformed.update(get_features_from_header(sample))\n",
    "    transformed.update(get_features_from_section(sample))\n",
    "    transformed.update(get_features_from_datadirectories(sample))\n",
    "\n",
    "\n",
    "    # here we fill with transform data\n",
    "    flatten_dataset.append(transformed)\n"
   ]
  },
  {
   "cell_type": "code",
   "execution_count": 30,
   "metadata": {},
   "outputs": [],
   "source": [
    "def transform_general(df_flat):\n",
    "    \"\"\"\n",
    "    Function transform column general and strings\n",
    "    Inputs:\n",
    "        df_flat: flatten data frame\n",
    "    output:\n",
    "        df_cleaned: reduced dataset\n",
    "    \"\"\"\n",
    "    # filter columns general related\n",
    "    df_general = df_flat[['general_size','general_vsize','general_has_debug','general_exports','general_imports','general_has_relocations','general_has_resources','general_has_signature','general_has_tls','general_symbols']]\n",
    "    \n",
    "     # drop columns with exports,imports,symbols\n",
    "    df_general.drop('general_exports', axis=1, inplace=True)\n",
    "    df_general.drop('general_imports', axis=1, inplace=True)\n",
    "    df_general.drop('general_symbols', axis=1, inplace=True)\n",
    "    return df_general\n"
   ]
  },
  {
   "cell_type": "code",
   "execution_count": 45,
   "metadata": {},
   "outputs": [],
   "source": [
    "def transform_strings(df_flat):\n",
    "    \"\"\"\n",
    "    Function transform column general and strings\n",
    "    Inputs:\n",
    "        df_flat: flatten data frame\n",
    "    output:\n",
    "        df_cleaned: reduced dataset\n",
    "    \"\"\"\n",
    "    # filter columns strings related\n",
    "    df_strings = df_flat[df_flat.columns[df_flat.columns.str.startswith('strings_')]].copy()\n",
    "    # drop columns with exports,imports,symbols\n",
    "    df_strings.drop('strings_avlength', axis=1, inplace=True)\n",
    "    df_strings.drop('strings_paths', axis=1, inplace=True)\n",
    "    df_strings.drop('strings_urls', axis=1, inplace=True)\n",
    "    df_strings.drop('strings_registry', axis=1, inplace=True)\n",
    "\n",
    "    return df_strings\n"
   ]
  }
 ],
 "metadata": {
  "kernelspec": {
   "display_name": "Python 3",
   "language": "python",
   "name": "python3"
  },
  "language_info": {
   "codemirror_mode": {
    "name": "ipython",
    "version": 3
   },
   "file_extension": ".py",
   "mimetype": "text/x-python",
   "name": "python",
   "nbconvert_exporter": "python",
   "pygments_lexer": "ipython3",
   "version": "3.7.4"
  }
 },
 "nbformat": 4,
 "nbformat_minor": 2
}
