{
 "cells": [
  {
   "cell_type": "code",
   "execution_count": 1,
   "id": "verbal-karma",
   "metadata": {},
   "outputs": [],
   "source": [
    "import pandas as pd    \n",
    "import seaborn as sns\n",
    "import matplotlib.pyplot as plt\n",
    "from scipy import stats\n",
    "import numpy as np\n",
    "import json"
   ]
  },
  {
   "cell_type": "code",
   "execution_count": 92,
   "id": "pretty-sleeping",
   "metadata": {},
   "outputs": [],
   "source": [
    "# this helps with scrolling df\n",
    "pd.set_option('display.max_rows', 500)\n",
    "pd.set_option('display.max_columns', 500)\n",
    "pd.set_option('display.width', 1000)\n",
    "pd.set_option('display.float_format', '{:.2f}'.format)"
   ]
  },
  {
   "cell_type": "code",
   "execution_count": 2,
   "id": "comic-darwin",
   "metadata": {},
   "outputs": [],
   "source": [
    "# My functions"
   ]
  },
  {
   "cell_type": "code",
   "execution_count": 3,
   "id": "complicated-holiday",
   "metadata": {},
   "outputs": [],
   "source": [
    "def plot_histogram(df, variable, count = True):\n",
    "    \"\"\"\n",
    "    Args:\n",
    "        df: data frame with categoretical variable and label named as \"label\"\n",
    "        column: string - name of column with categorical data\n",
    "        count: True - returns count plot, False - kde plot\n",
    "        \n",
    "    Returns:\n",
    "        prints histogram based on label split\n",
    "    \n",
    "    \"\"\"\n",
    "    plt.tight_layout() \n",
    "    plt.figure(figsize=(8,6))\n",
    "    if count:\n",
    "        sns.countplot(x=variable, hue=\"label\", data=df, palette=\"hls\")\n",
    "        plt.title(\"Count of label vs size bins- \"+variable,fontsize=20)\n",
    "        plt.xlabel(\"Bin size\",fontsize=15)\n",
    "        plt.ylabel(\"Count\",fontsize=15)\n",
    "        plt.xticks(rotation=45)\n",
    "        plt.legend(['non-malware','malware'],loc='upper right')\n",
    "    else:\n",
    "        sns.displot(x=variable, hue='label',data=df, kind = 'kde', fill = True)\n",
    "\n",
    "    \n",
    "    plt.show()\n",
    "    \n",
    "def chi_2(df, variable):\n",
    "    \n",
    "    cross_table = pd.crosstab(df['label'],df[variable])\n",
    "    chi2, p, dof, ex = stats.chi2_contingency(cross_table) \n",
    "    alpha = 0.05\n",
    "    \n",
    "\n",
    "    print('chi_2 statistic: {:.2f}'.format(chi2))\n",
    "    print('p_value: {:.2f}'.format(p))\n",
    "    print(\"significant level\", alpha)\n",
    "    \n",
    "    if p <=alpha:\n",
    "        print('Reject H0, variables have dependency')\n",
    "    else:\n",
    "        print('Do not reject H0')\n",
    "        \n",
    "def plot_chi(df, variable, count = True):\n",
    "    \"\"\"\n",
    "    Args: \n",
    "        df:\n",
    "        variable:\n",
    "        count: says if we have categorical variable\n",
    "    Returns: \n",
    "    Chi2 table and hist plot\n",
    "    \"\"\"\n",
    "    \n",
    "    plot_histogram(df, variable, count)\n",
    "    chi_2(df, variable)"
   ]
  },
  {
   "cell_type": "code",
   "execution_count": 4,
   "id": "antique-healing",
   "metadata": {},
   "outputs": [],
   "source": [
    "# Ada's code but changed a little bit\n",
    "\n",
    "def read_data(path, limiter):\n",
    "    \"\"\"\n",
    "    Args:\n",
    "        path: path to dataset in jsonl file format\n",
    "        limiter: number of rows\n",
    "\n",
    "    Returns:\n",
    "        data: json dict, where every line is one sample as json\n",
    "    \"\"\"\n",
    "    with open(path) as file:\n",
    "        data = [json.loads(next(file)) for x in range(limiter)]\n",
    "    return data\n",
    "\n",
    "\n",
    "def transform_dll_imports(json_sample):\n",
    "    \"\"\"\n",
    "    Args:\n",
    "        json_sample: one sample of dataset\n",
    "\n",
    "    Returns:\n",
    "        functions_dict: dict with all dll functions name with value True\n",
    "    \"\"\"\n",
    "    imports = sample[\"imports\"]\n",
    "    functions_dict = {}\n",
    "    for key in imports.keys():\n",
    "        functions = imports[key]\n",
    "        functions_with_values = {key.lower() + \"-\" + f_name: True for f_name in functions}\n",
    "        functions_dict.update(functions_with_values)\n",
    "    return functions_dict\n",
    "\n",
    "\n",
    "def transform_dict(json_dict):\n",
    "    \"\"\"\n",
    "    Args:\n",
    "        json_dict: json dict with nested key-value, where value is list\n",
    "\n",
    "    Returns:\n",
    "        functions_dict: dict with value as a key and default value True\n",
    "    \"\"\"\n",
    "    result_dict = {}\n",
    "    for key in json_dict.keys():\n",
    "        keys = json_dict[key]\n",
    "        values_with_default = {key.lower() + \"-\" + f_name: True for f_name in keys}\n",
    "        result_dict.update(values_with_default)\n",
    "    return result_dict\n",
    "\n",
    "\n",
    "def transform_list(json_list):\n",
    "    \"\"\"\n",
    "    Args:\n",
    "        json_list: json list of values\n",
    "\n",
    "    Returns:\n",
    "        functions_dict: dict with all dll functions name with value True\n",
    "    \"\"\"\n",
    "    result_dict = {}\n",
    "    result_dict.update({i: True for i in json_list})\n",
    "    return result_dict\n",
    "\n",
    "\n",
    "def flatten_json(y, separator=''):\n",
    "    \"\"\"\n",
    "    Args:\n",
    "        y: json object\n",
    "        separator: separator\n",
    "\n",
    "    Returns:\n",
    "        functions_dict: dict with flatten values\n",
    "    \"\"\"\n",
    "    out = {}\n",
    "\n",
    "    def flatten(x, name=separator):\n",
    "        if type(x) is dict:\n",
    "            for a in x:\n",
    "                flatten(x[a], name + a + '_')\n",
    "        elif type(x) is list:\n",
    "            i = 0\n",
    "            for a in x:\n",
    "                flatten(a, name + str(i) + '_')\n",
    "                i += 1\n",
    "        else:\n",
    "            out[name[:-1]] = x\n",
    "\n",
    "    flatten(y)\n",
    "    return out\n",
    "\n",
    "# Extract \"sha256\", \"md5\", \"appeared\", \"label\" and \"avclass\" columns to a flat form\n",
    "\n",
    "def get_simple_column(sample, columns = [\"sha256\", \"md5\", \"appeared\", \"label\", \"avclass\"]):\n",
    "    '''\n",
    "    input:\n",
    "        data: variable with dataset\n",
    "        columns: list of names extracted columns\n",
    "    output:\n",
    "        final_list: list of dicts, one list's element is a one sample of dataset\n",
    "    '''\n",
    "    simple_dict = {}\n",
    "    simple_dict.update({column:sample[column] for column in columns})\n",
    "    return simple_dict\n",
    "\n",
    "# Extraction columns with list: \"histogram\", \"byteentropy\", \"exports\"\n",
    "\n",
    "def get_simple_list_from_column(sample, columns = [\"histogram\", \"byteentropy\", \"exports\"]):\n",
    "\n",
    "    '''\n",
    "    input:\n",
    "        data: variable with dataset\n",
    "        columns: name of extracted columns (str)\n",
    "    output:\n",
    "        final_list: list of dicts, one list's element is a one sample of dataset\n",
    "    '''\n",
    "  \n",
    "    dict_exports = {}\n",
    "    dict_others = {}\n",
    "    dict_final = {}\n",
    "\n",
    "    for column in columns:\n",
    "        if column == \"exports\":\n",
    "            dict_exports.update({column+\"_\"+str(v).lower():True for v in sample[column]})\n",
    "        else:\n",
    "            dict_others.update({column+\"_\"+str(i):n for i, n in enumerate(sample[column])})             \n",
    "                \n",
    "    dict_final.update(dict_others)\n",
    "    dict_final.update(dict_exports)\n",
    "               \n",
    "    return dict_final\n",
    "\n",
    "\n",
    "# Extraction IMPORTS, GENERAL and STRINGS columns\n",
    "\n",
    "def get_features_from_dict_column(sample, columns = \"imports\"):\n",
    "    '''\n",
    "    input:\n",
    "            data\n",
    "            columns\n",
    "    output:\n",
    "            functions_with_valuex\n",
    "    '''\n",
    "    dict_final = {}\n",
    "    temp1 = {}\n",
    "    temp2 = {}\n",
    "    temp3 = {}\n",
    "\n",
    "    feature = sample[columns]\n",
    "    for key in feature.keys():\n",
    "        content = feature[key]\n",
    "        if (isinstance(content, list) and len(content)!=0):\n",
    "            if not isinstance(content[0], str):\n",
    "                temp1.update({columns +\"_\"+key.lower() + \"-\" + str(i):cont for i, cont in enumerate(content)})\n",
    "            else:\n",
    "                temp2.update({columns +\"_\"+ key.lower() + \"-\" + str(cont).lower():True for cont in content})\n",
    "        else:\n",
    "            temp3.update({columns+\"_\"+key:content})\n",
    "\n",
    "    dict_final.update(temp1)   \n",
    "    dict_final.update(temp2) \n",
    "    dict_final.update(temp3) \n",
    "    return dict_final\n",
    "\n",
    "# Extraction HEADER column\n",
    "\n",
    "def get_features_from_header(sample):\n",
    "    '''\n",
    "    input:\n",
    "        data: data\n",
    "    output:\n",
    "        list_final: list of dicts\n",
    "    '''    \n",
    "    headers = sample[\"header\"]\n",
    "    dict_lists = {}\n",
    "    dict_others = {}\n",
    "    dict_final = {}\n",
    "\n",
    "    for h in headers.keys():   \n",
    "        temp = headers[h]      \n",
    "        for k in temp.keys():  \n",
    "\n",
    "#             if isinstance(temp[k], list):\n",
    "#                 dict_lists.update({\"header_\"+h.lower()+\"_\"+k.lower()+\"_\"+str(t).lower():True for t in temp[k]}) \n",
    "#             else:\n",
    "            dict_others.update({\"header_\"+h.lower()+\"_\"+k.lower():temp[k]})\n",
    "\n",
    "    dict_final.update(dict_lists)    \n",
    "    dict_final.update(dict_others)\n",
    "    return dict_final\n",
    "\n",
    "\n",
    "# Extraction Section column\n",
    "\n",
    "def get_features_from_section(sample):\n",
    "\n",
    "    '''\n",
    "    input:\n",
    "        data: data\n",
    "    output:\n",
    "        list_final: list of dicts\n",
    "    '''  \n",
    "    section_entry = sample['section']['entry']    # .text\n",
    "    section_sections = sample['section']['sections']\n",
    "    dict_others_sections = {}\n",
    "    dict_final = {}\n",
    "    \n",
    "    simple_dict = {}\n",
    "    simple_dict.update({'section_entry':section_entry})\n",
    "    \n",
    "    for part in section_sections:\n",
    "        name = part['name']\n",
    "        for position in ['size', 'entropy', 'vsize', 'props']:\n",
    "            dict_others_sections.update({\"section_\"+\"sections_\"+name.lower()+\"_\"+position:part[position]})\n",
    "    \n",
    "    dict_final.update(simple_dict)\n",
    "    dict_final.update(dict_others_sections)\n",
    "    return dict_final\n",
    "\n",
    "\n",
    "# Extraction DATADIRECTORIES column\n",
    "\n",
    "def get_features_from_datadirectories(sample):\n",
    "    '''\n",
    "    input:\n",
    "        data: data\n",
    "    output:\n",
    "        sum_others_datadir: list of dicts\n",
    "    '''  \n",
    "\n",
    "    dict_others_datadir = {}\n",
    "    datadir = sample[\"datadirectories\"]\n",
    "\n",
    "    for element in datadir:\n",
    "        element_name = element['name']\n",
    "        for position in ['size', 'virtual_address']:\n",
    "            dict_others_datadir.update({\"datadirectories_\"+element_name+\"_\"+position:element[position]})\n",
    "    return dict_others_datadir\n",
    "\n",
    "\n",
    "\n",
    "def write_csv(csv_file_path, sample_list):\n",
    "    \"\"\"\n",
    "    Args:\n",
    "        csv_file_path: destination path of csv file\n",
    "        sample_list: list of dicts \n",
    "    \"\"\"\n",
    "    all_keys = set().union(*(d.keys() for d in flatten_dataset))    \n",
    "\n",
    "    try:\n",
    "        with open(csv_file_path, 'w') as csvfile:\n",
    "            writer = csv.DictWriter(csvfile, fieldnames=all_keys)\n",
    "            writer.writeheader()\n",
    "            for data in flatten_dataset:\n",
    "                writer.writerow(data)\n",
    "    except IOError:\n",
    "        print(\"I/O error\")\n",
    "\n"
   ]
  },
  {
   "cell_type": "code",
   "execution_count": 5,
   "id": "norwegian-separation",
   "metadata": {},
   "outputs": [],
   "source": [
    "# 1. read datas\n",
    "data_path = 'sample_data_6k.jsonl'\n",
    "data = read_data(data_path, limiter=6000)\n",
    "# 2. iterate over dataset\n",
    "flatten_dataset = []\n",
    "for sample in data:\n",
    "    # version 1 dummy way\n",
    "    # flat = flatten_json(sample)\n",
    "    # flatten_dataset.append(flat)\n",
    "    # collect transformed values for each sample\n",
    "\n",
    "    # version 2\n",
    "    transformed = {}\n",
    "\n",
    "    transformed.update(get_simple_column(sample))\n",
    "#     transformed.update(get_simple_list_from_column(sample))\n",
    "#     transformed.update(get_features_from_dict_column(sample, columns = \"strings\"))\n",
    "#     transformed.update(get_features_from_dict_column(sample, columns = \"general\"))\n",
    "#     transformed.update(get_features_from_dict_column(sample, columns = \"imports\"))\n",
    "    transformed.update(get_features_from_header(sample))\n",
    "    transformed.update(get_features_from_section(sample))\n",
    "#     transformed.update(get_features_from_datadirectories(sample))\n",
    "\n",
    "\n",
    "    # here we fill with transform data\n",
    "    flatten_dataset.append(transformed)\n",
    "\n",
    "\n"
   ]
  },
  {
   "cell_type": "code",
   "execution_count": 6,
   "id": "pending-appraisal",
   "metadata": {},
   "outputs": [],
   "source": [
    "# change all transformed dataset to dataframe object\n",
    "\n",
    "df_flat = pd.DataFrame(flatten_dataset)\n",
    "\n"
   ]
  },
  {
   "cell_type": "markdown",
   "id": "informal-implement",
   "metadata": {},
   "source": [
    "### Sampling for having same number of classess"
   ]
  },
  {
   "cell_type": "code",
   "execution_count": 7,
   "id": "elegant-broadcasting",
   "metadata": {},
   "outputs": [],
   "source": [
    "# sample data with label == 0 to have the same number of class\n",
    "\n",
    "non_mal_flat = df_flat[df_flat.label==0].sample(1932,random_state=3)"
   ]
  },
  {
   "cell_type": "code",
   "execution_count": 8,
   "id": "enhanced-ballet",
   "metadata": {},
   "outputs": [],
   "source": [
    "# select data with label == 1 \n",
    "\n",
    "df_r = pd.concat([df_flat[df_flat.label==1], non_mal_flat]).reset_index()"
   ]
  },
  {
   "cell_type": "markdown",
   "id": "functioning-mambo",
   "metadata": {},
   "source": [
    "### Drop non relevant columns for analysis"
   ]
  },
  {
   "cell_type": "code",
   "execution_count": 9,
   "id": "molecular-anthropology",
   "metadata": {},
   "outputs": [],
   "source": [
    "# drop non relevant columns (for my analysis)\n",
    "\n",
    "df_r.drop(['index','sha256','md5','appeared','avclass'], axis =1, inplace =True)"
   ]
  },
  {
   "cell_type": "code",
   "execution_count": 10,
   "id": "established-correspondence",
   "metadata": {},
   "outputs": [],
   "source": [
    "# drop non relevant columns size & vsize as they are non relevant from \n",
    "\n",
    "df_r.drop(df_r.columns[df_r.columns.str.contains('_size')],axis=1, inplace=True)\n",
    "df_r.drop(df_r.columns[df_r.columns.str.contains('_vsize')],axis=1, inplace=True)"
   ]
  },
  {
   "cell_type": "code",
   "execution_count": 11,
   "id": "intensive-scheme",
   "metadata": {},
   "outputs": [
    {
     "data": {
      "text/plain": [
       "array(['.code', '.text', 'CODE', 'UPX0', '', '.AD8Te', '7744', '.',\n",
       "       '.rsrc', '.neolit', '   ', '2sJpMTKE', '-/\\x0c', '.MPRESS1',\n",
       "       '.vmp0', '.crt1', 'tWg\\x12K4Qr', '.crt', '.zxdae', '.flat',\n",
       "       '.rdata', '.adata', '.indata', 'ATU0', 'XbWcczqo', '8sj(dsj2',\n",
       "       '.HEYeA', '.itext', '\\x03\\tO@fw\\x062', ';\\x11\\x051,Neu', '.data',\n",
       "       '.CRT2', '.zcode', '.rodata', 'Ei<\\x04\\x0eVLm', 'O\\x153t`yC`',\n",
       "       \"+\\x05eQkb'+\", '\\x1a=\\n', '_TEXT', 'AUTO', 'EPE0', '3', '.nsp0',\n",
       "       '.text\\x01', '.textbss', '.pjz', '{P\\x15A?}\\x10!', '.xdata',\n",
       "       'code', '/89', '.reloc', '.bss', '.orpc'], dtype=object)"
      ]
     },
     "execution_count": 11,
     "metadata": {},
     "output_type": "execute_result"
    }
   ],
   "source": [
    "# unique entry sections\n",
    "\n",
    "df_r['section_entry'].unique()"
   ]
  },
  {
   "cell_type": "markdown",
   "id": "marine-internship",
   "metadata": {},
   "source": [
    "## Column: Sections"
   ]
  },
  {
   "cell_type": "markdown",
   "id": "crucial-latvia",
   "metadata": {},
   "source": [
    "### Sections - Creating new features"
   ]
  },
  {
   "cell_type": "code",
   "execution_count": 12,
   "id": "valuable-brake",
   "metadata": {},
   "outputs": [],
   "source": [
    "# create list of standard \n",
    "# source: https://keystrokes2016.wordpress.com/2016/06/03/pe-file-structure-sections/\n",
    "\n",
    "standard_entries = ['.text', '.bss', '.rdata', '.data', '.rsrc', '.edata', '.idata', '.pdata', '.debug']"
   ]
  },
  {
   "cell_type": "code",
   "execution_count": 13,
   "id": "floating-person",
   "metadata": {},
   "outputs": [],
   "source": [
    "# 1 - entry is in standard entry, 0 - entry is not standard\n",
    "\n",
    "df_r['section_has_non_standard_entry'] = np.where(df_r['section_entry'].isin(standard_entries),0,1)"
   ]
  },
  {
   "cell_type": "code",
   "execution_count": 14,
   "id": "rubber-excellence",
   "metadata": {},
   "outputs": [],
   "source": [
    "# count number of sections \n",
    "\n",
    "df_r['section_cnt'] = df_r[df_r.columns[df_r.columns.str.contains('_entropy')]].apply(lambda x: sum(x>=0),axis=1)"
   ]
  },
  {
   "cell_type": "code",
   "execution_count": 15,
   "id": "considerable-onion",
   "metadata": {},
   "outputs": [],
   "source": [
    "# count sections which contain high entropy (>6)\n",
    "\n",
    "df_r['section_high_entropy_cnt'] = df_r[df_r.columns[df_r.columns.str.contains('_entropy')]].apply(lambda x: sum(x>=6),axis=1)"
   ]
  },
  {
   "cell_type": "code",
   "execution_count": 16,
   "id": "continuing-belarus",
   "metadata": {},
   "outputs": [],
   "source": [
    "# create new column: section_high_entropy ratio\n",
    "\n",
    "df_r['section_high_entropy_ratio'] = df_r['section_high_entropy_cnt'] /df_r['section_cnt']"
   ]
  },
  {
   "cell_type": "code",
   "execution_count": 17,
   "id": "crazy-renewal",
   "metadata": {},
   "outputs": [],
   "source": [
    "# create new column: max section entropy\n",
    "\n",
    "df_r['section_entropy_max'] = df_r[df_r.columns[df_r.columns.str.contains('_entropy')]].max(axis=1)\n"
   ]
  },
  {
   "cell_type": "code",
   "execution_count": 18,
   "id": "portable-activation",
   "metadata": {},
   "outputs": [],
   "source": [
    "def get_non_standard_section_ratio(row, good_sections = standard_entries):\n",
    "    \"\"\"\n",
    "    Functions returns ratio of non standard sections in sections field. This function is used in apply \n",
    "    Args:\n",
    "        row: row of df\n",
    "        good_sections: list of section names considered as normal/standard\n",
    "    Return: \n",
    "        ratio of #non standard sections/ # all sections\n",
    "    \n",
    "    \"\"\"\n",
    "    \n",
    "    labels = row[~np.isnan(row)].index\n",
    "    \n",
    "    list_of_names = [k.replace('section_sections_',\"\").replace('_entropy',\"\") for k in labels]\n",
    "    \n",
    "    proper_filter = [lab for lab in list_of_names if lab not in good_sections]\n",
    "    \n",
    "    if len(list_of_names) == 0:\n",
    "        return np.NaN\n",
    "    else:\n",
    "        return len(proper_filter) /len(list_of_names)\n",
    "    "
   ]
  },
  {
   "cell_type": "code",
   "execution_count": 19,
   "id": "involved-firewall",
   "metadata": {},
   "outputs": [],
   "source": [
    "df_r['section_has_non_standard_sections_ratio'] = df_r[df_r.columns[df_r.columns.str.endswith('_entropy')]].apply(lambda x: get_non_standard_section_ratio(x,standard_entries),axis=1)"
   ]
  },
  {
   "cell_type": "code",
   "execution_count": 20,
   "id": "pleased-ukraine",
   "metadata": {},
   "outputs": [
    {
     "data": {
      "text/plain": [
       "(3864, 1222)"
      ]
     },
     "execution_count": 20,
     "metadata": {},
     "output_type": "execute_result"
    }
   ],
   "source": [
    "df_r.shape"
   ]
  },
  {
   "cell_type": "markdown",
   "id": "exact-plant",
   "metadata": {},
   "source": [
    "### Conclusion: \n",
    "\n",
    "6 new columns have been created:\n",
    "- [binary] 'section_has_non_standard_entry' - 1 if entry is not standard else 0\n",
    "- [int] 'section_cnt' - count of sections in PE file\n",
    "- [int] 'section_high_entropy_cnt'- count of sections with high entropy (>6)\n",
    "- [float] 'section_high_entropy_ratio' - 'section_high_entropy_cnt'/ 'section_cnt'\n",
    "- [float] 'section_entropy_max' - maximum entropy across sections\n",
    "- [float] 'section_has_non_standard_sections_ratio' - #non standard sections/ #all sections in PE file\n",
    "\n",
    "\n",
    "4 Fetures selected for further analysis:\n",
    "- [binary] 'section_has_non_standard_entry'\n",
    "- [float] 'section_high_entropy_ratio'\n",
    "- [float] 'section_entropy_max'\n",
    "- [float] 'section_has_non_standard_sections_ratio'\n",
    "\n"
   ]
  },
  {
   "cell_type": "code",
   "execution_count": 21,
   "id": "impressed-mattress",
   "metadata": {},
   "outputs": [],
   "source": [
    "section_columns = ['section_has_non_standard_entry', 'section_high_entropy_ratio','section_entropy_max', 'section_has_non_standard_sections_ratio']\n",
    "columns = section_columns"
   ]
  },
  {
   "cell_type": "code",
   "execution_count": 22,
   "id": "strong-freedom",
   "metadata": {},
   "outputs": [
    {
     "data": {
      "text/plain": [
       "<Figure size 432x288 with 0 Axes>"
      ]
     },
     "metadata": {},
     "output_type": "display_data"
    },
    {
     "data": {
      "text/plain": [
       "<Figure size 576x432 with 0 Axes>"
      ]
     },
     "metadata": {},
     "output_type": "display_data"
    },
    {
     "data": {
      "image/png": "[encoded data removed]",
      "text/plain": [
       "<Figure size 402.375x360 with 1 Axes>"
      ]
     },
     "metadata": {
      "needs_background": "light"
     },
     "output_type": "display_data"
    },
    {
     "data": {
      "text/plain": [
       "<Figure size 432x288 with 0 Axes>"
      ]
     },
     "metadata": {},
     "output_type": "display_data"
    },
    {
     "data": {
      "text/plain": [
       "<Figure size 576x432 with 0 Axes>"
      ]
     },
     "metadata": {},
     "output_type": "display_data"
    },
    {
     "data": {
      "image/png": "[encoded data removed]",
      "text/plain": [
       "<Figure size 402.375x360 with 1 Axes>"
      ]
     },
     "metadata": {
      "needs_background": "light"
     },
     "output_type": "display_data"
    },
    {
     "data": {
      "text/plain": [
       "<Figure size 432x288 with 0 Axes>"
      ]
     },
     "metadata": {},
     "output_type": "display_data"
    },
    {
     "data": {
      "text/plain": [
       "<Figure size 576x432 with 0 Axes>"
      ]
     },
     "metadata": {},
     "output_type": "display_data"
    },
    {
     "data": {
      "image/png": "[encoded data removed]",
      "text/plain": [
       "<Figure size 402.375x360 with 1 Axes>"
      ]
     },
     "metadata": {
      "needs_background": "light"
     },
     "output_type": "display_data"
    },
    {
     "data": {
      "text/plain": [
       "<Figure size 432x288 with 0 Axes>"
      ]
     },
     "metadata": {},
     "output_type": "display_data"
    },
    {
     "data": {
      "text/plain": [
       "<Figure size 576x432 with 0 Axes>"
      ]
     },
     "metadata": {},
     "output_type": "display_data"
    },
    {
     "data": {
      "image/png": "[encoded data removed]",
      "text/plain": [
       "<Figure size 402.375x360 with 1 Axes>"
      ]
     },
     "metadata": {
      "needs_background": "light"
     },
     "output_type": "display_data"
    }
   ],
   "source": [
    "for col in columns:\n",
    "    plot_histogram(df_r, col, False)\n"
   ]
  },
  {
   "cell_type": "code",
   "execution_count": 23,
   "id": "legal-rider",
   "metadata": {},
   "outputs": [
    {
     "data": {
      "text/html": [
       "<div>\n",
       "<style scoped>\n",
       "    .dataframe tbody tr th:only-of-type {\n",
       "        vertical-align: middle;\n",
       "    }\n",
       "\n",
       "    .dataframe tbody tr th {\n",
       "        vertical-align: top;\n",
       "    }\n",
       "\n",
       "    .dataframe thead th {\n",
       "        text-align: right;\n",
       "    }\n",
       "</style>\n",
       "<table border=\"1\" class=\"dataframe\">\n",
       "  <thead>\n",
       "    <tr style=\"text-align: right;\">\n",
       "      <th></th>\n",
       "      <th>section_has_non_standard_entry</th>\n",
       "      <th>section_high_entropy_ratio</th>\n",
       "      <th>section_entropy_max</th>\n",
       "      <th>section_has_non_standard_sections_ratio</th>\n",
       "    </tr>\n",
       "  </thead>\n",
       "  <tbody>\n",
       "    <tr>\n",
       "      <th>section_has_non_standard_entry</th>\n",
       "      <td>1.000000</td>\n",
       "      <td>-0.000090</td>\n",
       "      <td>-0.034425</td>\n",
       "      <td>0.561251</td>\n",
       "    </tr>\n",
       "    <tr>\n",
       "      <th>section_high_entropy_ratio</th>\n",
       "      <td>-0.000090</td>\n",
       "      <td>1.000000</td>\n",
       "      <td>0.721616</td>\n",
       "      <td>0.078541</td>\n",
       "    </tr>\n",
       "    <tr>\n",
       "      <th>section_entropy_max</th>\n",
       "      <td>-0.034425</td>\n",
       "      <td>0.721616</td>\n",
       "      <td>1.000000</td>\n",
       "      <td>0.226061</td>\n",
       "    </tr>\n",
       "    <tr>\n",
       "      <th>section_has_non_standard_sections_ratio</th>\n",
       "      <td>0.561251</td>\n",
       "      <td>0.078541</td>\n",
       "      <td>0.226061</td>\n",
       "      <td>1.000000</td>\n",
       "    </tr>\n",
       "  </tbody>\n",
       "</table>\n",
       "</div>"
      ],
      "text/plain": [
       "                                         section_has_non_standard_entry  \\\n",
       "section_has_non_standard_entry                                 1.000000   \n",
       "section_high_entropy_ratio                                    -0.000090   \n",
       "section_entropy_max                                           -0.034425   \n",
       "section_has_non_standard_sections_ratio                        0.561251   \n",
       "\n",
       "                                         section_high_entropy_ratio  \\\n",
       "section_has_non_standard_entry                            -0.000090   \n",
       "section_high_entropy_ratio                                 1.000000   \n",
       "section_entropy_max                                        0.721616   \n",
       "section_has_non_standard_sections_ratio                    0.078541   \n",
       "\n",
       "                                         section_entropy_max  \\\n",
       "section_has_non_standard_entry                     -0.034425   \n",
       "section_high_entropy_ratio                          0.721616   \n",
       "section_entropy_max                                 1.000000   \n",
       "section_has_non_standard_sections_ratio             0.226061   \n",
       "\n",
       "                                         section_has_non_standard_sections_ratio  \n",
       "section_has_non_standard_entry                                          0.561251  \n",
       "section_high_entropy_ratio                                              0.078541  \n",
       "section_entropy_max                                                     0.226061  \n",
       "section_has_non_standard_sections_ratio                                 1.000000  "
      ]
     },
     "execution_count": 23,
     "metadata": {},
     "output_type": "execute_result"
    }
   ],
   "source": [
    "df_r[columns].corr()"
   ]
  },
  {
   "cell_type": "markdown",
   "id": "established-organizer",
   "metadata": {},
   "source": [
    "### Conclusions: \n",
    "- section_has_non_standard_entry - this is binary value, we will calculate seperate test\n",
    "- section_high_entropy_ratio is corelated with section_entropy_max, let's use also different techniques to select apriopriate column\n",
    "- distributions looks good, groups are seperated\n",
    "\n",
    "\n"
   ]
  },
  {
   "cell_type": "code",
   "execution_count": 24,
   "id": "fifteen-arthur",
   "metadata": {},
   "outputs": [],
   "source": [
    "from scipy import stats"
   ]
  },
  {
   "cell_type": "markdown",
   "id": "eligible-seminar",
   "metadata": {},
   "source": [
    "#### is section_has_non_standard_entry  dependent with other continuus variables?"
   ]
  },
  {
   "cell_type": "code",
   "execution_count": 25,
   "id": "engaging-texas",
   "metadata": {},
   "outputs": [
    {
     "name": "stdout",
     "output_type": "stream",
     "text": [
      "PointbiserialrResult(correlation=0.999999999999991, pvalue=0.0)\n",
      "PointbiserialrResult(correlation=-8.980756125993064e-05, pvalue=0.9955478222770259)\n",
      "PointbiserialrResult(correlation=-0.031873340300691486, pvalue=0.047603943155238145)\n",
      "PointbiserialrResult(correlation=0.5612513446096893, pvalue=1.4324e-319)\n"
     ]
    }
   ],
   "source": [
    "for col in columns:\n",
    "    print(stats.pointbiserialr(df_r[df_r['section_cnt']!=0][col],df_r[df_r['section_cnt']!=0]['section_has_non_standard_entry']))"
   ]
  },
  {
   "cell_type": "markdown",
   "id": "sitting-fitting",
   "metadata": {},
   "source": [
    "##### Looks. that they are quite independent, TBC\n",
    "- section_high_entropy_ratio: don't know\n",
    "- 'section_entropy_max': not corelated\n",
    "- 'section_has_non_standard_sections_ratio': potentialy corelated"
   ]
  },
  {
   "cell_type": "code",
   "execution_count": null,
   "id": "retained-junior",
   "metadata": {},
   "outputs": [],
   "source": []
  },
  {
   "cell_type": "markdown",
   "id": "graduate-school",
   "metadata": {},
   "source": [
    "## Column: Header"
   ]
  },
  {
   "cell_type": "code",
   "execution_count": 26,
   "id": "banner-staff",
   "metadata": {},
   "outputs": [
    {
     "data": {
      "text/html": [
       "<div>\n",
       "<style scoped>\n",
       "    .dataframe tbody tr th:only-of-type {\n",
       "        vertical-align: middle;\n",
       "    }\n",
       "\n",
       "    .dataframe tbody tr th {\n",
       "        vertical-align: top;\n",
       "    }\n",
       "\n",
       "    .dataframe thead th {\n",
       "        text-align: right;\n",
       "    }\n",
       "</style>\n",
       "<table border=\"1\" class=\"dataframe\">\n",
       "  <thead>\n",
       "    <tr style=\"text-align: right;\">\n",
       "      <th></th>\n",
       "      <th>header_coff_timestamp</th>\n",
       "      <th>header_coff_machine</th>\n",
       "      <th>header_coff_characteristics</th>\n",
       "    </tr>\n",
       "  </thead>\n",
       "  <tbody>\n",
       "    <tr>\n",
       "      <th>0</th>\n",
       "      <td>1301832471</td>\n",
       "      <td>I386</td>\n",
       "      <td>[CHARA_32BIT_MACHINE, RELOCS_STRIPPED, EXECUTA...</td>\n",
       "    </tr>\n",
       "    <tr>\n",
       "      <th>1</th>\n",
       "      <td>1511340343</td>\n",
       "      <td>I386</td>\n",
       "      <td>[CHARA_32BIT_MACHINE, EXECUTABLE_IMAGE]</td>\n",
       "    </tr>\n",
       "    <tr>\n",
       "      <th>2</th>\n",
       "      <td>1510798547</td>\n",
       "      <td>I386</td>\n",
       "      <td>[CHARA_32BIT_MACHINE, RELOCS_STRIPPED, EXECUTA...</td>\n",
       "    </tr>\n",
       "    <tr>\n",
       "      <th>3</th>\n",
       "      <td>1514434785</td>\n",
       "      <td>I386</td>\n",
       "      <td>[CHARA_32BIT_MACHINE, RELOCS_STRIPPED, EXECUTA...</td>\n",
       "    </tr>\n",
       "    <tr>\n",
       "      <th>4</th>\n",
       "      <td>708992537</td>\n",
       "      <td>I386</td>\n",
       "      <td>[CHARA_32BIT_MACHINE, BYTES_REVERSED_LO, EXECU...</td>\n",
       "    </tr>\n",
       "    <tr>\n",
       "      <th>...</th>\n",
       "      <td>...</td>\n",
       "      <td>...</td>\n",
       "      <td>...</td>\n",
       "    </tr>\n",
       "    <tr>\n",
       "      <th>3859</th>\n",
       "      <td>982600987</td>\n",
       "      <td>I386</td>\n",
       "      <td>[CHARA_32BIT_MACHINE, RELOCS_STRIPPED, EXECUTA...</td>\n",
       "    </tr>\n",
       "    <tr>\n",
       "      <th>3860</th>\n",
       "      <td>1005228158</td>\n",
       "      <td>I386</td>\n",
       "      <td>[LOCAL_SYMS_STRIPPED, CHARA_32BIT_MACHINE, EXE...</td>\n",
       "    </tr>\n",
       "    <tr>\n",
       "      <th>3861</th>\n",
       "      <td>1238606545</td>\n",
       "      <td>I386</td>\n",
       "      <td>[CHARA_32BIT_MACHINE, RELOCS_STRIPPED, EXECUTA...</td>\n",
       "    </tr>\n",
       "    <tr>\n",
       "      <th>3862</th>\n",
       "      <td>1074714471</td>\n",
       "      <td>I386</td>\n",
       "      <td>[CHARA_32BIT_MACHINE, RELOCS_STRIPPED, EXECUTA...</td>\n",
       "    </tr>\n",
       "    <tr>\n",
       "      <th>3863</th>\n",
       "      <td>1211073481</td>\n",
       "      <td>I386</td>\n",
       "      <td>[CHARA_32BIT_MACHINE, RELOCS_STRIPPED, EXECUTA...</td>\n",
       "    </tr>\n",
       "  </tbody>\n",
       "</table>\n",
       "<p>3864 rows × 3 columns</p>\n",
       "</div>"
      ],
      "text/plain": [
       "      header_coff_timestamp header_coff_machine  \\\n",
       "0                1301832471                I386   \n",
       "1                1511340343                I386   \n",
       "2                1510798547                I386   \n",
       "3                1514434785                I386   \n",
       "4                 708992537                I386   \n",
       "...                     ...                 ...   \n",
       "3859              982600987                I386   \n",
       "3860             1005228158                I386   \n",
       "3861             1238606545                I386   \n",
       "3862             1074714471                I386   \n",
       "3863             1211073481                I386   \n",
       "\n",
       "                            header_coff_characteristics  \n",
       "0     [CHARA_32BIT_MACHINE, RELOCS_STRIPPED, EXECUTA...  \n",
       "1               [CHARA_32BIT_MACHINE, EXECUTABLE_IMAGE]  \n",
       "2     [CHARA_32BIT_MACHINE, RELOCS_STRIPPED, EXECUTA...  \n",
       "3     [CHARA_32BIT_MACHINE, RELOCS_STRIPPED, EXECUTA...  \n",
       "4     [CHARA_32BIT_MACHINE, BYTES_REVERSED_LO, EXECU...  \n",
       "...                                                 ...  \n",
       "3859  [CHARA_32BIT_MACHINE, RELOCS_STRIPPED, EXECUTA...  \n",
       "3860  [LOCAL_SYMS_STRIPPED, CHARA_32BIT_MACHINE, EXE...  \n",
       "3861  [CHARA_32BIT_MACHINE, RELOCS_STRIPPED, EXECUTA...  \n",
       "3862  [CHARA_32BIT_MACHINE, RELOCS_STRIPPED, EXECUTA...  \n",
       "3863  [CHARA_32BIT_MACHINE, RELOCS_STRIPPED, EXECUTA...  \n",
       "\n",
       "[3864 rows x 3 columns]"
      ]
     },
     "execution_count": 26,
     "metadata": {},
     "output_type": "execute_result"
    }
   ],
   "source": [
    "df_r[df_r.columns[df_r.columns.str.contains('coff')]]"
   ]
  },
  {
   "cell_type": "code",
   "execution_count": 27,
   "id": "least-support",
   "metadata": {},
   "outputs": [],
   "source": [
    "drop = ['header_coff_characteristics','header_optional_dll_characteristics']"
   ]
  },
  {
   "cell_type": "code",
   "execution_count": 28,
   "id": "excited-organizer",
   "metadata": {},
   "outputs": [],
   "source": [
    "encode = ['header_coff_machine','header_optional_subsystem','header_optional_magic']"
   ]
  },
  {
   "cell_type": "markdown",
   "id": "eastern-guess",
   "metadata": {},
   "source": [
    "### Variable: 'header_coff_machine' & 'header_coff_timestamp"
   ]
  },
  {
   "cell_type": "code",
   "execution_count": 29,
   "id": "reliable-robin",
   "metadata": {},
   "outputs": [
    {
     "data": {
      "text/plain": [
       "<Figure size 432x288 with 0 Axes>"
      ]
     },
     "metadata": {},
     "output_type": "display_data"
    },
    {
     "data": {
      "image/png": "[encoded data removed]",
      "text/plain": [
       "<Figure size 576x432 with 1 Axes>"
      ]
     },
     "metadata": {
      "needs_background": "light"
     },
     "output_type": "display_data"
    },
    {
     "name": "stdout",
     "output_type": "stream",
     "text": [
      "chi_2 statistic: 180.16\n",
      "p_value: 0.00\n",
      "significant level 0.05\n",
      "Reject H0, variables have dependency\n"
     ]
    }
   ],
   "source": [
    "plot_chi(df_r,'header_coff_machine')"
   ]
  },
  {
   "cell_type": "code",
   "execution_count": 30,
   "id": "adaptive-conspiracy",
   "metadata": {},
   "outputs": [
    {
     "data": {
      "text/plain": [
       "<Figure size 432x288 with 0 Axes>"
      ]
     },
     "metadata": {},
     "output_type": "display_data"
    },
    {
     "data": {
      "text/plain": [
       "<Figure size 576x432 with 0 Axes>"
      ]
     },
     "metadata": {},
     "output_type": "display_data"
    },
    {
     "data": {
      "image/png": "[encoded data removed]",
      "text/plain": [
       "<Figure size 402.375x360 with 1 Axes>"
      ]
     },
     "metadata": {
      "needs_background": "light"
     },
     "output_type": "display_data"
    }
   ],
   "source": [
    "plot_histogram(df_r,'header_coff_timestamp', False)"
   ]
  },
  {
   "cell_type": "code",
   "execution_count": 31,
   "id": "municipal-consensus",
   "metadata": {},
   "outputs": [
    {
     "data": {
      "text/plain": [
       "PointbiserialrResult(correlation=0.09014631079273476, pvalue=1.9860704949640037e-08)"
      ]
     },
     "execution_count": 31,
     "metadata": {},
     "output_type": "execute_result"
    }
   ],
   "source": [
    "stats.pointbiserialr(df_r['label'],df_r['header_coff_timestamp'])"
   ]
  },
  {
   "cell_type": "markdown",
   "id": "secure-warner",
   "metadata": {},
   "source": [
    "#### Conclusions: coff_machine is corelated with label, coff_timestamp is not corelated with label, to be confirmed with SME"
   ]
  },
  {
   "cell_type": "code",
   "execution_count": 124,
   "id": "earlier-lloyd",
   "metadata": {},
   "outputs": [
    {
     "data": {
      "text/plain": [
       "<seaborn.axisgrid.FacetGrid at 0x7f8fd216d310>"
      ]
     },
     "execution_count": 124,
     "metadata": {},
     "output_type": "execute_result"
    },
    {
     "data": {
      "image/png": "[encoded data removed]",
      "text/plain": [
       "<Figure size 360x360 with 1 Axes>"
      ]
     },
     "metadata": {
      "needs_background": "light"
     },
     "output_type": "display_data"
    }
   ],
   "source": [
    "sns.catplot(x=\"label\", y=\"header_coff_timestamp\", data=df_r,kind=\"box\")"
   ]
  },
  {
   "cell_type": "code",
   "execution_count": 125,
   "id": "cleared-ethiopia",
   "metadata": {},
   "outputs": [
    {
     "data": {
      "text/plain": [
       "<seaborn.axisgrid.FacetGrid at 0x7f8f8090ae10>"
      ]
     },
     "execution_count": 125,
     "metadata": {},
     "output_type": "execute_result"
    },
    {
     "data": {
      "image/png": "[encoded data removed]",
      "text/plain": [
       "<Figure size 360x360 with 1 Axes>"
      ]
     },
     "metadata": {
      "needs_background": "light"
     },
     "output_type": "display_data"
    }
   ],
   "source": [
    "sns.catplot(x=\"label\", y=\"header_coff_timestamp\", data=df_r)"
   ]
  },
  {
   "cell_type": "code",
   "execution_count": null,
   "id": "adjustable-virus",
   "metadata": {},
   "outputs": [],
   "source": []
  },
  {
   "cell_type": "markdown",
   "id": "oriented-profile",
   "metadata": {},
   "source": [
    "### Variables: Optional"
   ]
  },
  {
   "cell_type": "code",
   "execution_count": 32,
   "id": "extraordinary-heater",
   "metadata": {
    "scrolled": true
   },
   "outputs": [
    {
     "data": {
      "text/html": [
       "<div>\n",
       "<style scoped>\n",
       "    .dataframe tbody tr th:only-of-type {\n",
       "        vertical-align: middle;\n",
       "    }\n",
       "\n",
       "    .dataframe tbody tr th {\n",
       "        vertical-align: top;\n",
       "    }\n",
       "\n",
       "    .dataframe thead th {\n",
       "        text-align: right;\n",
       "    }\n",
       "</style>\n",
       "<table border=\"1\" class=\"dataframe\">\n",
       "  <thead>\n",
       "    <tr style=\"text-align: right;\">\n",
       "      <th></th>\n",
       "      <th>header_optional_subsystem</th>\n",
       "      <th>header_optional_dll_characteristics</th>\n",
       "      <th>header_optional_magic</th>\n",
       "      <th>header_optional_major_image_version</th>\n",
       "      <th>header_optional_minor_image_version</th>\n",
       "      <th>header_optional_major_linker_version</th>\n",
       "      <th>header_optional_minor_linker_version</th>\n",
       "      <th>header_optional_major_operating_system_version</th>\n",
       "      <th>header_optional_minor_operating_system_version</th>\n",
       "      <th>header_optional_major_subsystem_version</th>\n",
       "      <th>header_optional_minor_subsystem_version</th>\n",
       "    </tr>\n",
       "  </thead>\n",
       "  <tbody>\n",
       "    <tr>\n",
       "      <th>0</th>\n",
       "      <td>WINDOWS_GUI</td>\n",
       "      <td>[]</td>\n",
       "      <td>PE32</td>\n",
       "      <td>0</td>\n",
       "      <td>0</td>\n",
       "      <td>2</td>\n",
       "      <td>50</td>\n",
       "      <td>4</td>\n",
       "      <td>0</td>\n",
       "      <td>4</td>\n",
       "      <td>0</td>\n",
       "    </tr>\n",
       "    <tr>\n",
       "      <th>1</th>\n",
       "      <td>WINDOWS_GUI</td>\n",
       "      <td>[DYNAMIC_BASE, NX_COMPAT, TERMINAL_SERVER_AWARE]</td>\n",
       "      <td>PE32</td>\n",
       "      <td>0</td>\n",
       "      <td>0</td>\n",
       "      <td>14</td>\n",
       "      <td>11</td>\n",
       "      <td>5</td>\n",
       "      <td>1</td>\n",
       "      <td>5</td>\n",
       "      <td>1</td>\n",
       "    </tr>\n",
       "    <tr>\n",
       "      <th>2</th>\n",
       "      <td>WINDOWS_GUI</td>\n",
       "      <td>[NX_COMPAT, TERMINAL_SERVER_AWARE]</td>\n",
       "      <td>PE32</td>\n",
       "      <td>0</td>\n",
       "      <td>0</td>\n",
       "      <td>10</td>\n",
       "      <td>0</td>\n",
       "      <td>5</td>\n",
       "      <td>1</td>\n",
       "      <td>5</td>\n",
       "      <td>1</td>\n",
       "    </tr>\n",
       "    <tr>\n",
       "      <th>3</th>\n",
       "      <td>WINDOWS_GUI</td>\n",
       "      <td>[]</td>\n",
       "      <td>PE32</td>\n",
       "      <td>0</td>\n",
       "      <td>0</td>\n",
       "      <td>5</td>\n",
       "      <td>12</td>\n",
       "      <td>4</td>\n",
       "      <td>0</td>\n",
       "      <td>4</td>\n",
       "      <td>0</td>\n",
       "    </tr>\n",
       "    <tr>\n",
       "      <th>4</th>\n",
       "      <td>WINDOWS_GUI</td>\n",
       "      <td>[]</td>\n",
       "      <td>PE32</td>\n",
       "      <td>0</td>\n",
       "      <td>0</td>\n",
       "      <td>2</td>\n",
       "      <td>25</td>\n",
       "      <td>4</td>\n",
       "      <td>0</td>\n",
       "      <td>4</td>\n",
       "      <td>0</td>\n",
       "    </tr>\n",
       "    <tr>\n",
       "      <th>...</th>\n",
       "      <td>...</td>\n",
       "      <td>...</td>\n",
       "      <td>...</td>\n",
       "      <td>...</td>\n",
       "      <td>...</td>\n",
       "      <td>...</td>\n",
       "      <td>...</td>\n",
       "      <td>...</td>\n",
       "      <td>...</td>\n",
       "      <td>...</td>\n",
       "      <td>...</td>\n",
       "    </tr>\n",
       "    <tr>\n",
       "      <th>3859</th>\n",
       "      <td>WINDOWS_GUI</td>\n",
       "      <td>[]</td>\n",
       "      <td>PE32</td>\n",
       "      <td>0</td>\n",
       "      <td>0</td>\n",
       "      <td>6</td>\n",
       "      <td>0</td>\n",
       "      <td>4</td>\n",
       "      <td>0</td>\n",
       "      <td>4</td>\n",
       "      <td>0</td>\n",
       "    </tr>\n",
       "    <tr>\n",
       "      <th>3860</th>\n",
       "      <td>WINDOWS_GUI</td>\n",
       "      <td>[]</td>\n",
       "      <td>PE32</td>\n",
       "      <td>0</td>\n",
       "      <td>0</td>\n",
       "      <td>6</td>\n",
       "      <td>0</td>\n",
       "      <td>4</td>\n",
       "      <td>0</td>\n",
       "      <td>4</td>\n",
       "      <td>0</td>\n",
       "    </tr>\n",
       "    <tr>\n",
       "      <th>3861</th>\n",
       "      <td>WINDOWS_GUI</td>\n",
       "      <td>[TERMINAL_SERVER_AWARE]</td>\n",
       "      <td>PE32</td>\n",
       "      <td>0</td>\n",
       "      <td>0</td>\n",
       "      <td>9</td>\n",
       "      <td>0</td>\n",
       "      <td>5</td>\n",
       "      <td>0</td>\n",
       "      <td>5</td>\n",
       "      <td>0</td>\n",
       "    </tr>\n",
       "    <tr>\n",
       "      <th>3862</th>\n",
       "      <td>WINDOWS_GUI</td>\n",
       "      <td>[]</td>\n",
       "      <td>PE32</td>\n",
       "      <td>0</td>\n",
       "      <td>0</td>\n",
       "      <td>6</td>\n",
       "      <td>0</td>\n",
       "      <td>4</td>\n",
       "      <td>0</td>\n",
       "      <td>4</td>\n",
       "      <td>0</td>\n",
       "    </tr>\n",
       "    <tr>\n",
       "      <th>3863</th>\n",
       "      <td>WINDOWS_GUI</td>\n",
       "      <td>[]</td>\n",
       "      <td>PE32</td>\n",
       "      <td>1</td>\n",
       "      <td>0</td>\n",
       "      <td>2</td>\n",
       "      <td>55</td>\n",
       "      <td>4</td>\n",
       "      <td>0</td>\n",
       "      <td>4</td>\n",
       "      <td>0</td>\n",
       "    </tr>\n",
       "  </tbody>\n",
       "</table>\n",
       "<p>3864 rows × 11 columns</p>\n",
       "</div>"
      ],
      "text/plain": [
       "     header_optional_subsystem  \\\n",
       "0                  WINDOWS_GUI   \n",
       "1                  WINDOWS_GUI   \n",
       "2                  WINDOWS_GUI   \n",
       "3                  WINDOWS_GUI   \n",
       "4                  WINDOWS_GUI   \n",
       "...                        ...   \n",
       "3859               WINDOWS_GUI   \n",
       "3860               WINDOWS_GUI   \n",
       "3861               WINDOWS_GUI   \n",
       "3862               WINDOWS_GUI   \n",
       "3863               WINDOWS_GUI   \n",
       "\n",
       "                   header_optional_dll_characteristics header_optional_magic  \\\n",
       "0                                                   []                  PE32   \n",
       "1     [DYNAMIC_BASE, NX_COMPAT, TERMINAL_SERVER_AWARE]                  PE32   \n",
       "2                   [NX_COMPAT, TERMINAL_SERVER_AWARE]                  PE32   \n",
       "3                                                   []                  PE32   \n",
       "4                                                   []                  PE32   \n",
       "...                                                ...                   ...   \n",
       "3859                                                []                  PE32   \n",
       "3860                                                []                  PE32   \n",
       "3861                           [TERMINAL_SERVER_AWARE]                  PE32   \n",
       "3862                                                []                  PE32   \n",
       "3863                                                []                  PE32   \n",
       "\n",
       "      header_optional_major_image_version  \\\n",
       "0                                       0   \n",
       "1                                       0   \n",
       "2                                       0   \n",
       "3                                       0   \n",
       "4                                       0   \n",
       "...                                   ...   \n",
       "3859                                    0   \n",
       "3860                                    0   \n",
       "3861                                    0   \n",
       "3862                                    0   \n",
       "3863                                    1   \n",
       "\n",
       "      header_optional_minor_image_version  \\\n",
       "0                                       0   \n",
       "1                                       0   \n",
       "2                                       0   \n",
       "3                                       0   \n",
       "4                                       0   \n",
       "...                                   ...   \n",
       "3859                                    0   \n",
       "3860                                    0   \n",
       "3861                                    0   \n",
       "3862                                    0   \n",
       "3863                                    0   \n",
       "\n",
       "      header_optional_major_linker_version  \\\n",
       "0                                        2   \n",
       "1                                       14   \n",
       "2                                       10   \n",
       "3                                        5   \n",
       "4                                        2   \n",
       "...                                    ...   \n",
       "3859                                     6   \n",
       "3860                                     6   \n",
       "3861                                     9   \n",
       "3862                                     6   \n",
       "3863                                     2   \n",
       "\n",
       "      header_optional_minor_linker_version  \\\n",
       "0                                       50   \n",
       "1                                       11   \n",
       "2                                        0   \n",
       "3                                       12   \n",
       "4                                       25   \n",
       "...                                    ...   \n",
       "3859                                     0   \n",
       "3860                                     0   \n",
       "3861                                     0   \n",
       "3862                                     0   \n",
       "3863                                    55   \n",
       "\n",
       "      header_optional_major_operating_system_version  \\\n",
       "0                                                  4   \n",
       "1                                                  5   \n",
       "2                                                  5   \n",
       "3                                                  4   \n",
       "4                                                  4   \n",
       "...                                              ...   \n",
       "3859                                               4   \n",
       "3860                                               4   \n",
       "3861                                               5   \n",
       "3862                                               4   \n",
       "3863                                               4   \n",
       "\n",
       "      header_optional_minor_operating_system_version  \\\n",
       "0                                                  0   \n",
       "1                                                  1   \n",
       "2                                                  1   \n",
       "3                                                  0   \n",
       "4                                                  0   \n",
       "...                                              ...   \n",
       "3859                                               0   \n",
       "3860                                               0   \n",
       "3861                                               0   \n",
       "3862                                               0   \n",
       "3863                                               0   \n",
       "\n",
       "      header_optional_major_subsystem_version  \\\n",
       "0                                           4   \n",
       "1                                           5   \n",
       "2                                           5   \n",
       "3                                           4   \n",
       "4                                           4   \n",
       "...                                       ...   \n",
       "3859                                        4   \n",
       "3860                                        4   \n",
       "3861                                        5   \n",
       "3862                                        4   \n",
       "3863                                        4   \n",
       "\n",
       "      header_optional_minor_subsystem_version  \n",
       "0                                           0  \n",
       "1                                           1  \n",
       "2                                           1  \n",
       "3                                           0  \n",
       "4                                           0  \n",
       "...                                       ...  \n",
       "3859                                        0  \n",
       "3860                                        0  \n",
       "3861                                        0  \n",
       "3862                                        0  \n",
       "3863                                        0  \n",
       "\n",
       "[3864 rows x 11 columns]"
      ]
     },
     "execution_count": 32,
     "metadata": {},
     "output_type": "execute_result"
    }
   ],
   "source": [
    "df_r[df_r.columns[df_r.columns.str.contains('optional')]]"
   ]
  },
  {
   "cell_type": "code",
   "execution_count": 33,
   "id": "aquatic-raleigh",
   "metadata": {},
   "outputs": [
    {
     "data": {
      "text/plain": [
       "<Figure size 432x288 with 0 Axes>"
      ]
     },
     "metadata": {},
     "output_type": "display_data"
    },
    {
     "data": {
      "image/png": "[encoded data removed]",
      "text/plain": [
       "<Figure size 576x432 with 1 Axes>"
      ]
     },
     "metadata": {
      "needs_background": "light"
     },
     "output_type": "display_data"
    },
    {
     "name": "stdout",
     "output_type": "stream",
     "text": [
      "chi_2 statistic: 407.33\n",
      "p_value: 0.00\n",
      "significant level 0.05\n",
      "Reject H0, variables have dependency\n"
     ]
    }
   ],
   "source": [
    "plot_chi(df_r,'header_optional_subsystem')"
   ]
  },
  {
   "cell_type": "code",
   "execution_count": 34,
   "id": "grand-approval",
   "metadata": {},
   "outputs": [
    {
     "data": {
      "text/plain": [
       "<Figure size 432x288 with 0 Axes>"
      ]
     },
     "metadata": {},
     "output_type": "display_data"
    },
    {
     "data": {
      "image/png": "[encoded data removed]",
      "text/plain": [
       "<Figure size 576x432 with 1 Axes>"
      ]
     },
     "metadata": {
      "needs_background": "light"
     },
     "output_type": "display_data"
    },
    {
     "name": "stdout",
     "output_type": "stream",
     "text": [
      "chi_2 statistic: 173.86\n",
      "p_value: 0.00\n",
      "significant level 0.05\n",
      "Reject H0, variables have dependency\n"
     ]
    }
   ],
   "source": [
    "plot_chi(df_r, 'header_optional_magic')"
   ]
  },
  {
   "cell_type": "code",
   "execution_count": 35,
   "id": "attractive-tours",
   "metadata": {},
   "outputs": [
    {
     "data": {
      "text/plain": [
       "<Figure size 432x288 with 0 Axes>"
      ]
     },
     "metadata": {},
     "output_type": "display_data"
    },
    {
     "data": {
      "image/png": "[encoded data removed]",
      "text/plain": [
       "<Figure size 576x432 with 1 Axes>"
      ]
     },
     "metadata": {
      "needs_background": "light"
     },
     "output_type": "display_data"
    },
    {
     "name": "stdout",
     "output_type": "stream",
     "text": [
      "chi_2 statistic: 407.33\n",
      "p_value: 0.00\n",
      "significant level 0.05\n",
      "Reject H0, variables have dependency\n"
     ]
    },
    {
     "data": {
      "text/plain": [
       "<Figure size 432x288 with 0 Axes>"
      ]
     },
     "metadata": {},
     "output_type": "display_data"
    },
    {
     "data": {
      "image/png": "[encoded data removed]",
      "text/plain": [
       "<Figure size 576x432 with 1 Axes>"
      ]
     },
     "metadata": {
      "needs_background": "light"
     },
     "output_type": "display_data"
    },
    {
     "name": "stdout",
     "output_type": "stream",
     "text": [
      "chi_2 statistic: 173.86\n",
      "p_value: 0.00\n",
      "significant level 0.05\n",
      "Reject H0, variables have dependency\n"
     ]
    },
    {
     "data": {
      "text/plain": [
       "<Figure size 432x288 with 0 Axes>"
      ]
     },
     "metadata": {},
     "output_type": "display_data"
    },
    {
     "data": {
      "image/png": "[encoded data removed]",
      "text/plain": [
       "<Figure size 576x432 with 1 Axes>"
      ]
     },
     "metadata": {
      "needs_background": "light"
     },
     "output_type": "display_data"
    },
    {
     "name": "stdout",
     "output_type": "stream",
     "text": [
      "chi_2 statistic: 280.25\n",
      "p_value: 0.00\n",
      "significant level 0.05\n",
      "Reject H0, variables have dependency\n"
     ]
    },
    {
     "data": {
      "text/plain": [
       "<Figure size 432x288 with 0 Axes>"
      ]
     },
     "metadata": {},
     "output_type": "display_data"
    },
    {
     "data": {
      "image/png": "[encoded data removed]",
      "text/plain": [
       "<Figure size 576x432 with 1 Axes>"
      ]
     },
     "metadata": {
      "needs_background": "light"
     },
     "output_type": "display_data"
    },
    {
     "name": "stdout",
     "output_type": "stream",
     "text": [
      "chi_2 statistic: 59.81\n",
      "p_value: 0.00\n",
      "significant level 0.05\n",
      "Reject H0, variables have dependency\n"
     ]
    },
    {
     "data": {
      "text/plain": [
       "<Figure size 432x288 with 0 Axes>"
      ]
     },
     "metadata": {},
     "output_type": "display_data"
    },
    {
     "data": {
      "image/png": "[encoded data removed]",
      "text/plain": [
       "<Figure size 576x432 with 1 Axes>"
      ]
     },
     "metadata": {
      "needs_background": "light"
     },
     "output_type": "display_data"
    },
    {
     "name": "stdout",
     "output_type": "stream",
     "text": [
      "chi_2 statistic: 414.20\n",
      "p_value: 0.00\n",
      "significant level 0.05\n",
      "Reject H0, variables have dependency\n"
     ]
    },
    {
     "data": {
      "text/plain": [
       "<Figure size 432x288 with 0 Axes>"
      ]
     },
     "metadata": {},
     "output_type": "display_data"
    },
    {
     "data": {
      "image/png": "[encoded data removed]",
      "text/plain": [
       "<Figure size 576x432 with 1 Axes>"
      ]
     },
     "metadata": {
      "needs_background": "light"
     },
     "output_type": "display_data"
    },
    {
     "name": "stdout",
     "output_type": "stream",
     "text": [
      "chi_2 statistic: 478.85\n",
      "p_value: 0.00\n",
      "significant level 0.05\n",
      "Reject H0, variables have dependency\n"
     ]
    },
    {
     "data": {
      "text/plain": [
       "<Figure size 432x288 with 0 Axes>"
      ]
     },
     "metadata": {},
     "output_type": "display_data"
    },
    {
     "data": {
      "image/png": "[encoded data removed]",
      "text/plain": [
       "<Figure size 576x432 with 1 Axes>"
      ]
     },
     "metadata": {
      "needs_background": "light"
     },
     "output_type": "display_data"
    },
    {
     "name": "stdout",
     "output_type": "stream",
     "text": [
      "chi_2 statistic: 371.34\n",
      "p_value: 0.00\n",
      "significant level 0.05\n",
      "Reject H0, variables have dependency\n"
     ]
    },
    {
     "data": {
      "text/plain": [
       "<Figure size 432x288 with 0 Axes>"
      ]
     },
     "metadata": {},
     "output_type": "display_data"
    },
    {
     "data": {
      "image/png": "[encoded data removed]",
      "text/plain": [
       "<Figure size 576x432 with 1 Axes>"
      ]
     },
     "metadata": {
      "needs_background": "light"
     },
     "output_type": "display_data"
    },
    {
     "name": "stdout",
     "output_type": "stream",
     "text": [
      "chi_2 statistic: 141.77\n",
      "p_value: 0.00\n",
      "significant level 0.05\n",
      "Reject H0, variables have dependency\n"
     ]
    },
    {
     "data": {
      "text/plain": [
       "<Figure size 432x288 with 0 Axes>"
      ]
     },
     "metadata": {},
     "output_type": "display_data"
    },
    {
     "data": {
      "image/png": "[encoded data removed]",
      "text/plain": [
       "<Figure size 576x432 with 1 Axes>"
      ]
     },
     "metadata": {
      "needs_background": "light"
     },
     "output_type": "display_data"
    },
    {
     "name": "stdout",
     "output_type": "stream",
     "text": [
      "chi_2 statistic: 312.99\n",
      "p_value: 0.00\n",
      "significant level 0.05\n",
      "Reject H0, variables have dependency\n"
     ]
    },
    {
     "data": {
      "text/plain": [
       "<Figure size 432x288 with 0 Axes>"
      ]
     },
     "metadata": {},
     "output_type": "display_data"
    },
    {
     "data": {
      "image/png": "[encoded data removed]",
      "text/plain": [
       "<Figure size 576x432 with 1 Axes>"
      ]
     },
     "metadata": {
      "needs_background": "light"
     },
     "output_type": "display_data"
    },
    {
     "name": "stdout",
     "output_type": "stream",
     "text": [
      "chi_2 statistic: 188.03\n",
      "p_value: 0.00\n",
      "significant level 0.05\n",
      "Reject H0, variables have dependency\n"
     ]
    }
   ],
   "source": [
    "for col in df_r.columns[df_r.columns.str.contains('optional')]:\n",
    "    if col != 'header_optional_dll_characteristics':\n",
    "        plot_chi(df_r, col)\n",
    "    \n",
    "    "
   ]
  },
  {
   "cell_type": "code",
   "execution_count": 45,
   "id": "ongoing-detroit",
   "metadata": {},
   "outputs": [],
   "source": [
    "corr = df_r[['header_optional_major_image_version',\n",
    "       'header_optional_minor_image_version',\n",
    "       'header_optional_major_linker_version',\n",
    "       'header_optional_minor_linker_version',\n",
    "       'header_optional_major_operating_system_version',\n",
    "       'header_optional_minor_operating_system_version',\n",
    "       'header_optional_major_subsystem_version',\n",
    "       'header_optional_minor_subsystem_version']]"
   ]
  },
  {
   "cell_type": "code",
   "execution_count": 44,
   "id": "assisted-tours",
   "metadata": {},
   "outputs": [
    {
     "data": {
      "text/html": [
       "<div>\n",
       "<style scoped>\n",
       "    .dataframe tbody tr th:only-of-type {\n",
       "        vertical-align: middle;\n",
       "    }\n",
       "\n",
       "    .dataframe tbody tr th {\n",
       "        vertical-align: top;\n",
       "    }\n",
       "\n",
       "    .dataframe thead th {\n",
       "        text-align: right;\n",
       "    }\n",
       "</style>\n",
       "<table border=\"1\" class=\"dataframe\">\n",
       "  <thead>\n",
       "    <tr style=\"text-align: right;\">\n",
       "      <th></th>\n",
       "      <th>header_optional_major_image_version</th>\n",
       "      <th>header_optional_minor_image_version</th>\n",
       "      <th>header_optional_major_linker_version</th>\n",
       "      <th>header_optional_minor_linker_version</th>\n",
       "      <th>header_optional_major_operating_system_version</th>\n",
       "      <th>header_optional_minor_operating_system_version</th>\n",
       "      <th>header_optional_major_subsystem_version</th>\n",
       "      <th>header_optional_minor_subsystem_version</th>\n",
       "    </tr>\n",
       "  </thead>\n",
       "  <tbody>\n",
       "    <tr>\n",
       "      <th>header_optional_major_image_version</th>\n",
       "      <td>1.000000</td>\n",
       "      <td>0.848727</td>\n",
       "      <td>NaN</td>\n",
       "      <td>NaN</td>\n",
       "      <td>NaN</td>\n",
       "      <td>NaN</td>\n",
       "      <td>NaN</td>\n",
       "      <td>NaN</td>\n",
       "    </tr>\n",
       "    <tr>\n",
       "      <th>header_optional_minor_image_version</th>\n",
       "      <td>0.848727</td>\n",
       "      <td>1.000000</td>\n",
       "      <td>NaN</td>\n",
       "      <td>NaN</td>\n",
       "      <td>NaN</td>\n",
       "      <td>NaN</td>\n",
       "      <td>NaN</td>\n",
       "      <td>NaN</td>\n",
       "    </tr>\n",
       "    <tr>\n",
       "      <th>header_optional_major_linker_version</th>\n",
       "      <td>NaN</td>\n",
       "      <td>NaN</td>\n",
       "      <td>1.0</td>\n",
       "      <td>NaN</td>\n",
       "      <td>NaN</td>\n",
       "      <td>NaN</td>\n",
       "      <td>NaN</td>\n",
       "      <td>NaN</td>\n",
       "    </tr>\n",
       "    <tr>\n",
       "      <th>header_optional_minor_linker_version</th>\n",
       "      <td>NaN</td>\n",
       "      <td>NaN</td>\n",
       "      <td>NaN</td>\n",
       "      <td>1.0</td>\n",
       "      <td>NaN</td>\n",
       "      <td>NaN</td>\n",
       "      <td>NaN</td>\n",
       "      <td>NaN</td>\n",
       "    </tr>\n",
       "    <tr>\n",
       "      <th>header_optional_major_operating_system_version</th>\n",
       "      <td>NaN</td>\n",
       "      <td>NaN</td>\n",
       "      <td>NaN</td>\n",
       "      <td>NaN</td>\n",
       "      <td>1.000000</td>\n",
       "      <td>NaN</td>\n",
       "      <td>0.748724</td>\n",
       "      <td>NaN</td>\n",
       "    </tr>\n",
       "    <tr>\n",
       "      <th>header_optional_minor_operating_system_version</th>\n",
       "      <td>NaN</td>\n",
       "      <td>NaN</td>\n",
       "      <td>NaN</td>\n",
       "      <td>NaN</td>\n",
       "      <td>NaN</td>\n",
       "      <td>1.0</td>\n",
       "      <td>NaN</td>\n",
       "      <td>NaN</td>\n",
       "    </tr>\n",
       "    <tr>\n",
       "      <th>header_optional_major_subsystem_version</th>\n",
       "      <td>NaN</td>\n",
       "      <td>NaN</td>\n",
       "      <td>NaN</td>\n",
       "      <td>NaN</td>\n",
       "      <td>0.748724</td>\n",
       "      <td>NaN</td>\n",
       "      <td>1.000000</td>\n",
       "      <td>NaN</td>\n",
       "    </tr>\n",
       "    <tr>\n",
       "      <th>header_optional_minor_subsystem_version</th>\n",
       "      <td>NaN</td>\n",
       "      <td>NaN</td>\n",
       "      <td>NaN</td>\n",
       "      <td>NaN</td>\n",
       "      <td>NaN</td>\n",
       "      <td>NaN</td>\n",
       "      <td>NaN</td>\n",
       "      <td>1.0</td>\n",
       "    </tr>\n",
       "  </tbody>\n",
       "</table>\n",
       "</div>"
      ],
      "text/plain": [
       "                                                header_optional_major_image_version  \\\n",
       "header_optional_major_image_version                                        1.000000   \n",
       "header_optional_minor_image_version                                        0.848727   \n",
       "header_optional_major_linker_version                                            NaN   \n",
       "header_optional_minor_linker_version                                            NaN   \n",
       "header_optional_major_operating_system_version                                  NaN   \n",
       "header_optional_minor_operating_system_version                                  NaN   \n",
       "header_optional_major_subsystem_version                                         NaN   \n",
       "header_optional_minor_subsystem_version                                         NaN   \n",
       "\n",
       "                                                header_optional_minor_image_version  \\\n",
       "header_optional_major_image_version                                        0.848727   \n",
       "header_optional_minor_image_version                                        1.000000   \n",
       "header_optional_major_linker_version                                            NaN   \n",
       "header_optional_minor_linker_version                                            NaN   \n",
       "header_optional_major_operating_system_version                                  NaN   \n",
       "header_optional_minor_operating_system_version                                  NaN   \n",
       "header_optional_major_subsystem_version                                         NaN   \n",
       "header_optional_minor_subsystem_version                                         NaN   \n",
       "\n",
       "                                                header_optional_major_linker_version  \\\n",
       "header_optional_major_image_version                                              NaN   \n",
       "header_optional_minor_image_version                                              NaN   \n",
       "header_optional_major_linker_version                                             1.0   \n",
       "header_optional_minor_linker_version                                             NaN   \n",
       "header_optional_major_operating_system_version                                   NaN   \n",
       "header_optional_minor_operating_system_version                                   NaN   \n",
       "header_optional_major_subsystem_version                                          NaN   \n",
       "header_optional_minor_subsystem_version                                          NaN   \n",
       "\n",
       "                                                header_optional_minor_linker_version  \\\n",
       "header_optional_major_image_version                                              NaN   \n",
       "header_optional_minor_image_version                                              NaN   \n",
       "header_optional_major_linker_version                                             NaN   \n",
       "header_optional_minor_linker_version                                             1.0   \n",
       "header_optional_major_operating_system_version                                   NaN   \n",
       "header_optional_minor_operating_system_version                                   NaN   \n",
       "header_optional_major_subsystem_version                                          NaN   \n",
       "header_optional_minor_subsystem_version                                          NaN   \n",
       "\n",
       "                                                header_optional_major_operating_system_version  \\\n",
       "header_optional_major_image_version                                                        NaN   \n",
       "header_optional_minor_image_version                                                        NaN   \n",
       "header_optional_major_linker_version                                                       NaN   \n",
       "header_optional_minor_linker_version                                                       NaN   \n",
       "header_optional_major_operating_system_version                                        1.000000   \n",
       "header_optional_minor_operating_system_version                                             NaN   \n",
       "header_optional_major_subsystem_version                                               0.748724   \n",
       "header_optional_minor_subsystem_version                                                    NaN   \n",
       "\n",
       "                                                header_optional_minor_operating_system_version  \\\n",
       "header_optional_major_image_version                                                        NaN   \n",
       "header_optional_minor_image_version                                                        NaN   \n",
       "header_optional_major_linker_version                                                       NaN   \n",
       "header_optional_minor_linker_version                                                       NaN   \n",
       "header_optional_major_operating_system_version                                             NaN   \n",
       "header_optional_minor_operating_system_version                                             1.0   \n",
       "header_optional_major_subsystem_version                                                    NaN   \n",
       "header_optional_minor_subsystem_version                                                    NaN   \n",
       "\n",
       "                                                header_optional_major_subsystem_version  \\\n",
       "header_optional_major_image_version                                                 NaN   \n",
       "header_optional_minor_image_version                                                 NaN   \n",
       "header_optional_major_linker_version                                                NaN   \n",
       "header_optional_minor_linker_version                                                NaN   \n",
       "header_optional_major_operating_system_version                                 0.748724   \n",
       "header_optional_minor_operating_system_version                                      NaN   \n",
       "header_optional_major_subsystem_version                                        1.000000   \n",
       "header_optional_minor_subsystem_version                                             NaN   \n",
       "\n",
       "                                                header_optional_minor_subsystem_version  \n",
       "header_optional_major_image_version                                                 NaN  \n",
       "header_optional_minor_image_version                                                 NaN  \n",
       "header_optional_major_linker_version                                                NaN  \n",
       "header_optional_minor_linker_version                                                NaN  \n",
       "header_optional_major_operating_system_version                                      NaN  \n",
       "header_optional_minor_operating_system_version                                      NaN  \n",
       "header_optional_major_subsystem_version                                             NaN  \n",
       "header_optional_minor_subsystem_version                                             1.0  "
      ]
     },
     "execution_count": 44,
     "metadata": {},
     "output_type": "execute_result"
    }
   ],
   "source": []
  },
  {
   "cell_type": "code",
   "execution_count": null,
   "id": "written-connecticut",
   "metadata": {},
   "outputs": [],
   "source": []
  },
  {
   "cell_type": "markdown",
   "id": "choice-input",
   "metadata": {},
   "source": [
    "#### Conclusion: All optional columns are corelated with label"
   ]
  },
  {
   "cell_type": "markdown",
   "id": "loaded-munich",
   "metadata": {},
   "source": [
    "### Summary"
   ]
  },
  {
   "cell_type": "code",
   "execution_count": 136,
   "id": "identified-cigarette",
   "metadata": {},
   "outputs": [],
   "source": [
    "drop = ['header_coff_characteristics','header_optional_dll_characteristics','header_coff_timestamp']"
   ]
  },
  {
   "cell_type": "code",
   "execution_count": 138,
   "id": "featured-saudi",
   "metadata": {},
   "outputs": [],
   "source": [
    "encode = ['header_coff_machine','header_optional_subsystem','header_optional_magic']"
   ]
  },
  {
   "cell_type": "code",
   "execution_count": 139,
   "id": "hourly-stand",
   "metadata": {},
   "outputs": [],
   "source": [
    "take = df_r.columns[df_r.columns.str.startswith('header_')]"
   ]
  },
  {
   "cell_type": "code",
   "execution_count": 63,
   "id": "anonymous-vaccine",
   "metadata": {},
   "outputs": [
    {
     "data": {
      "text/plain": [
       "Index(['header_coff_timestamp', 'header_coff_machine',\n",
       "       'header_coff_characteristics', 'header_optional_subsystem',\n",
       "       'header_optional_dll_characteristics', 'header_optional_magic',\n",
       "       'header_optional_major_image_version',\n",
       "       'header_optional_minor_image_version',\n",
       "       'header_optional_major_linker_version',\n",
       "       'header_optional_minor_linker_version',\n",
       "       'header_optional_major_operating_system_version',\n",
       "       'header_optional_minor_operating_system_version',\n",
       "       'header_optional_major_subsystem_version',\n",
       "       'header_optional_minor_subsystem_version'],\n",
       "      dtype='object')"
      ]
     },
     "execution_count": 63,
     "metadata": {},
     "output_type": "execute_result"
    }
   ],
   "source": [
    "take"
   ]
  },
  {
   "cell_type": "code",
   "execution_count": 140,
   "id": "empty-welcome",
   "metadata": {},
   "outputs": [],
   "source": [
    "take_filtered = [t for t in take if t not in drop]"
   ]
  },
  {
   "cell_type": "code",
   "execution_count": 65,
   "id": "downtown-beauty",
   "metadata": {},
   "outputs": [
    {
     "data": {
      "text/plain": [
       "['header_coff_timestamp',\n",
       " 'header_coff_machine',\n",
       " 'header_optional_subsystem',\n",
       " 'header_optional_magic',\n",
       " 'header_optional_major_image_version',\n",
       " 'header_optional_minor_image_version',\n",
       " 'header_optional_major_linker_version',\n",
       " 'header_optional_minor_linker_version',\n",
       " 'header_optional_major_operating_system_version',\n",
       " 'header_optional_minor_operating_system_version',\n",
       " 'header_optional_major_subsystem_version',\n",
       " 'header_optional_minor_subsystem_version']"
      ]
     },
     "execution_count": 65,
     "metadata": {},
     "output_type": "execute_result"
    }
   ],
   "source": [
    "take_filtered"
   ]
  },
  {
   "cell_type": "code",
   "execution_count": 141,
   "id": "collect-polyester",
   "metadata": {},
   "outputs": [],
   "source": [
    "target = ['label']"
   ]
  },
  {
   "cell_type": "code",
   "execution_count": 142,
   "id": "surface-filling",
   "metadata": {},
   "outputs": [],
   "source": [
    "all_columns = section_columns + take_filtered + target"
   ]
  },
  {
   "cell_type": "code",
   "execution_count": 143,
   "id": "educated-liberia",
   "metadata": {},
   "outputs": [
    {
     "data": {
      "text/plain": [
       "16"
      ]
     },
     "execution_count": 143,
     "metadata": {},
     "output_type": "execute_result"
    }
   ],
   "source": [
    "len(all_columns)"
   ]
  },
  {
   "cell_type": "markdown",
   "id": "adjacent-chassis",
   "metadata": {},
   "source": [
    "### Select columns for further analysis"
   ]
  },
  {
   "cell_type": "code",
   "execution_count": 152,
   "id": "breathing-specialist",
   "metadata": {},
   "outputs": [],
   "source": [
    "df_selected = df_r[all_columns].copy()"
   ]
  },
  {
   "cell_type": "code",
   "execution_count": 153,
   "id": "collaborative-county",
   "metadata": {},
   "outputs": [],
   "source": [
    "# drop NA\n",
    "\n",
    "df_selected.dropna(inplace = True)"
   ]
  },
  {
   "cell_type": "code",
   "execution_count": 107,
   "id": "sporting-referral",
   "metadata": {},
   "outputs": [
    {
     "data": {
      "text/html": [
       "<div>\n",
       "<style scoped>\n",
       "    .dataframe tbody tr th:only-of-type {\n",
       "        vertical-align: middle;\n",
       "    }\n",
       "\n",
       "    .dataframe tbody tr th {\n",
       "        vertical-align: top;\n",
       "    }\n",
       "\n",
       "    .dataframe thead th {\n",
       "        text-align: right;\n",
       "    }\n",
       "</style>\n",
       "<table border=\"1\" class=\"dataframe\">\n",
       "  <thead>\n",
       "    <tr style=\"text-align: right;\">\n",
       "      <th></th>\n",
       "      <th>section_has_non_standard_entry</th>\n",
       "      <th>section_high_entropy_ratio</th>\n",
       "      <th>section_entropy_max</th>\n",
       "      <th>section_has_non_standard_sections_ratio</th>\n",
       "      <th>header_coff_timestamp</th>\n",
       "      <th>header_coff_machine</th>\n",
       "      <th>header_optional_subsystem</th>\n",
       "      <th>header_optional_magic</th>\n",
       "      <th>header_optional_major_image_version</th>\n",
       "      <th>header_optional_minor_image_version</th>\n",
       "      <th>header_optional_major_linker_version</th>\n",
       "      <th>header_optional_minor_linker_version</th>\n",
       "      <th>header_optional_major_operating_system_version</th>\n",
       "      <th>header_optional_minor_operating_system_version</th>\n",
       "      <th>header_optional_major_subsystem_version</th>\n",
       "      <th>header_optional_minor_subsystem_version</th>\n",
       "      <th>label</th>\n",
       "    </tr>\n",
       "  </thead>\n",
       "  <tbody>\n",
       "    <tr>\n",
       "      <th>0</th>\n",
       "      <td>1</td>\n",
       "      <td>0.20</td>\n",
       "      <td>6.19</td>\n",
       "      <td>0.20</td>\n",
       "      <td>1301832471</td>\n",
       "      <td>I386</td>\n",
       "      <td>WINDOWS_GUI</td>\n",
       "      <td>PE32</td>\n",
       "      <td>0</td>\n",
       "      <td>0</td>\n",
       "      <td>2</td>\n",
       "      <td>50</td>\n",
       "      <td>4</td>\n",
       "      <td>0</td>\n",
       "      <td>4</td>\n",
       "      <td>0</td>\n",
       "      <td>1</td>\n",
       "    </tr>\n",
       "    <tr>\n",
       "      <th>1</th>\n",
       "      <td>0</td>\n",
       "      <td>0.40</td>\n",
       "      <td>6.64</td>\n",
       "      <td>0.20</td>\n",
       "      <td>1511340343</td>\n",
       "      <td>I386</td>\n",
       "      <td>WINDOWS_GUI</td>\n",
       "      <td>PE32</td>\n",
       "      <td>0</td>\n",
       "      <td>0</td>\n",
       "      <td>14</td>\n",
       "      <td>11</td>\n",
       "      <td>5</td>\n",
       "      <td>1</td>\n",
       "      <td>5</td>\n",
       "      <td>1</td>\n",
       "      <td>1</td>\n",
       "    </tr>\n",
       "    <tr>\n",
       "      <th>2</th>\n",
       "      <td>0</td>\n",
       "      <td>0.33</td>\n",
       "      <td>6.05</td>\n",
       "      <td>0.00</td>\n",
       "      <td>1510798547</td>\n",
       "      <td>I386</td>\n",
       "      <td>WINDOWS_GUI</td>\n",
       "      <td>PE32</td>\n",
       "      <td>0</td>\n",
       "      <td>0</td>\n",
       "      <td>10</td>\n",
       "      <td>0</td>\n",
       "      <td>5</td>\n",
       "      <td>1</td>\n",
       "      <td>5</td>\n",
       "      <td>1</td>\n",
       "      <td>1</td>\n",
       "    </tr>\n",
       "    <tr>\n",
       "      <th>3</th>\n",
       "      <td>0</td>\n",
       "      <td>1.00</td>\n",
       "      <td>7.85</td>\n",
       "      <td>0.00</td>\n",
       "      <td>1514434785</td>\n",
       "      <td>I386</td>\n",
       "      <td>WINDOWS_GUI</td>\n",
       "      <td>PE32</td>\n",
       "      <td>0</td>\n",
       "      <td>0</td>\n",
       "      <td>5</td>\n",
       "      <td>12</td>\n",
       "      <td>4</td>\n",
       "      <td>0</td>\n",
       "      <td>4</td>\n",
       "      <td>0</td>\n",
       "      <td>1</td>\n",
       "    </tr>\n",
       "    <tr>\n",
       "      <th>4</th>\n",
       "      <td>1</td>\n",
       "      <td>0.25</td>\n",
       "      <td>6.90</td>\n",
       "      <td>0.62</td>\n",
       "      <td>708992537</td>\n",
       "      <td>I386</td>\n",
       "      <td>WINDOWS_GUI</td>\n",
       "      <td>PE32</td>\n",
       "      <td>0</td>\n",
       "      <td>0</td>\n",
       "      <td>2</td>\n",
       "      <td>25</td>\n",
       "      <td>4</td>\n",
       "      <td>0</td>\n",
       "      <td>4</td>\n",
       "      <td>0</td>\n",
       "      <td>1</td>\n",
       "    </tr>\n",
       "  </tbody>\n",
       "</table>\n",
       "</div>"
      ],
      "text/plain": [
       "   section_has_non_standard_entry  section_high_entropy_ratio  section_entropy_max  section_has_non_standard_sections_ratio  header_coff_timestamp header_coff_machine header_optional_subsystem header_optional_magic  header_optional_major_image_version  header_optional_minor_image_version  header_optional_major_linker_version  header_optional_minor_linker_version  header_optional_major_operating_system_version  header_optional_minor_operating_system_version  header_optional_major_subsystem_version  header_optional_minor_subsystem_version  label\n",
       "0                               1                        0.20                 6.19                                     0.20             1301832471                I386               WINDOWS_GUI                  PE32                                    0                                    0                                     2                                    50                                               4                                               0                                        4                                        0      1\n",
       "1                               0                        0.40                 6.64                                     0.20             1511340343                I386               WINDOWS_GUI                  PE32                                    0                                    0                                    14                                    11                                               5                                               1                                        5                                        1      1\n",
       "2                               0                        0.33                 6.05                                     0.00             1510798547                I386               WINDOWS_GUI                  PE32                                    0                                    0                                    10                                     0                                               5                                               1                                        5                                        1      1\n",
       "3                               0                        1.00                 7.85                                     0.00             1514434785                I386               WINDOWS_GUI                  PE32                                    0                                    0                                     5                                    12                                               4                                               0                                        4                                        0      1\n",
       "4                               1                        0.25                 6.90                                     0.62              708992537                I386               WINDOWS_GUI                  PE32                                    0                                    0                                     2                                    25                                               4                                               0                                        4                                        0      1"
      ]
     },
     "execution_count": 107,
     "metadata": {},
     "output_type": "execute_result"
    }
   ],
   "source": [
    "df_selected.head()"
   ]
  },
  {
   "cell_type": "code",
   "execution_count": 83,
   "id": "optional-divide",
   "metadata": {},
   "outputs": [
    {
     "data": {
      "text/html": [
       "<div>\n",
       "<style scoped>\n",
       "    .dataframe tbody tr th:only-of-type {\n",
       "        vertical-align: middle;\n",
       "    }\n",
       "\n",
       "    .dataframe tbody tr th {\n",
       "        vertical-align: top;\n",
       "    }\n",
       "\n",
       "    .dataframe thead th {\n",
       "        text-align: right;\n",
       "    }\n",
       "</style>\n",
       "<table border=\"1\" class=\"dataframe\">\n",
       "  <thead>\n",
       "    <tr style=\"text-align: right;\">\n",
       "      <th></th>\n",
       "      <th>section_has_non_standard_entry</th>\n",
       "      <th>section_high_entropy_ratio</th>\n",
       "      <th>section_entropy_max</th>\n",
       "      <th>section_has_non_standard_sections_ratio</th>\n",
       "      <th>header_coff_timestamp</th>\n",
       "      <th>header_coff_machine</th>\n",
       "      <th>header_optional_subsystem</th>\n",
       "      <th>header_optional_magic</th>\n",
       "      <th>header_optional_major_image_version</th>\n",
       "      <th>header_optional_minor_image_version</th>\n",
       "      <th>header_optional_major_linker_version</th>\n",
       "      <th>header_optional_minor_linker_version</th>\n",
       "      <th>header_optional_major_operating_system_version</th>\n",
       "      <th>header_optional_minor_operating_system_version</th>\n",
       "      <th>header_optional_major_subsystem_version</th>\n",
       "      <th>header_optional_minor_subsystem_version</th>\n",
       "      <th>label</th>\n",
       "    </tr>\n",
       "  </thead>\n",
       "  <tbody>\n",
       "    <tr>\n",
       "      <th>count</th>\n",
       "      <td>3863.000000</td>\n",
       "      <td>3863.000000</td>\n",
       "      <td>3863.000000</td>\n",
       "      <td>3863.000000</td>\n",
       "      <td>3.863000e+03</td>\n",
       "      <td>3863</td>\n",
       "      <td>3863</td>\n",
       "      <td>3863</td>\n",
       "      <td>3863.000000</td>\n",
       "      <td>3863.000000</td>\n",
       "      <td>3863.000000</td>\n",
       "      <td>3863.000000</td>\n",
       "      <td>3863.000000</td>\n",
       "      <td>3863.000000</td>\n",
       "      <td>3863.000000</td>\n",
       "      <td>3863.000000</td>\n",
       "      <td>3863.000000</td>\n",
       "    </tr>\n",
       "    <tr>\n",
       "      <th>unique</th>\n",
       "      <td>NaN</td>\n",
       "      <td>NaN</td>\n",
       "      <td>NaN</td>\n",
       "      <td>NaN</td>\n",
       "      <td>NaN</td>\n",
       "      <td>7</td>\n",
       "      <td>7</td>\n",
       "      <td>2</td>\n",
       "      <td>NaN</td>\n",
       "      <td>NaN</td>\n",
       "      <td>NaN</td>\n",
       "      <td>NaN</td>\n",
       "      <td>NaN</td>\n",
       "      <td>NaN</td>\n",
       "      <td>NaN</td>\n",
       "      <td>NaN</td>\n",
       "      <td>NaN</td>\n",
       "    </tr>\n",
       "    <tr>\n",
       "      <th>top</th>\n",
       "      <td>NaN</td>\n",
       "      <td>NaN</td>\n",
       "      <td>NaN</td>\n",
       "      <td>NaN</td>\n",
       "      <td>NaN</td>\n",
       "      <td>I386</td>\n",
       "      <td>WINDOWS_GUI</td>\n",
       "      <td>PE32</td>\n",
       "      <td>NaN</td>\n",
       "      <td>NaN</td>\n",
       "      <td>NaN</td>\n",
       "      <td>NaN</td>\n",
       "      <td>NaN</td>\n",
       "      <td>NaN</td>\n",
       "      <td>NaN</td>\n",
       "      <td>NaN</td>\n",
       "      <td>NaN</td>\n",
       "    </tr>\n",
       "    <tr>\n",
       "      <th>freq</th>\n",
       "      <td>NaN</td>\n",
       "      <td>NaN</td>\n",
       "      <td>NaN</td>\n",
       "      <td>NaN</td>\n",
       "      <td>NaN</td>\n",
       "      <td>3608</td>\n",
       "      <td>3310</td>\n",
       "      <td>3612</td>\n",
       "      <td>NaN</td>\n",
       "      <td>NaN</td>\n",
       "      <td>NaN</td>\n",
       "      <td>NaN</td>\n",
       "      <td>NaN</td>\n",
       "      <td>NaN</td>\n",
       "      <td>NaN</td>\n",
       "      <td>NaN</td>\n",
       "      <td>NaN</td>\n",
       "    </tr>\n",
       "    <tr>\n",
       "      <th>mean</th>\n",
       "      <td>0.257572</td>\n",
       "      <td>0.281103</td>\n",
       "      <td>6.560379</td>\n",
       "      <td>0.285399</td>\n",
       "      <td>1.295858e+09</td>\n",
       "      <td>NaN</td>\n",
       "      <td>NaN</td>\n",
       "      <td>NaN</td>\n",
       "      <td>29.067823</td>\n",
       "      <td>27.320994</td>\n",
       "      <td>9.007248</td>\n",
       "      <td>8.276469</td>\n",
       "      <td>4.581413</td>\n",
       "      <td>0.278799</td>\n",
       "      <td>4.558115</td>\n",
       "      <td>0.343774</td>\n",
       "      <td>0.500129</td>\n",
       "    </tr>\n",
       "    <tr>\n",
       "      <th>std</th>\n",
       "      <td>0.437354</td>\n",
       "      <td>0.206735</td>\n",
       "      <td>1.053378</td>\n",
       "      <td>0.235684</td>\n",
       "      <td>4.416484e+08</td>\n",
       "      <td>NaN</td>\n",
       "      <td>NaN</td>\n",
       "      <td>NaN</td>\n",
       "      <td>1057.236733</td>\n",
       "      <td>843.862921</td>\n",
       "      <td>8.951793</td>\n",
       "      <td>15.417097</td>\n",
       "      <td>1.510720</td>\n",
       "      <td>0.731891</td>\n",
       "      <td>0.972792</td>\n",
       "      <td>1.344712</td>\n",
       "      <td>0.500065</td>\n",
       "    </tr>\n",
       "    <tr>\n",
       "      <th>min</th>\n",
       "      <td>0.000000</td>\n",
       "      <td>0.000000</td>\n",
       "      <td>0.000000</td>\n",
       "      <td>0.000000</td>\n",
       "      <td>0.000000e+00</td>\n",
       "      <td>NaN</td>\n",
       "      <td>NaN</td>\n",
       "      <td>NaN</td>\n",
       "      <td>0.000000</td>\n",
       "      <td>0.000000</td>\n",
       "      <td>0.000000</td>\n",
       "      <td>0.000000</td>\n",
       "      <td>0.000000</td>\n",
       "      <td>0.000000</td>\n",
       "      <td>0.000000</td>\n",
       "      <td>0.000000</td>\n",
       "      <td>0.000000</td>\n",
       "    </tr>\n",
       "    <tr>\n",
       "      <th>25%</th>\n",
       "      <td>0.000000</td>\n",
       "      <td>0.142857</td>\n",
       "      <td>6.191553</td>\n",
       "      <td>0.142857</td>\n",
       "      <td>1.162456e+09</td>\n",
       "      <td>NaN</td>\n",
       "      <td>NaN</td>\n",
       "      <td>NaN</td>\n",
       "      <td>0.000000</td>\n",
       "      <td>0.000000</td>\n",
       "      <td>6.000000</td>\n",
       "      <td>0.000000</td>\n",
       "      <td>4.000000</td>\n",
       "      <td>0.000000</td>\n",
       "      <td>4.000000</td>\n",
       "      <td>0.000000</td>\n",
       "      <td>0.000000</td>\n",
       "    </tr>\n",
       "    <tr>\n",
       "      <th>50%</th>\n",
       "      <td>0.000000</td>\n",
       "      <td>0.250000</td>\n",
       "      <td>6.610926</td>\n",
       "      <td>0.250000</td>\n",
       "      <td>1.400764e+09</td>\n",
       "      <td>NaN</td>\n",
       "      <td>NaN</td>\n",
       "      <td>NaN</td>\n",
       "      <td>0.000000</td>\n",
       "      <td>0.000000</td>\n",
       "      <td>8.000000</td>\n",
       "      <td>0.000000</td>\n",
       "      <td>4.000000</td>\n",
       "      <td>0.000000</td>\n",
       "      <td>4.000000</td>\n",
       "      <td>0.000000</td>\n",
       "      <td>1.000000</td>\n",
       "    </tr>\n",
       "    <tr>\n",
       "      <th>75%</th>\n",
       "      <td>1.000000</td>\n",
       "      <td>0.400000</td>\n",
       "      <td>7.244529</td>\n",
       "      <td>0.375000</td>\n",
       "      <td>1.518165e+09</td>\n",
       "      <td>NaN</td>\n",
       "      <td>NaN</td>\n",
       "      <td>NaN</td>\n",
       "      <td>1.000000</td>\n",
       "      <td>0.000000</td>\n",
       "      <td>11.000000</td>\n",
       "      <td>12.000000</td>\n",
       "      <td>5.000000</td>\n",
       "      <td>0.000000</td>\n",
       "      <td>5.000000</td>\n",
       "      <td>0.000000</td>\n",
       "      <td>1.000000</td>\n",
       "    </tr>\n",
       "    <tr>\n",
       "      <th>max</th>\n",
       "      <td>1.000000</td>\n",
       "      <td>1.000000</td>\n",
       "      <td>8.000000</td>\n",
       "      <td>1.000000</td>\n",
       "      <td>4.279508e+09</td>\n",
       "      <td>NaN</td>\n",
       "      <td>NaN</td>\n",
       "      <td>NaN</td>\n",
       "      <td>58337.000000</td>\n",
       "      <td>34355.000000</td>\n",
       "      <td>208.000000</td>\n",
       "      <td>255.000000</td>\n",
       "      <td>10.000000</td>\n",
       "      <td>11.000000</td>\n",
       "      <td>10.000000</td>\n",
       "      <td>50.000000</td>\n",
       "      <td>1.000000</td>\n",
       "    </tr>\n",
       "  </tbody>\n",
       "</table>\n",
       "</div>"
      ],
      "text/plain": [
       "        section_has_non_standard_entry  section_high_entropy_ratio  \\\n",
       "count                      3863.000000                 3863.000000   \n",
       "unique                             NaN                         NaN   \n",
       "top                                NaN                         NaN   \n",
       "freq                               NaN                         NaN   \n",
       "mean                          0.257572                    0.281103   \n",
       "std                           0.437354                    0.206735   \n",
       "min                           0.000000                    0.000000   \n",
       "25%                           0.000000                    0.142857   \n",
       "50%                           0.000000                    0.250000   \n",
       "75%                           1.000000                    0.400000   \n",
       "max                           1.000000                    1.000000   \n",
       "\n",
       "        section_entropy_max  section_has_non_standard_sections_ratio  \\\n",
       "count           3863.000000                              3863.000000   \n",
       "unique                  NaN                                      NaN   \n",
       "top                     NaN                                      NaN   \n",
       "freq                    NaN                                      NaN   \n",
       "mean               6.560379                                 0.285399   \n",
       "std                1.053378                                 0.235684   \n",
       "min                0.000000                                 0.000000   \n",
       "25%                6.191553                                 0.142857   \n",
       "50%                6.610926                                 0.250000   \n",
       "75%                7.244529                                 0.375000   \n",
       "max                8.000000                                 1.000000   \n",
       "\n",
       "        header_coff_timestamp header_coff_machine header_optional_subsystem  \\\n",
       "count            3.863000e+03                3863                      3863   \n",
       "unique                    NaN                   7                         7   \n",
       "top                       NaN                I386               WINDOWS_GUI   \n",
       "freq                      NaN                3608                      3310   \n",
       "mean             1.295858e+09                 NaN                       NaN   \n",
       "std              4.416484e+08                 NaN                       NaN   \n",
       "min              0.000000e+00                 NaN                       NaN   \n",
       "25%              1.162456e+09                 NaN                       NaN   \n",
       "50%              1.400764e+09                 NaN                       NaN   \n",
       "75%              1.518165e+09                 NaN                       NaN   \n",
       "max              4.279508e+09                 NaN                       NaN   \n",
       "\n",
       "       header_optional_magic  header_optional_major_image_version  \\\n",
       "count                   3863                          3863.000000   \n",
       "unique                     2                                  NaN   \n",
       "top                     PE32                                  NaN   \n",
       "freq                    3612                                  NaN   \n",
       "mean                     NaN                            29.067823   \n",
       "std                      NaN                          1057.236733   \n",
       "min                      NaN                             0.000000   \n",
       "25%                      NaN                             0.000000   \n",
       "50%                      NaN                             0.000000   \n",
       "75%                      NaN                             1.000000   \n",
       "max                      NaN                         58337.000000   \n",
       "\n",
       "        header_optional_minor_image_version  \\\n",
       "count                           3863.000000   \n",
       "unique                                  NaN   \n",
       "top                                     NaN   \n",
       "freq                                    NaN   \n",
       "mean                              27.320994   \n",
       "std                              843.862921   \n",
       "min                                0.000000   \n",
       "25%                                0.000000   \n",
       "50%                                0.000000   \n",
       "75%                                0.000000   \n",
       "max                            34355.000000   \n",
       "\n",
       "        header_optional_major_linker_version  \\\n",
       "count                            3863.000000   \n",
       "unique                                   NaN   \n",
       "top                                      NaN   \n",
       "freq                                     NaN   \n",
       "mean                                9.007248   \n",
       "std                                 8.951793   \n",
       "min                                 0.000000   \n",
       "25%                                 6.000000   \n",
       "50%                                 8.000000   \n",
       "75%                                11.000000   \n",
       "max                               208.000000   \n",
       "\n",
       "        header_optional_minor_linker_version  \\\n",
       "count                            3863.000000   \n",
       "unique                                   NaN   \n",
       "top                                      NaN   \n",
       "freq                                     NaN   \n",
       "mean                                8.276469   \n",
       "std                                15.417097   \n",
       "min                                 0.000000   \n",
       "25%                                 0.000000   \n",
       "50%                                 0.000000   \n",
       "75%                                12.000000   \n",
       "max                               255.000000   \n",
       "\n",
       "        header_optional_major_operating_system_version  \\\n",
       "count                                      3863.000000   \n",
       "unique                                             NaN   \n",
       "top                                                NaN   \n",
       "freq                                               NaN   \n",
       "mean                                          4.581413   \n",
       "std                                           1.510720   \n",
       "min                                           0.000000   \n",
       "25%                                           4.000000   \n",
       "50%                                           4.000000   \n",
       "75%                                           5.000000   \n",
       "max                                          10.000000   \n",
       "\n",
       "        header_optional_minor_operating_system_version  \\\n",
       "count                                      3863.000000   \n",
       "unique                                             NaN   \n",
       "top                                                NaN   \n",
       "freq                                               NaN   \n",
       "mean                                          0.278799   \n",
       "std                                           0.731891   \n",
       "min                                           0.000000   \n",
       "25%                                           0.000000   \n",
       "50%                                           0.000000   \n",
       "75%                                           0.000000   \n",
       "max                                          11.000000   \n",
       "\n",
       "        header_optional_major_subsystem_version  \\\n",
       "count                               3863.000000   \n",
       "unique                                      NaN   \n",
       "top                                         NaN   \n",
       "freq                                        NaN   \n",
       "mean                                   4.558115   \n",
       "std                                    0.972792   \n",
       "min                                    0.000000   \n",
       "25%                                    4.000000   \n",
       "50%                                    4.000000   \n",
       "75%                                    5.000000   \n",
       "max                                   10.000000   \n",
       "\n",
       "        header_optional_minor_subsystem_version        label  \n",
       "count                               3863.000000  3863.000000  \n",
       "unique                                      NaN          NaN  \n",
       "top                                         NaN          NaN  \n",
       "freq                                        NaN          NaN  \n",
       "mean                                   0.343774     0.500129  \n",
       "std                                    1.344712     0.500065  \n",
       "min                                    0.000000     0.000000  \n",
       "25%                                    0.000000     0.000000  \n",
       "50%                                    0.000000     1.000000  \n",
       "75%                                    0.000000     1.000000  \n",
       "max                                   50.000000     1.000000  "
      ]
     },
     "execution_count": 83,
     "metadata": {},
     "output_type": "execute_result"
    }
   ],
   "source": [
    "df_selected.describe(include = 'all')"
   ]
  },
  {
   "cell_type": "markdown",
   "id": "secure-housing",
   "metadata": {},
   "source": [
    "### Encoding"
   ]
  },
  {
   "cell_type": "code",
   "execution_count": 154,
   "id": "dramatic-discrimination",
   "metadata": {},
   "outputs": [],
   "source": [
    "from sklearn.preprocessing import OrdinalEncoder"
   ]
  },
  {
   "cell_type": "code",
   "execution_count": 155,
   "id": "smaller-protocol",
   "metadata": {},
   "outputs": [],
   "source": [
    "ord_enc = OrdinalEncoder()\n",
    "df_selected[encode] = ord_enc.fit_transform(df_selected[encode])\n"
   ]
  },
  {
   "cell_type": "code",
   "execution_count": 156,
   "id": "military-bumper",
   "metadata": {},
   "outputs": [
    {
     "data": {
      "text/html": [
       "<div>\n",
       "<style scoped>\n",
       "    .dataframe tbody tr th:only-of-type {\n",
       "        vertical-align: middle;\n",
       "    }\n",
       "\n",
       "    .dataframe tbody tr th {\n",
       "        vertical-align: top;\n",
       "    }\n",
       "\n",
       "    .dataframe thead th {\n",
       "        text-align: right;\n",
       "    }\n",
       "</style>\n",
       "<table border=\"1\" class=\"dataframe\">\n",
       "  <thead>\n",
       "    <tr style=\"text-align: right;\">\n",
       "      <th></th>\n",
       "      <th>header_coff_machine</th>\n",
       "      <th>header_optional_subsystem</th>\n",
       "      <th>header_optional_magic</th>\n",
       "    </tr>\n",
       "  </thead>\n",
       "  <tbody>\n",
       "    <tr>\n",
       "      <th>0</th>\n",
       "      <td>4.00</td>\n",
       "      <td>6.00</td>\n",
       "      <td>0.00</td>\n",
       "    </tr>\n",
       "    <tr>\n",
       "      <th>1</th>\n",
       "      <td>4.00</td>\n",
       "      <td>6.00</td>\n",
       "      <td>0.00</td>\n",
       "    </tr>\n",
       "    <tr>\n",
       "      <th>2</th>\n",
       "      <td>4.00</td>\n",
       "      <td>6.00</td>\n",
       "      <td>0.00</td>\n",
       "    </tr>\n",
       "    <tr>\n",
       "      <th>3</th>\n",
       "      <td>4.00</td>\n",
       "      <td>6.00</td>\n",
       "      <td>0.00</td>\n",
       "    </tr>\n",
       "    <tr>\n",
       "      <th>4</th>\n",
       "      <td>4.00</td>\n",
       "      <td>6.00</td>\n",
       "      <td>0.00</td>\n",
       "    </tr>\n",
       "  </tbody>\n",
       "</table>\n",
       "</div>"
      ],
      "text/plain": [
       "   header_coff_machine  header_optional_subsystem  header_optional_magic\n",
       "0                 4.00                       6.00                   0.00\n",
       "1                 4.00                       6.00                   0.00\n",
       "2                 4.00                       6.00                   0.00\n",
       "3                 4.00                       6.00                   0.00\n",
       "4                 4.00                       6.00                   0.00"
      ]
     },
     "execution_count": 156,
     "metadata": {},
     "output_type": "execute_result"
    }
   ],
   "source": [
    "df_selected[encode].head()"
   ]
  },
  {
   "cell_type": "code",
   "execution_count": 90,
   "id": "frank-session",
   "metadata": {},
   "outputs": [
    {
     "data": {
      "text/plain": [
       "[array(['???', 'AMD64', 'ARM', 'ARMNT', 'I386', 'IA64', 'R4000'],\n",
       "       dtype=object),\n",
       " array(['EFI_BOOT_SERVICE_DRIVER', 'EFI_RUNTIME_DRIVER', 'NATIVE',\n",
       "        'WINDOWS_BOOT_APPLICATION', 'WINDOWS_CE_GUI', 'WINDOWS_CUI',\n",
       "        'WINDOWS_GUI'], dtype=object),\n",
       " array(['PE32', 'PE32_PLUS'], dtype=object)]"
      ]
     },
     "execution_count": 90,
     "metadata": {},
     "output_type": "execute_result"
    }
   ],
   "source": [
    "ord_enc.categories_"
   ]
  },
  {
   "cell_type": "code",
   "execution_count": 102,
   "id": "ultimate-collaboration",
   "metadata": {},
   "outputs": [
    {
     "data": {
      "text/plain": [
       "section_has_non_standard_entry                                    0.19\n",
       "section_high_entropy_ratio                                        0.04\n",
       "section_entropy_max                                               1.11\n",
       "section_has_non_standard_sections_ratio                           0.06\n",
       "header_coff_timestamp                            195053305902354496.00\n",
       "header_coff_machine                                               0.55\n",
       "header_optional_subsystem                                         0.37\n",
       "header_optional_magic                                             0.06\n",
       "header_optional_major_image_version                         1117749.51\n",
       "header_optional_minor_image_version                          712104.63\n",
       "header_optional_major_linker_version                             80.13\n",
       "header_optional_minor_linker_version                            237.69\n",
       "header_optional_major_operating_system_version                    2.28\n",
       "header_optional_minor_operating_system_version                    0.54\n",
       "header_optional_major_subsystem_version                           0.95\n",
       "header_optional_minor_subsystem_version                           1.81\n",
       "label                                                             0.25\n",
       "header_coff_timestamp_scaled                                      1.00\n",
       "header_coff_timestamp_log                                          NaN\n",
       "dtype: float64"
      ]
     },
     "execution_count": 102,
     "metadata": {},
     "output_type": "execute_result"
    }
   ],
   "source": []
  },
  {
   "cell_type": "markdown",
   "id": "pressed-graph",
   "metadata": {},
   "source": [
    "### Scaling"
   ]
  },
  {
   "cell_type": "code",
   "execution_count": 157,
   "id": "expired-demand",
   "metadata": {},
   "outputs": [],
   "source": [
    "from sklearn import preprocessing"
   ]
  },
  {
   "cell_type": "code",
   "execution_count": 158,
   "id": "mature-chosen",
   "metadata": {},
   "outputs": [
    {
     "data": {
      "text/html": [
       "<div>\n",
       "<style scoped>\n",
       "    .dataframe tbody tr th:only-of-type {\n",
       "        vertical-align: middle;\n",
       "    }\n",
       "\n",
       "    .dataframe tbody tr th {\n",
       "        vertical-align: top;\n",
       "    }\n",
       "\n",
       "    .dataframe thead th {\n",
       "        text-align: right;\n",
       "    }\n",
       "</style>\n",
       "<table border=\"1\" class=\"dataframe\">\n",
       "  <thead>\n",
       "    <tr style=\"text-align: right;\">\n",
       "      <th></th>\n",
       "      <th>section_has_non_standard_entry</th>\n",
       "      <th>section_high_entropy_ratio</th>\n",
       "      <th>section_entropy_max</th>\n",
       "      <th>section_has_non_standard_sections_ratio</th>\n",
       "      <th>header_coff_machine</th>\n",
       "      <th>header_optional_subsystem</th>\n",
       "      <th>header_optional_magic</th>\n",
       "      <th>header_optional_major_image_version</th>\n",
       "      <th>header_optional_minor_image_version</th>\n",
       "      <th>header_optional_major_linker_version</th>\n",
       "      <th>header_optional_minor_linker_version</th>\n",
       "      <th>header_optional_major_operating_system_version</th>\n",
       "      <th>header_optional_minor_operating_system_version</th>\n",
       "      <th>header_optional_major_subsystem_version</th>\n",
       "      <th>header_optional_minor_subsystem_version</th>\n",
       "      <th>label</th>\n",
       "    </tr>\n",
       "  </thead>\n",
       "  <tbody>\n",
       "    <tr>\n",
       "      <th>count</th>\n",
       "      <td>3863.00</td>\n",
       "      <td>3863.00</td>\n",
       "      <td>3863.00</td>\n",
       "      <td>3863.00</td>\n",
       "      <td>3863.00</td>\n",
       "      <td>3863.00</td>\n",
       "      <td>3863.00</td>\n",
       "      <td>3863.00</td>\n",
       "      <td>3863.00</td>\n",
       "      <td>3863.00</td>\n",
       "      <td>3863.00</td>\n",
       "      <td>3863.00</td>\n",
       "      <td>3863.00</td>\n",
       "      <td>3863.00</td>\n",
       "      <td>3863.00</td>\n",
       "      <td>3863.00</td>\n",
       "    </tr>\n",
       "    <tr>\n",
       "      <th>mean</th>\n",
       "      <td>0.26</td>\n",
       "      <td>0.28</td>\n",
       "      <td>6.56</td>\n",
       "      <td>0.29</td>\n",
       "      <td>3.81</td>\n",
       "      <td>5.81</td>\n",
       "      <td>0.06</td>\n",
       "      <td>29.07</td>\n",
       "      <td>27.32</td>\n",
       "      <td>9.01</td>\n",
       "      <td>8.28</td>\n",
       "      <td>4.58</td>\n",
       "      <td>0.28</td>\n",
       "      <td>4.56</td>\n",
       "      <td>0.34</td>\n",
       "      <td>0.50</td>\n",
       "    </tr>\n",
       "    <tr>\n",
       "      <th>std</th>\n",
       "      <td>0.44</td>\n",
       "      <td>0.21</td>\n",
       "      <td>1.05</td>\n",
       "      <td>0.24</td>\n",
       "      <td>0.74</td>\n",
       "      <td>0.61</td>\n",
       "      <td>0.25</td>\n",
       "      <td>1057.24</td>\n",
       "      <td>843.86</td>\n",
       "      <td>8.95</td>\n",
       "      <td>15.42</td>\n",
       "      <td>1.51</td>\n",
       "      <td>0.73</td>\n",
       "      <td>0.97</td>\n",
       "      <td>1.34</td>\n",
       "      <td>0.50</td>\n",
       "    </tr>\n",
       "    <tr>\n",
       "      <th>min</th>\n",
       "      <td>0.00</td>\n",
       "      <td>0.00</td>\n",
       "      <td>0.00</td>\n",
       "      <td>0.00</td>\n",
       "      <td>0.00</td>\n",
       "      <td>0.00</td>\n",
       "      <td>0.00</td>\n",
       "      <td>0.00</td>\n",
       "      <td>0.00</td>\n",
       "      <td>0.00</td>\n",
       "      <td>0.00</td>\n",
       "      <td>0.00</td>\n",
       "      <td>0.00</td>\n",
       "      <td>0.00</td>\n",
       "      <td>0.00</td>\n",
       "      <td>0.00</td>\n",
       "    </tr>\n",
       "    <tr>\n",
       "      <th>25%</th>\n",
       "      <td>0.00</td>\n",
       "      <td>0.14</td>\n",
       "      <td>6.19</td>\n",
       "      <td>0.14</td>\n",
       "      <td>4.00</td>\n",
       "      <td>6.00</td>\n",
       "      <td>0.00</td>\n",
       "      <td>0.00</td>\n",
       "      <td>0.00</td>\n",
       "      <td>6.00</td>\n",
       "      <td>0.00</td>\n",
       "      <td>4.00</td>\n",
       "      <td>0.00</td>\n",
       "      <td>4.00</td>\n",
       "      <td>0.00</td>\n",
       "      <td>0.00</td>\n",
       "    </tr>\n",
       "    <tr>\n",
       "      <th>50%</th>\n",
       "      <td>0.00</td>\n",
       "      <td>0.25</td>\n",
       "      <td>6.61</td>\n",
       "      <td>0.25</td>\n",
       "      <td>4.00</td>\n",
       "      <td>6.00</td>\n",
       "      <td>0.00</td>\n",
       "      <td>0.00</td>\n",
       "      <td>0.00</td>\n",
       "      <td>8.00</td>\n",
       "      <td>0.00</td>\n",
       "      <td>4.00</td>\n",
       "      <td>0.00</td>\n",
       "      <td>4.00</td>\n",
       "      <td>0.00</td>\n",
       "      <td>1.00</td>\n",
       "    </tr>\n",
       "    <tr>\n",
       "      <th>75%</th>\n",
       "      <td>1.00</td>\n",
       "      <td>0.40</td>\n",
       "      <td>7.24</td>\n",
       "      <td>0.38</td>\n",
       "      <td>4.00</td>\n",
       "      <td>6.00</td>\n",
       "      <td>0.00</td>\n",
       "      <td>1.00</td>\n",
       "      <td>0.00</td>\n",
       "      <td>11.00</td>\n",
       "      <td>12.00</td>\n",
       "      <td>5.00</td>\n",
       "      <td>0.00</td>\n",
       "      <td>5.00</td>\n",
       "      <td>0.00</td>\n",
       "      <td>1.00</td>\n",
       "    </tr>\n",
       "    <tr>\n",
       "      <th>max</th>\n",
       "      <td>1.00</td>\n",
       "      <td>1.00</td>\n",
       "      <td>8.00</td>\n",
       "      <td>1.00</td>\n",
       "      <td>6.00</td>\n",
       "      <td>6.00</td>\n",
       "      <td>1.00</td>\n",
       "      <td>58337.00</td>\n",
       "      <td>34355.00</td>\n",
       "      <td>208.00</td>\n",
       "      <td>255.00</td>\n",
       "      <td>10.00</td>\n",
       "      <td>11.00</td>\n",
       "      <td>10.00</td>\n",
       "      <td>50.00</td>\n",
       "      <td>1.00</td>\n",
       "    </tr>\n",
       "  </tbody>\n",
       "</table>\n",
       "</div>"
      ],
      "text/plain": [
       "       section_has_non_standard_entry  section_high_entropy_ratio  section_entropy_max  section_has_non_standard_sections_ratio  header_coff_machine  header_optional_subsystem  header_optional_magic  header_optional_major_image_version  header_optional_minor_image_version  header_optional_major_linker_version  header_optional_minor_linker_version  header_optional_major_operating_system_version  header_optional_minor_operating_system_version  header_optional_major_subsystem_version  header_optional_minor_subsystem_version   label\n",
       "count                         3863.00                     3863.00              3863.00                                  3863.00              3863.00                    3863.00                3863.00                              3863.00                              3863.00                               3863.00                               3863.00                                         3863.00                                         3863.00                                  3863.00                                  3863.00 3863.00\n",
       "mean                             0.26                        0.28                 6.56                                     0.29                 3.81                       5.81                   0.06                                29.07                                27.32                                  9.01                                  8.28                                            4.58                                            0.28                                     4.56                                     0.34    0.50\n",
       "std                              0.44                        0.21                 1.05                                     0.24                 0.74                       0.61                   0.25                              1057.24                               843.86                                  8.95                                 15.42                                            1.51                                            0.73                                     0.97                                     1.34    0.50\n",
       "min                              0.00                        0.00                 0.00                                     0.00                 0.00                       0.00                   0.00                                 0.00                                 0.00                                  0.00                                  0.00                                            0.00                                            0.00                                     0.00                                     0.00    0.00\n",
       "25%                              0.00                        0.14                 6.19                                     0.14                 4.00                       6.00                   0.00                                 0.00                                 0.00                                  6.00                                  0.00                                            4.00                                            0.00                                     4.00                                     0.00    0.00\n",
       "50%                              0.00                        0.25                 6.61                                     0.25                 4.00                       6.00                   0.00                                 0.00                                 0.00                                  8.00                                  0.00                                            4.00                                            0.00                                     4.00                                     0.00    1.00\n",
       "75%                              1.00                        0.40                 7.24                                     0.38                 4.00                       6.00                   0.00                                 1.00                                 0.00                                 11.00                                 12.00                                            5.00                                            0.00                                     5.00                                     0.00    1.00\n",
       "max                              1.00                        1.00                 8.00                                     1.00                 6.00                       6.00                   1.00                             58337.00                             34355.00                                208.00                                255.00                                           10.00                                           11.00                                    10.00                                    50.00    1.00"
      ]
     },
     "execution_count": 158,
     "metadata": {},
     "output_type": "execute_result"
    }
   ],
   "source": [
    "df_selected.describe()"
   ]
  },
  {
   "cell_type": "code",
   "execution_count": 159,
   "id": "informative-manual",
   "metadata": {},
   "outputs": [],
   "source": [
    "to_scale = ['header_optional_major_image_version',\n",
    "'header_optional_minor_image_version',                          \n",
    "'header_optional_major_linker_version',                 \n",
    "'header_optional_minor_linker_version']"
   ]
  },
  {
   "cell_type": "code",
   "execution_count": 160,
   "id": "available-alignment",
   "metadata": {},
   "outputs": [],
   "source": [
    "for c in to_scale:\n",
    "    df_selected[c + '_scaled'] = preprocessing.scale(df_selected[c])"
   ]
  },
  {
   "cell_type": "code",
   "execution_count": 161,
   "id": "fluid-leonard",
   "metadata": {},
   "outputs": [
    {
     "data": {
      "text/plain": [
       "section_has_non_standard_entry                         0.19\n",
       "section_high_entropy_ratio                             0.04\n",
       "section_entropy_max                                    1.11\n",
       "section_has_non_standard_sections_ratio                0.06\n",
       "header_coff_machine                                    0.55\n",
       "header_optional_subsystem                              0.37\n",
       "header_optional_magic                                  0.06\n",
       "header_optional_major_image_version              1117749.51\n",
       "header_optional_minor_image_version               712104.63\n",
       "header_optional_major_linker_version                  80.13\n",
       "header_optional_minor_linker_version                 237.69\n",
       "header_optional_major_operating_system_version         2.28\n",
       "header_optional_minor_operating_system_version         0.54\n",
       "header_optional_major_subsystem_version                0.95\n",
       "header_optional_minor_subsystem_version                1.81\n",
       "label                                                  0.25\n",
       "header_optional_major_image_version_scaled             1.00\n",
       "header_optional_minor_image_version_scaled             1.00\n",
       "header_optional_major_linker_version_scaled            1.00\n",
       "header_optional_minor_linker_version_scaled            1.00\n",
       "dtype: float64"
      ]
     },
     "execution_count": 161,
     "metadata": {},
     "output_type": "execute_result"
    }
   ],
   "source": [
    "df_selected.var()"
   ]
  },
  {
   "cell_type": "code",
   "execution_count": 163,
   "id": "weird-packaging",
   "metadata": {},
   "outputs": [],
   "source": [
    "df_selected.drop(to_scale, axis = 1, inplace = True)"
   ]
  },
  {
   "cell_type": "code",
   "execution_count": 164,
   "id": "nearby-hurricane",
   "metadata": {},
   "outputs": [],
   "source": [
    "X = df_selected.drop('label', axis = 1)"
   ]
  },
  {
   "cell_type": "code",
   "execution_count": 165,
   "id": "inside-regular",
   "metadata": {},
   "outputs": [],
   "source": [
    "y = df_selected['label']"
   ]
  },
  {
   "cell_type": "code",
   "execution_count": null,
   "id": "specific-junction",
   "metadata": {},
   "outputs": [],
   "source": []
  },
  {
   "cell_type": "code",
   "execution_count": 169,
   "id": "flush-portfolio",
   "metadata": {},
   "outputs": [],
   "source": [
    "correlation = X.corr()"
   ]
  },
  {
   "cell_type": "code",
   "execution_count": 170,
   "id": "silent-milwaukee",
   "metadata": {},
   "outputs": [
    {
     "data": {
      "text/plain": [
       "<AxesSubplot:>"
      ]
     },
     "execution_count": 170,
     "metadata": {},
     "output_type": "execute_result"
    },
    {
     "data": {
      "image/png": "[encoded data removed]",
      "text/plain": [
       "<Figure size 432x288 with 2 Axes>"
      ]
     },
     "metadata": {
      "needs_background": "light"
     },
     "output_type": "display_data"
    }
   ],
   "source": [
    "sns.heatmap(correlation)"
   ]
  },
  {
   "cell_type": "markdown",
   "id": "tested-yeast",
   "metadata": {},
   "source": [
    "### Feature selection"
   ]
  },
  {
   "cell_type": "code",
   "execution_count": 177,
   "id": "incoming-fight",
   "metadata": {},
   "outputs": [],
   "source": [
    "from sklearn.feature_selection import SelectKBest, f_classif, mutual_info_classif"
   ]
  },
  {
   "cell_type": "code",
   "execution_count": 267,
   "id": "realistic-target",
   "metadata": {},
   "outputs": [
    {
     "ename": "TypeError",
     "evalue": "__init__() got an unexpected keyword argument 'K'",
     "output_type": "error",
     "traceback": [
      "\u001b[0;31m---------------------------------------------------------------------------\u001b[0m",
      "\u001b[0;31mTypeError\u001b[0m                                 Traceback (most recent call last)",
      "\u001b[0;32m<ipython-input-267-5531e92400d2>\u001b[0m in \u001b[0;36m<module>\u001b[0;34m\u001b[0m\n\u001b[0;32m----> 1\u001b[0;31m \u001b[0mkbest\u001b[0m \u001b[0;34m=\u001b[0m \u001b[0mSelectKBest\u001b[0m\u001b[0;34m(\u001b[0m\u001b[0mf_classif\u001b[0m\u001b[0;34m,\u001b[0m \u001b[0mK\u001b[0m\u001b[0;34m=\u001b[0m\u001b[0;36m5\u001b[0m\u001b[0;34m)\u001b[0m\u001b[0;34m\u001b[0m\u001b[0;34m\u001b[0m\u001b[0m\n\u001b[0m\u001b[1;32m      2\u001b[0m \u001b[0;34m\u001b[0m\u001b[0m\n",
      "\u001b[0;32m~/opt/anaconda3/envs/cyber/lib/python3.7/site-packages/sklearn/utils/validation.py\u001b[0m in \u001b[0;36minner_f\u001b[0;34m(*args, **kwargs)\u001b[0m\n\u001b[1;32m     61\u001b[0m             \u001b[0mextra_args\u001b[0m \u001b[0;34m=\u001b[0m \u001b[0mlen\u001b[0m\u001b[0;34m(\u001b[0m\u001b[0margs\u001b[0m\u001b[0;34m)\u001b[0m \u001b[0;34m-\u001b[0m \u001b[0mlen\u001b[0m\u001b[0;34m(\u001b[0m\u001b[0mall_args\u001b[0m\u001b[0;34m)\u001b[0m\u001b[0;34m\u001b[0m\u001b[0;34m\u001b[0m\u001b[0m\n\u001b[1;32m     62\u001b[0m             \u001b[0;32mif\u001b[0m \u001b[0mextra_args\u001b[0m \u001b[0;34m<=\u001b[0m \u001b[0;36m0\u001b[0m\u001b[0;34m:\u001b[0m\u001b[0;34m\u001b[0m\u001b[0;34m\u001b[0m\u001b[0m\n\u001b[0;32m---> 63\u001b[0;31m                 \u001b[0;32mreturn\u001b[0m \u001b[0mf\u001b[0m\u001b[0;34m(\u001b[0m\u001b[0;34m*\u001b[0m\u001b[0margs\u001b[0m\u001b[0;34m,\u001b[0m \u001b[0;34m**\u001b[0m\u001b[0mkwargs\u001b[0m\u001b[0;34m)\u001b[0m\u001b[0;34m\u001b[0m\u001b[0;34m\u001b[0m\u001b[0m\n\u001b[0m\u001b[1;32m     64\u001b[0m \u001b[0;34m\u001b[0m\u001b[0m\n\u001b[1;32m     65\u001b[0m             \u001b[0;31m# extra_args > 0\u001b[0m\u001b[0;34m\u001b[0m\u001b[0;34m\u001b[0m\u001b[0;34m\u001b[0m\u001b[0m\n",
      "\u001b[0;31mTypeError\u001b[0m: __init__() got an unexpected keyword argument 'K'"
     ]
    }
   ],
   "source": [
    "kbest = SelectKBest(f_classif, K=5)\n",
    "\n"
   ]
  },
  {
   "cell_type": "code",
   "execution_count": 178,
   "id": "hollow-silicon",
   "metadata": {},
   "outputs": [
    {
     "data": {
      "text/plain": [
       "SelectKBest()"
      ]
     },
     "execution_count": 178,
     "metadata": {},
     "output_type": "execute_result"
    }
   ],
   "source": [
    "kbest.fit(X,y)"
   ]
  },
  {
   "cell_type": "code",
   "execution_count": 180,
   "id": "clear-compensation",
   "metadata": {},
   "outputs": [
    {
     "data": {
      "text/plain": [
       "array([ 61.03989355, 394.39343284, 531.90582574, 143.21485021,\n",
       "       182.52896947, 272.57703055, 183.97750392, 106.62766342,\n",
       "         8.5292233 ,  68.63016916,   7.87582067,   2.70142694,\n",
       "         3.96386248,  29.44421408,  83.88891866])"
      ]
     },
     "execution_count": 180,
     "metadata": {},
     "output_type": "execute_result"
    }
   ],
   "source": [
    "kbest.scores_"
   ]
  },
  {
   "cell_type": "code",
   "execution_count": 214,
   "id": "industrial-kuwait",
   "metadata": {},
   "outputs": [],
   "source": [
    "labels = X.columns"
   ]
  },
  {
   "cell_type": "code",
   "execution_count": 215,
   "id": "previous-gospel",
   "metadata": {},
   "outputs": [],
   "source": [
    "values = kbest.scores_"
   ]
  },
  {
   "cell_type": "code",
   "execution_count": 212,
   "id": "beautiful-petroleum",
   "metadata": {},
   "outputs": [
    {
     "data": {
      "text/plain": [
       "15"
      ]
     },
     "execution_count": 212,
     "metadata": {},
     "output_type": "execute_result"
    }
   ],
   "source": [
    "len(values)"
   ]
  },
  {
   "cell_type": "code",
   "execution_count": 213,
   "id": "planned-bumper",
   "metadata": {},
   "outputs": [
    {
     "data": {
      "text/plain": [
       "array([ 61.03989355, 394.39343284, 531.90582574, 143.21485021,\n",
       "       182.52896947, 272.57703055, 183.97750392, 106.62766342,\n",
       "         8.5292233 ,  68.63016916,   7.87582067,   2.70142694,\n",
       "         3.96386248,  29.44421408,  83.88891866])"
      ]
     },
     "execution_count": 213,
     "metadata": {},
     "output_type": "execute_result"
    }
   ],
   "source": [
    "values"
   ]
  },
  {
   "cell_type": "code",
   "execution_count": null,
   "id": "closing-accused",
   "metadata": {},
   "outputs": [],
   "source": [
    "kbest"
   ]
  },
  {
   "cell_type": "code",
   "execution_count": 229,
   "id": "phantom-computer",
   "metadata": {},
   "outputs": [],
   "source": [
    "scores = pd.DataFrame(values, index=labels, columns = ['col'])"
   ]
  },
  {
   "cell_type": "code",
   "execution_count": 235,
   "id": "nominated-journalist",
   "metadata": {},
   "outputs": [
    {
     "data": {
      "text/plain": [
       "<AxesSubplot:>"
      ]
     },
     "execution_count": 235,
     "metadata": {},
     "output_type": "execute_result"
    },
    {
     "data": {
      "image/png": "[encoded data removed]",
      "text/plain": [
       "<Figure size 432x288 with 1 Axes>"
      ]
     },
     "metadata": {
      "needs_background": "light"
     },
     "output_type": "display_data"
    }
   ],
   "source": [
    "scores.sort_values('col',ascending = True).plot(kind='barh')"
   ]
  },
  {
   "cell_type": "markdown",
   "id": "liable-nirvana",
   "metadata": {},
   "source": [
    "## Model"
   ]
  },
  {
   "cell_type": "code",
   "execution_count": 259,
   "id": "alleged-principal",
   "metadata": {},
   "outputs": [],
   "source": [
    "from sklearn.svm import SVC\n",
    "from sklearn.metrics import accuracy_score\n",
    "from sklearn.model_selection import train_test_split\n",
    "from sklearn.model_selection import GridSearchCV\n",
    "from sklearn.model_selection import cross_val_score, cross_val_predict"
   ]
  },
  {
   "cell_type": "code",
   "execution_count": 268,
   "id": "fifty-pension",
   "metadata": {},
   "outputs": [],
   "source": [
    "X2 = kbest.fit_transform(X,y)"
   ]
  },
  {
   "cell_type": "code",
   "execution_count": 241,
   "id": "regulated-peripheral",
   "metadata": {},
   "outputs": [
    {
     "data": {
      "text/plain": [
       "(3863, 10)"
      ]
     },
     "execution_count": 241,
     "metadata": {},
     "output_type": "execute_result"
    }
   ],
   "source": [
    "X2.shape"
   ]
  },
  {
   "cell_type": "code",
   "execution_count": 287,
   "id": "suspended-implement",
   "metadata": {},
   "outputs": [],
   "source": [
    "clf = SVC(C=12,gamma = 50)"
   ]
  },
  {
   "cell_type": "code",
   "execution_count": null,
   "id": "extraordinary-worst",
   "metadata": {},
   "outputs": [],
   "source": []
  },
  {
   "cell_type": "code",
   "execution_count": 288,
   "id": "proof-allergy",
   "metadata": {},
   "outputs": [],
   "source": [
    "X_train, X_test, y_train, y_test = train_test_split(X2, y, test_size=0.2, random_state=42)"
   ]
  },
  {
   "cell_type": "code",
   "execution_count": 289,
   "id": "collect-smooth",
   "metadata": {},
   "outputs": [
    {
     "data": {
      "text/plain": [
       "SVC(C=12, gamma=50)"
      ]
     },
     "execution_count": 289,
     "metadata": {},
     "output_type": "execute_result"
    }
   ],
   "source": [
    "clf.fit(X_train, y_train)   "
   ]
  },
  {
   "cell_type": "code",
   "execution_count": 290,
   "id": "wanted-cheat",
   "metadata": {},
   "outputs": [
    {
     "data": {
      "text/plain": [
       "0.7425614489003881"
      ]
     },
     "execution_count": 290,
     "metadata": {},
     "output_type": "execute_result"
    }
   ],
   "source": [
    "accuracy_score(y_test,clf.predict(X_test)) "
   ]
  },
  {
   "cell_type": "code",
   "execution_count": 251,
   "id": "planned-owner",
   "metadata": {},
   "outputs": [],
   "source": [
    "params = [0.001,0.01,0.05,0.1 ,0.5,1 ,4]"
   ]
  },
  {
   "cell_type": "code",
   "execution_count": 285,
   "id": "everyday-portsmouth",
   "metadata": {},
   "outputs": [],
   "source": [
    "params = [10,12,15,50]"
   ]
  },
  {
   "cell_type": "code",
   "execution_count": 286,
   "id": "first-panama",
   "metadata": {},
   "outputs": [
    {
     "name": "stdout",
     "output_type": "stream",
     "text": [
      "{'C': 12, 'gamma': 50}\n"
     ]
    }
   ],
   "source": [
    "gsc = GridSearchCV(estimator=SVC(kernel='rbf'), param_grid={'C': params,'gamma': params})\n",
    "gsc.fit(X_train,y_train)\n",
    "\n",
    "\n",
    "print(gsc.best_params_)\n"
   ]
  },
  {
   "cell_type": "code",
   "execution_count": 291,
   "id": "directed-regulation",
   "metadata": {},
   "outputs": [
    {
     "name": "stdout",
     "output_type": "stream",
     "text": [
      "[0.77777778 0.68992248 0.65284974 0.69430052 0.77202073]\n",
      "Mean 5-Fold R Squared: 0.7173742485707783\n"
     ]
    }
   ],
   "source": [
    "\n",
    "cv_r2_scores_rf = cross_val_score(clf, X2, y, cv=5,scoring='recall')\n",
    "print(cv_r2_scores_rf)\n",
    "print(\"Mean 5-Fold R Squared: {}\".format(np.mean(cv_r2_scores_rf)))"
   ]
  },
  {
   "cell_type": "code",
   "execution_count": null,
   "id": "severe-celtic",
   "metadata": {},
   "outputs": [],
   "source": []
  }
 ],
 "metadata": {
  "kernelspec": {
   "display_name": "cyber",
   "language": "python",
   "name": "cyber"
  },
  "language_info": {
   "codemirror_mode": {
    "name": "ipython",
    "version": 3
   },
   "file_extension": ".py",
   "mimetype": "text/x-python",
   "name": "python",
   "nbconvert_exporter": "python",
   "pygments_lexer": "ipython3",
   "version": "3.7.9"
  }
 },
 "nbformat": 4,
 "nbformat_minor": 5
}
