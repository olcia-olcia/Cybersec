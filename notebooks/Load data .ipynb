{
 "cells": [
  {
   "cell_type": "code",
   "execution_count": 1,
   "metadata": {},
   "outputs": [],
   "source": [
    "import os\n",
    "os.chdir('..')\n"
   ]
  },
  {
   "cell_type": "code",
   "execution_count": 2,
   "metadata": {},
   "outputs": [],
   "source": [
    "from cybersec_pkg.cybersec_pkg.FlatData import *\n",
    "from cybersec_pkg.cybersec_pkg.TransformData import *\n"
   ]
  },
  {
   "cell_type": "code",
   "execution_count": 3,
   "metadata": {},
   "outputs": [],
   "source": [
    "# 1. read datas\n",
    "data_path = 'notebooks/sample_data_6k.jsonl'\n",
    "data = read_data(data_path, limiter=100)"
   ]
  },
  {
   "cell_type": "code",
   "execution_count": 4,
   "metadata": {},
   "outputs": [],
   "source": [
    "\n",
    "# 2. iterate over dataset\n",
    "flatten_dataset = []\n",
    "for sample in data:\n",
    "    # version 1 dummy way\n",
    "    # flat = flatten_json(sample)\n",
    "    # flatten_dataset.append(flat)\n",
    "    # collect transformed values for each sample\n",
    "\n",
    "    # version 2\n",
    "    transformed = {}\n",
    "\n",
    "    transformed.update(get_simple_column(sample))\n",
    "    transformed.update(get_simple_list_from_column(sample))\n",
    "    transformed.update(get_features_from_dict_column(sample, columns = \"strings\"))\n",
    "    transformed.update(get_features_from_dict_column(sample, columns = \"general\"))\n",
    "    transformed.update(get_features_from_dict_column(sample, columns = \"imports\"))\n",
    "    transformed.update(get_features_from_header(sample))\n",
    "    transformed.update(get_features_from_section(sample))\n",
    "    transformed.update(get_features_from_datadirectories(sample))\n",
    "\n",
    "\n",
    "    # here we fill with transform data\n",
    "    flatten_dataset.append(transformed)\n",
    "\n",
    "\n"
   ]
  },
  {
   "cell_type": "code",
   "execution_count": 5,
   "metadata": {},
   "outputs": [],
   "source": [
    "# change all transformed dataset to dataframe object\n",
    "\n",
    "df_flat = pd.DataFrame(flatten_dataset)\n"
   ]
  },
  {
   "cell_type": "code",
   "execution_count": 17,
   "metadata": {},
   "outputs": [],
   "source": [
    "# dimension reduced from 202 to 6\n",
    "df_section = transform_section(df_flat)"
   ]
  },
  {
   "cell_type": "code",
   "execution_count": 14,
   "metadata": {},
   "outputs": [],
   "source": [
    "# nothing reduced, this will be reduced in 2nd phase\n",
    "df_header = df_flat[df_flat.columns[df_flat.columns.str.startswith('header_')]].copy()"
   ]
  },
  {
   "cell_type": "code",
   "execution_count": 18,
   "metadata": {},
   "outputs": [],
   "source": [
    "final = pd.concat([df_section, df_header], axis = 1)"
   ]
  },
  {
   "cell_type": "code",
   "execution_count": null,
   "metadata": {},
   "outputs": [],
   "source": []
  }
 ],
 "metadata": {
  "kernelspec": {
   "display_name": "cyber",
   "language": "python",
   "name": "cyber"
  },
  "language_info": {
   "codemirror_mode": {
    "name": "ipython",
    "version": 3
   },
   "file_extension": ".py",
   "mimetype": "text/x-python",
   "name": "python",
   "nbconvert_exporter": "python",
   "pygments_lexer": "ipython3",
   "version": "3.7.9"
  }
 },
 "nbformat": 4,
 "nbformat_minor": 4
}
